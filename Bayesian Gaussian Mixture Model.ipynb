{
 "cells": [
  {
   "cell_type": "markdown",
   "metadata": {},
   "source": [
    "## Import necessary packages"
   ]
  },
  {
   "cell_type": "code",
   "execution_count": 4,
   "metadata": {},
   "outputs": [],
   "source": [
    "## Import necessary packages\n",
    "import pandas as pd\n",
    "import numpy as np\n",
    "import matplotlib.pyplot as plt \n",
    "\n",
    "from sklearn.mixture import BayesianGaussianMixture\n",
    "\n",
    "from sklearn.feature_extraction.text import CountVectorizer\n",
    "from sklearn.preprocessing import normalize\n",
    "from scipy.stats import multivariate_normal"
   ]
  },
  {
   "cell_type": "markdown",
   "metadata": {},
   "source": [
    "## Load Wikipedia data and extract TF-IDF features"
   ]
  },
  {
   "cell_type": "code",
   "execution_count": 5,
   "metadata": {},
   "outputs": [],
   "source": [
    "wiki = pd.read_csv('people_wiki.csv')"
   ]
  },
  {
   "cell_type": "code",
   "execution_count": 10,
   "metadata": {},
   "outputs": [],
   "source": [
    "wiki = wiki.rename(columns = {'name':'Person_name', 'text':'Person_text'})\n",
    "documents = wiki['Person_text']"
   ]
  },
  {
   "cell_type": "code",
   "execution_count": 11,
   "metadata": {},
   "outputs": [
    {
     "data": {
      "text/plain": [
       "0       choclate allen born june 19 1993 is a child ac...\n",
       "1       nikki walker born 5 march 1982 in aberdeen is ...\n",
       "2       philip haas born 1954 is an american artist sc...\n",
       "3       kevin rubio born december 20 1967 is an americ...\n",
       "4       franoisxavier roth born 6 november 1971 paris ...\n",
       "                              ...                        \n",
       "1465    olari elts born april 27 1971 in tallinn eston...\n",
       "1466    scott francis crago born july 26 1963 twin bro...\n",
       "1467    david william royce cass born 27 march 1962 in...\n",
       "1468    keith hector elias born february 3 1972 in lac...\n",
       "1469    fawaz mohammed damrah arabic fawwz damra was t...\n",
       "Name: Person_text, Length: 1470, dtype: object"
      ]
     },
     "execution_count": 11,
     "metadata": {},
     "output_type": "execute_result"
    }
   ],
   "source": [
    "documents"
   ]
  },
  {
   "cell_type": "code",
   "execution_count": 12,
   "metadata": {},
   "outputs": [],
   "source": [
    "# Create Count Vectorizer\n",
    "\n",
    "## Create Vectorizer object\n",
    "vectorizer = CountVectorizer()\n",
    "\n",
    "# create vector and convert it into a Matrix\n",
    "feature_obj = vectorizer.fit_transform(documents)\n",
    "doc_matrix = feature_obj.toarray()\n",
    "\n",
    "# create word feature matrix\n",
    "doc_matrix = normalize(doc_matrix)\n",
    "doc_features = pd.DataFrame(doc_matrix, columns = vectorizer.get_feature_names())"
   ]
  },
  {
   "cell_type": "markdown",
   "metadata": {},
   "source": [
    "As in the previous assignment, we will normalize each document's TF-IDF vector to be a unit vector. "
   ]
  },
  {
   "cell_type": "code",
   "execution_count": 13,
   "metadata": {},
   "outputs": [],
   "source": [
    "# Code used to create a smaller sample document martix for model building efficieny\n",
    "np.random.seed(1)\n",
    "random_columns = np.random.sample(len(doc_features.columns))\n",
    "columns_random = np.array([np.array(doc_features.columns), random_columns])\n",
    "select_vars = columns_random[1] <= 0.02\n",
    "keep_vars = columns_random[0][select_vars]\n",
    "\n",
    "sample_doc_features = doc_features[keep_vars]"
   ]
  },
  {
   "cell_type": "code",
   "execution_count": 23,
   "metadata": {},
   "outputs": [
    {
     "name": "stdout",
     "output_type": "stream",
     "text": [
      "Initialization 0\n",
      "  Iteration 10\n",
      "  Iteration 20\n",
      "  Iteration 30\n",
      "  Iteration 40\n",
      "  Iteration 50\n",
      "Initialization converged: False\n"
     ]
    },
    {
     "name": "stderr",
     "output_type": "stream",
     "text": [
      "C:\\Users\\pprat\\anaconda3\\lib\\site-packages\\sklearn\\mixture\\_base.py:269: ConvergenceWarning: Initialization 1 did not converge. Try different init parameters, or increase max_iter, tol or check for degenerate data.\n",
      "  % (init + 1), ConvergenceWarning)\n"
     ]
    }
   ],
   "source": [
    "# Now we Create a Bayesian Gaussian Mixture Model and evaluate the results for product popularity\n",
    "bguassian_mixture_model = BayesianGaussianMixture(n_components=12, max_iter=50, verbose = 1, init_params ='random', tol = 0.01)\n",
    "wiki_doc_mixture_model = bguassian_mixture_model.fit(sample_doc_features)"
   ]
  },
  {
   "cell_type": "code",
   "execution_count": 24,
   "metadata": {},
   "outputs": [],
   "source": [
    "# Create a prediction for popularity\n",
    "predicted_clust = wiki_doc_mixture_model.predict(sample_doc_features)\n",
    "wiki['predicted_clust'] = predicted_clust"
   ]
  },
  {
   "cell_type": "code",
   "execution_count": 26,
   "metadata": {},
   "outputs": [],
   "source": [
    "wiki = wiki[['Person_name', 'Person_text', 'predicted_clust']]"
   ]
  },
  {
   "cell_type": "code",
   "execution_count": 31,
   "metadata": {},
   "outputs": [
    {
     "name": "stdout",
     "output_type": "stream",
     "text": [
      "Paste Person's Name:rachel stevens\n",
      "Here is the cluster number: 8\n"
     ]
    }
   ],
   "source": [
    "# create person search and get filtered dataset\n",
    "person_search = input(\"Paste Person's Name:\").title()\n",
    "clust_num = int(wiki[wiki['Person_name'] == person_search][\"predicted_clust\"])\n",
    "print('Here is the cluster number:', clust_num)\n",
    "search_select = wiki[wiki['predicted_clust'] == clust_num].reset_index()"
   ]
  },
  {
   "cell_type": "code",
   "execution_count": 32,
   "metadata": {},
   "outputs": [
    {
     "data": {
      "text/html": [
       "<div>\n",
       "<style scoped>\n",
       "    .dataframe tbody tr th:only-of-type {\n",
       "        vertical-align: middle;\n",
       "    }\n",
       "\n",
       "    .dataframe tbody tr th {\n",
       "        vertical-align: top;\n",
       "    }\n",
       "\n",
       "    .dataframe thead th {\n",
       "        text-align: right;\n",
       "    }\n",
       "</style>\n",
       "<table border=\"1\" class=\"dataframe\">\n",
       "  <thead>\n",
       "    <tr style=\"text-align: right;\">\n",
       "      <th></th>\n",
       "      <th>index</th>\n",
       "      <th>Person_name</th>\n",
       "      <th>Person_text</th>\n",
       "      <th>predicted_clust</th>\n",
       "    </tr>\n",
       "  </thead>\n",
       "  <tbody>\n",
       "    <tr>\n",
       "      <th>0</th>\n",
       "      <td>2</td>\n",
       "      <td>Philip Haas</td>\n",
       "      <td>philip haas born 1954 is an american artist sc...</td>\n",
       "      <td>8</td>\n",
       "    </tr>\n",
       "    <tr>\n",
       "      <th>1</th>\n",
       "      <td>3</td>\n",
       "      <td>Kevin Rubio</td>\n",
       "      <td>kevin rubio born december 20 1967 is an americ...</td>\n",
       "      <td>8</td>\n",
       "    </tr>\n",
       "    <tr>\n",
       "      <th>2</th>\n",
       "      <td>13</td>\n",
       "      <td>Rachel Stevens</td>\n",
       "      <td>rachel lauren stevens born 9 april 1978 is an ...</td>\n",
       "      <td>8</td>\n",
       "    </tr>\n",
       "    <tr>\n",
       "      <th>3</th>\n",
       "      <td>31</td>\n",
       "      <td>Audu Idris Umar</td>\n",
       "      <td>audu idris umar born 28 december 1959 was elec...</td>\n",
       "      <td>8</td>\n",
       "    </tr>\n",
       "    <tr>\n",
       "      <th>4</th>\n",
       "      <td>46</td>\n",
       "      <td>Nicholas Lorusso</td>\n",
       "      <td>nicholas joseph lorusso also known as nick lor...</td>\n",
       "      <td>8</td>\n",
       "    </tr>\n",
       "    <tr>\n",
       "      <th>...</th>\n",
       "      <td>...</td>\n",
       "      <td>...</td>\n",
       "      <td>...</td>\n",
       "      <td>...</td>\n",
       "    </tr>\n",
       "    <tr>\n",
       "      <th>82</th>\n",
       "      <td>1336</td>\n",
       "      <td>Marco Antonio Zago</td>\n",
       "      <td>marco antonio zago b january 11 1946 birigi so...</td>\n",
       "      <td>8</td>\n",
       "    </tr>\n",
       "    <tr>\n",
       "      <th>83</th>\n",
       "      <td>1397</td>\n",
       "      <td>J%C3%B8rgen Ingmann</td>\n",
       "      <td>jrgen ingmann born 26 april 1925 is a musician...</td>\n",
       "      <td>8</td>\n",
       "    </tr>\n",
       "    <tr>\n",
       "      <th>84</th>\n",
       "      <td>1398</td>\n",
       "      <td>Nicholas Rees</td>\n",
       "      <td>nicholas rees born february 17 1982 in nassau ...</td>\n",
       "      <td>8</td>\n",
       "    </tr>\n",
       "    <tr>\n",
       "      <th>85</th>\n",
       "      <td>1400</td>\n",
       "      <td>Ron C. Bigelow</td>\n",
       "      <td>ron c bigelow born 1948 is the eighth mayor of...</td>\n",
       "      <td>8</td>\n",
       "    </tr>\n",
       "    <tr>\n",
       "      <th>86</th>\n",
       "      <td>1432</td>\n",
       "      <td>Andy Ihnatko</td>\n",
       "      <td>andy ihnatko ntkois a technology journalist fo...</td>\n",
       "      <td>8</td>\n",
       "    </tr>\n",
       "  </tbody>\n",
       "</table>\n",
       "<p>87 rows × 4 columns</p>\n",
       "</div>"
      ],
      "text/plain": [
       "    index          Person_name  \\\n",
       "0       2          Philip Haas   \n",
       "1       3          Kevin Rubio   \n",
       "2      13       Rachel Stevens   \n",
       "3      31      Audu Idris Umar   \n",
       "4      46     Nicholas Lorusso   \n",
       "..    ...                  ...   \n",
       "82   1336   Marco Antonio Zago   \n",
       "83   1397  J%C3%B8rgen Ingmann   \n",
       "84   1398        Nicholas Rees   \n",
       "85   1400       Ron C. Bigelow   \n",
       "86   1432         Andy Ihnatko   \n",
       "\n",
       "                                          Person_text  predicted_clust  \n",
       "0   philip haas born 1954 is an american artist sc...                8  \n",
       "1   kevin rubio born december 20 1967 is an americ...                8  \n",
       "2   rachel lauren stevens born 9 april 1978 is an ...                8  \n",
       "3   audu idris umar born 28 december 1959 was elec...                8  \n",
       "4   nicholas joseph lorusso also known as nick lor...                8  \n",
       "..                                                ...              ...  \n",
       "82  marco antonio zago b january 11 1946 birigi so...                8  \n",
       "83  jrgen ingmann born 26 april 1925 is a musician...                8  \n",
       "84  nicholas rees born february 17 1982 in nassau ...                8  \n",
       "85  ron c bigelow born 1948 is the eighth mayor of...                8  \n",
       "86  andy ihnatko ntkois a technology journalist fo...                8  \n",
       "\n",
       "[87 rows x 4 columns]"
      ]
     },
     "execution_count": 32,
     "metadata": {},
     "output_type": "execute_result"
    }
   ],
   "source": [
    "search_select"
   ]
  },
  {
   "cell_type": "code",
   "execution_count": null,
   "metadata": {},
   "outputs": [],
   "source": []
  }
 ],
 "metadata": {
  "anaconda-cloud": {},
  "kernelspec": {
   "display_name": "Python 3",
   "language": "python",
   "name": "python3"
  },
  "language_info": {
   "codemirror_mode": {
    "name": "ipython",
    "version": 3
   },
   "file_extension": ".py",
   "mimetype": "text/x-python",
   "name": "python",
   "nbconvert_exporter": "python",
   "pygments_lexer": "ipython3",
   "version": "3.7.6"
  },
  "toc": {
   "toc_cell": false,
   "toc_number_sections": false,
   "toc_threshold": "8",
   "toc_window_display": false
  }
 },
 "nbformat": 4,
 "nbformat_minor": 1
}
