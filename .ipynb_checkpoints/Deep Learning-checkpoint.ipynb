{
 "cells": [
  {
   "cell_type": "markdown",
   "metadata": {},
   "source": [
    "## Deep Learning"
   ]
  },
  {
   "cell_type": "code",
   "execution_count": 4,
   "metadata": {},
   "outputs": [],
   "source": [
    "# Image retrieval using deep features\n",
    "import pandas as pd\n",
    "import numpy as np\n",
    "\n",
    "from sklearn.neighbors import KNeighborsClassifier\n",
    "from sklearn.neural_network import MLPClassifier\n",
    "from sklearn.preprocessing import OneHotEncoder\n",
    "from sklearn.metrics import accuracy_score\n",
    "\n",
    "from sklearn.ensemble import AdaBoostClassifier"
   ]
  },
  {
   "cell_type": "code",
   "execution_count": 5,
   "metadata": {},
   "outputs": [],
   "source": [
    "# Load some CIFAR-10 images\n",
    "loans = pd.read_csv('lending-club-data.csv')"
   ]
  },
  {
   "cell_type": "code",
   "execution_count": 6,
   "metadata": {},
   "outputs": [
    {
     "data": {
      "text/html": [
       "<div>\n",
       "<style scoped>\n",
       "    .dataframe tbody tr th:only-of-type {\n",
       "        vertical-align: middle;\n",
       "    }\n",
       "\n",
       "    .dataframe tbody tr th {\n",
       "        vertical-align: top;\n",
       "    }\n",
       "\n",
       "    .dataframe thead th {\n",
       "        text-align: right;\n",
       "    }\n",
       "</style>\n",
       "<table border=\"1\" class=\"dataframe\">\n",
       "  <thead>\n",
       "    <tr style=\"text-align: right;\">\n",
       "      <th></th>\n",
       "      <th>id</th>\n",
       "      <th>member_id</th>\n",
       "      <th>loan_amnt</th>\n",
       "      <th>funded_amnt</th>\n",
       "      <th>funded_amnt_inv</th>\n",
       "      <th>int_rate</th>\n",
       "      <th>installment</th>\n",
       "      <th>annual_inc</th>\n",
       "      <th>dti</th>\n",
       "      <th>delinq_2yrs</th>\n",
       "      <th>...</th>\n",
       "      <th>grade_num</th>\n",
       "      <th>sub_grade_num</th>\n",
       "      <th>delinq_2yrs_zero</th>\n",
       "      <th>pub_rec_zero</th>\n",
       "      <th>collections_12_mths_zero</th>\n",
       "      <th>short_emp</th>\n",
       "      <th>payment_inc_ratio</th>\n",
       "      <th>last_delinq_none</th>\n",
       "      <th>last_record_none</th>\n",
       "      <th>last_major_derog_none</th>\n",
       "    </tr>\n",
       "  </thead>\n",
       "  <tbody>\n",
       "    <tr>\n",
       "      <th>count</th>\n",
       "      <td>4.731000e+03</td>\n",
       "      <td>4.731000e+03</td>\n",
       "      <td>4731.000000</td>\n",
       "      <td>4731.000000</td>\n",
       "      <td>4731.000000</td>\n",
       "      <td>4731.000000</td>\n",
       "      <td>4731.000000</td>\n",
       "      <td>4731.000000</td>\n",
       "      <td>4731.000000</td>\n",
       "      <td>4731.000000</td>\n",
       "      <td>...</td>\n",
       "      <td>4731.000000</td>\n",
       "      <td>4731.000000</td>\n",
       "      <td>4731.000000</td>\n",
       "      <td>4731.000000</td>\n",
       "      <td>4731.000000</td>\n",
       "      <td>4731.000000</td>\n",
       "      <td>4731.000000</td>\n",
       "      <td>4731.000000</td>\n",
       "      <td>4731.000000</td>\n",
       "      <td>4731.000000</td>\n",
       "    </tr>\n",
       "    <tr>\n",
       "      <th>mean</th>\n",
       "      <td>1.096369e+07</td>\n",
       "      <td>1.267885e+07</td>\n",
       "      <td>14036.461636</td>\n",
       "      <td>14036.461636</td>\n",
       "      <td>14028.735997</td>\n",
       "      <td>14.791915</td>\n",
       "      <td>435.963414</td>\n",
       "      <td>75341.818643</td>\n",
       "      <td>16.601957</td>\n",
       "      <td>0.315578</td>\n",
       "      <td>...</td>\n",
       "      <td>4.042486</td>\n",
       "      <td>0.604439</td>\n",
       "      <td>0.800465</td>\n",
       "      <td>0.809977</td>\n",
       "      <td>0.990700</td>\n",
       "      <td>0.123018</td>\n",
       "      <td>7.795240</td>\n",
       "      <td>0.500528</td>\n",
       "      <td>0.809977</td>\n",
       "      <td>0.716128</td>\n",
       "    </tr>\n",
       "    <tr>\n",
       "      <th>std</th>\n",
       "      <td>9.467854e+05</td>\n",
       "      <td>1.627285e+06</td>\n",
       "      <td>8051.020747</td>\n",
       "      <td>8051.020747</td>\n",
       "      <td>8047.144545</td>\n",
       "      <td>4.376536</td>\n",
       "      <td>243.080211</td>\n",
       "      <td>47403.854361</td>\n",
       "      <td>7.543234</td>\n",
       "      <td>0.795846</td>\n",
       "      <td>...</td>\n",
       "      <td>1.301362</td>\n",
       "      <td>0.282344</td>\n",
       "      <td>0.399693</td>\n",
       "      <td>0.392361</td>\n",
       "      <td>0.095999</td>\n",
       "      <td>0.328493</td>\n",
       "      <td>3.851214</td>\n",
       "      <td>0.500053</td>\n",
       "      <td>0.392361</td>\n",
       "      <td>0.450923</td>\n",
       "    </tr>\n",
       "    <tr>\n",
       "      <th>min</th>\n",
       "      <td>6.948910e+05</td>\n",
       "      <td>2.284600e+05</td>\n",
       "      <td>1000.000000</td>\n",
       "      <td>1000.000000</td>\n",
       "      <td>1000.000000</td>\n",
       "      <td>6.030000</td>\n",
       "      <td>33.630000</td>\n",
       "      <td>8500.000000</td>\n",
       "      <td>0.000000</td>\n",
       "      <td>0.000000</td>\n",
       "      <td>...</td>\n",
       "      <td>0.000000</td>\n",
       "      <td>0.200000</td>\n",
       "      <td>0.000000</td>\n",
       "      <td>0.000000</td>\n",
       "      <td>0.000000</td>\n",
       "      <td>0.000000</td>\n",
       "      <td>0.332826</td>\n",
       "      <td>0.000000</td>\n",
       "      <td>0.000000</td>\n",
       "      <td>0.000000</td>\n",
       "    </tr>\n",
       "    <tr>\n",
       "      <th>25%</th>\n",
       "      <td>1.040490e+07</td>\n",
       "      <td>1.203129e+07</td>\n",
       "      <td>8000.000000</td>\n",
       "      <td>8000.000000</td>\n",
       "      <td>8000.000000</td>\n",
       "      <td>11.990000</td>\n",
       "      <td>267.120000</td>\n",
       "      <td>48000.000000</td>\n",
       "      <td>10.880000</td>\n",
       "      <td>0.000000</td>\n",
       "      <td>...</td>\n",
       "      <td>3.000000</td>\n",
       "      <td>0.400000</td>\n",
       "      <td>1.000000</td>\n",
       "      <td>1.000000</td>\n",
       "      <td>1.000000</td>\n",
       "      <td>0.000000</td>\n",
       "      <td>4.888800</td>\n",
       "      <td>0.000000</td>\n",
       "      <td>1.000000</td>\n",
       "      <td>0.000000</td>\n",
       "    </tr>\n",
       "    <tr>\n",
       "      <th>50%</th>\n",
       "      <td>1.083474e+07</td>\n",
       "      <td>1.267684e+07</td>\n",
       "      <td>12000.000000</td>\n",
       "      <td>12000.000000</td>\n",
       "      <td>12000.000000</td>\n",
       "      <td>14.470000</td>\n",
       "      <td>380.980000</td>\n",
       "      <td>65000.000000</td>\n",
       "      <td>16.250000</td>\n",
       "      <td>0.000000</td>\n",
       "      <td>...</td>\n",
       "      <td>4.000000</td>\n",
       "      <td>0.600000</td>\n",
       "      <td>1.000000</td>\n",
       "      <td>1.000000</td>\n",
       "      <td>1.000000</td>\n",
       "      <td>0.000000</td>\n",
       "      <td>7.286120</td>\n",
       "      <td>1.000000</td>\n",
       "      <td>1.000000</td>\n",
       "      <td>1.000000</td>\n",
       "    </tr>\n",
       "    <tr>\n",
       "      <th>75%</th>\n",
       "      <td>1.165832e+07</td>\n",
       "      <td>1.362832e+07</td>\n",
       "      <td>18600.000000</td>\n",
       "      <td>18600.000000</td>\n",
       "      <td>18575.000000</td>\n",
       "      <td>17.570000</td>\n",
       "      <td>558.190000</td>\n",
       "      <td>90000.000000</td>\n",
       "      <td>22.040000</td>\n",
       "      <td>0.000000</td>\n",
       "      <td>...</td>\n",
       "      <td>5.000000</td>\n",
       "      <td>0.800000</td>\n",
       "      <td>1.000000</td>\n",
       "      <td>1.000000</td>\n",
       "      <td>1.000000</td>\n",
       "      <td>0.000000</td>\n",
       "      <td>10.188550</td>\n",
       "      <td>1.000000</td>\n",
       "      <td>1.000000</td>\n",
       "      <td>1.000000</td>\n",
       "    </tr>\n",
       "    <tr>\n",
       "      <th>max</th>\n",
       "      <td>1.253507e+07</td>\n",
       "      <td>1.454722e+07</td>\n",
       "      <td>35000.000000</td>\n",
       "      <td>35000.000000</td>\n",
       "      <td>35000.000000</td>\n",
       "      <td>26.060000</td>\n",
       "      <td>1408.130000</td>\n",
       "      <td>897000.000000</td>\n",
       "      <td>34.980000</td>\n",
       "      <td>9.000000</td>\n",
       "      <td>...</td>\n",
       "      <td>6.000000</td>\n",
       "      <td>1.000000</td>\n",
       "      <td>1.000000</td>\n",
       "      <td>1.000000</td>\n",
       "      <td>1.000000</td>\n",
       "      <td>1.000000</td>\n",
       "      <td>21.122000</td>\n",
       "      <td>1.000000</td>\n",
       "      <td>1.000000</td>\n",
       "      <td>1.000000</td>\n",
       "    </tr>\n",
       "  </tbody>\n",
       "</table>\n",
       "<p>8 rows × 45 columns</p>\n",
       "</div>"
      ],
      "text/plain": [
       "                 id     member_id     loan_amnt   funded_amnt  \\\n",
       "count  4.731000e+03  4.731000e+03   4731.000000   4731.000000   \n",
       "mean   1.096369e+07  1.267885e+07  14036.461636  14036.461636   \n",
       "std    9.467854e+05  1.627285e+06   8051.020747   8051.020747   \n",
       "min    6.948910e+05  2.284600e+05   1000.000000   1000.000000   \n",
       "25%    1.040490e+07  1.203129e+07   8000.000000   8000.000000   \n",
       "50%    1.083474e+07  1.267684e+07  12000.000000  12000.000000   \n",
       "75%    1.165832e+07  1.362832e+07  18600.000000  18600.000000   \n",
       "max    1.253507e+07  1.454722e+07  35000.000000  35000.000000   \n",
       "\n",
       "       funded_amnt_inv     int_rate  installment     annual_inc          dti  \\\n",
       "count      4731.000000  4731.000000  4731.000000    4731.000000  4731.000000   \n",
       "mean      14028.735997    14.791915   435.963414   75341.818643    16.601957   \n",
       "std        8047.144545     4.376536   243.080211   47403.854361     7.543234   \n",
       "min        1000.000000     6.030000    33.630000    8500.000000     0.000000   \n",
       "25%        8000.000000    11.990000   267.120000   48000.000000    10.880000   \n",
       "50%       12000.000000    14.470000   380.980000   65000.000000    16.250000   \n",
       "75%       18575.000000    17.570000   558.190000   90000.000000    22.040000   \n",
       "max       35000.000000    26.060000  1408.130000  897000.000000    34.980000   \n",
       "\n",
       "       delinq_2yrs  ...    grade_num  sub_grade_num  delinq_2yrs_zero  \\\n",
       "count  4731.000000  ...  4731.000000    4731.000000       4731.000000   \n",
       "mean      0.315578  ...     4.042486       0.604439          0.800465   \n",
       "std       0.795846  ...     1.301362       0.282344          0.399693   \n",
       "min       0.000000  ...     0.000000       0.200000          0.000000   \n",
       "25%       0.000000  ...     3.000000       0.400000          1.000000   \n",
       "50%       0.000000  ...     4.000000       0.600000          1.000000   \n",
       "75%       0.000000  ...     5.000000       0.800000          1.000000   \n",
       "max       9.000000  ...     6.000000       1.000000          1.000000   \n",
       "\n",
       "       pub_rec_zero  collections_12_mths_zero    short_emp  payment_inc_ratio  \\\n",
       "count   4731.000000               4731.000000  4731.000000        4731.000000   \n",
       "mean       0.809977                  0.990700     0.123018           7.795240   \n",
       "std        0.392361                  0.095999     0.328493           3.851214   \n",
       "min        0.000000                  0.000000     0.000000           0.332826   \n",
       "25%        1.000000                  1.000000     0.000000           4.888800   \n",
       "50%        1.000000                  1.000000     0.000000           7.286120   \n",
       "75%        1.000000                  1.000000     0.000000          10.188550   \n",
       "max        1.000000                  1.000000     1.000000          21.122000   \n",
       "\n",
       "       last_delinq_none  last_record_none  last_major_derog_none  \n",
       "count       4731.000000       4731.000000            4731.000000  \n",
       "mean           0.500528          0.809977               0.716128  \n",
       "std            0.500053          0.392361               0.450923  \n",
       "min            0.000000          0.000000               0.000000  \n",
       "25%            0.000000          1.000000               0.000000  \n",
       "50%            1.000000          1.000000               1.000000  \n",
       "75%            1.000000          1.000000               1.000000  \n",
       "max            1.000000          1.000000               1.000000  \n",
       "\n",
       "[8 rows x 45 columns]"
      ]
     },
     "execution_count": 6,
     "metadata": {},
     "output_type": "execute_result"
    }
   ],
   "source": [
    "# Describe the dataset\n",
    "loans.describe()"
   ]
  },
  {
   "cell_type": "code",
   "execution_count": 7,
   "metadata": {},
   "outputs": [
    {
     "data": {
      "text/plain": [
       "Index(['id', 'member_id', 'loan_amnt', 'funded_amnt', 'funded_amnt_inv',\n",
       "       'term', 'int_rate', 'installment', 'grade', 'sub_grade', 'emp_title',\n",
       "       'emp_length', 'home_ownership', 'annual_inc', 'is_inc_v', 'issue_d',\n",
       "       'loan_status', 'pymnt_plan', 'url', 'desc', 'purpose', 'title',\n",
       "       'zip_code', 'addr_state', 'dti', 'delinq_2yrs', 'earliest_cr_line',\n",
       "       'inq_last_6mths', 'mths_since_last_delinq', 'mths_since_last_record',\n",
       "       'open_acc', 'pub_rec', 'revol_bal', 'revol_util', 'total_acc',\n",
       "       'initial_list_status', 'out_prncp', 'out_prncp_inv', 'total_pymnt',\n",
       "       'total_pymnt_inv', 'total_rec_prncp', 'total_rec_int',\n",
       "       'total_rec_late_fee', 'recoveries', 'collection_recovery_fee',\n",
       "       'last_pymnt_d', 'last_pymnt_amnt', 'next_pymnt_d', 'last_credit_pull_d',\n",
       "       'collections_12_mths_ex_med', 'mths_since_last_major_derog',\n",
       "       'policy_code', 'not_compliant', 'status', 'inactive_loans', 'bad_loans',\n",
       "       'emp_length_num', 'grade_num', 'sub_grade_num', 'delinq_2yrs_zero',\n",
       "       'pub_rec_zero', 'collections_12_mths_zero', 'short_emp',\n",
       "       'payment_inc_ratio', 'final_d', 'last_delinq_none', 'last_record_none',\n",
       "       'last_major_derog_none'],\n",
       "      dtype='object')"
      ]
     },
     "execution_count": 7,
     "metadata": {},
     "output_type": "execute_result"
    }
   ],
   "source": [
    "loans.columns"
   ]
  },
  {
   "cell_type": "code",
   "execution_count": 8,
   "metadata": {},
   "outputs": [],
   "source": [
    "# Create variable for Safe Loan\n",
    "loans['safe_loans'] = loans['bad_loans'].apply(lambda x : +1 if x==0 else -1)\n",
    "loans = loans.drop(columns = ['bad_loans'])"
   ]
  },
  {
   "cell_type": "code",
   "execution_count": 9,
   "metadata": {},
   "outputs": [
    {
     "data": {
      "text/plain": [
       "Index(['id', 'member_id', 'loan_amnt', 'funded_amnt', 'funded_amnt_inv',\n",
       "       'term', 'int_rate', 'installment', 'grade', 'sub_grade', 'emp_title',\n",
       "       'emp_length', 'home_ownership', 'annual_inc', 'is_inc_v', 'issue_d',\n",
       "       'loan_status', 'pymnt_plan', 'url', 'desc', 'purpose', 'title',\n",
       "       'zip_code', 'addr_state', 'dti', 'delinq_2yrs', 'earliest_cr_line',\n",
       "       'inq_last_6mths', 'mths_since_last_delinq', 'mths_since_last_record',\n",
       "       'open_acc', 'pub_rec', 'revol_bal', 'revol_util', 'total_acc',\n",
       "       'initial_list_status', 'out_prncp', 'out_prncp_inv', 'total_pymnt',\n",
       "       'total_pymnt_inv', 'total_rec_prncp', 'total_rec_int',\n",
       "       'total_rec_late_fee', 'recoveries', 'collection_recovery_fee',\n",
       "       'last_pymnt_d', 'last_pymnt_amnt', 'next_pymnt_d', 'last_credit_pull_d',\n",
       "       'collections_12_mths_ex_med', 'mths_since_last_major_derog',\n",
       "       'policy_code', 'not_compliant', 'status', 'inactive_loans',\n",
       "       'emp_length_num', 'grade_num', 'sub_grade_num', 'delinq_2yrs_zero',\n",
       "       'pub_rec_zero', 'collections_12_mths_zero', 'short_emp',\n",
       "       'payment_inc_ratio', 'final_d', 'last_delinq_none', 'last_record_none',\n",
       "       'last_major_derog_none', 'safe_loans'],\n",
       "      dtype='object')"
      ]
     },
     "execution_count": 9,
     "metadata": {},
     "output_type": "execute_result"
    }
   ],
   "source": [
    "# See what features are avialable\n",
    "loans.columns"
   ]
  },
  {
   "cell_type": "code",
   "execution_count": 10,
   "metadata": {},
   "outputs": [],
   "source": [
    "# Further Processing and Machine Learning requires a clean dataset\n",
    "dataset = loans[['loan_amnt', 'term', 'grade', 'open_acc', 'emp_length', 'dti'] + ['safe_loans']]\n",
    "dataset = dataset.dropna()\n",
    "dataset = dataset.reset_index()\n",
    "\n",
    "# select input features and output target\n",
    "features = dataset[['loan_amnt', 'term', 'grade', 'open_acc', 'emp_length', 'dti']]\n",
    "\n",
    "# select target variable\n",
    "target = dataset['safe_loans']\n"
   ]
  },
  {
   "cell_type": "code",
   "execution_count": 11,
   "metadata": {},
   "outputs": [],
   "source": [
    "features_chars = ['term', 'grade', 'emp_length']"
   ]
  },
  {
   "cell_type": "code",
   "execution_count": 12,
   "metadata": {},
   "outputs": [],
   "source": [
    "# Character Features need to be Encoded\n",
    "OneHot = OneHotEncoder()\n",
    "sparse_matrix = OneHot.fit_transform(features[features_chars])\n",
    "OneHot_matrix = sparse_matrix.toarray()\n",
    "#OneHot.get_feature_names()\n",
    "features_encode = pd.DataFrame(OneHot_matrix, columns = OneHot.get_feature_names())"
   ]
  },
  {
   "cell_type": "code",
   "execution_count": 13,
   "metadata": {},
   "outputs": [],
   "source": [
    "# Bring back together the feature Matrix\n",
    "feature_matrix = pd.concat([features[['loan_amnt', 'open_acc', 'dti']], features_encode], axis = 1)"
   ]
  },
  {
   "cell_type": "code",
   "execution_count": 14,
   "metadata": {},
   "outputs": [
    {
     "data": {
      "text/plain": [
       "array([[  2.10713075,   2.28737841,   2.60683716],\n",
       "       [  9.65426849,  25.32153431,  25.42006294],\n",
       "       [  7.20677459,   8.5524324 , 100.03729105],\n",
       "       ...,\n",
       "       [ 25.21066441,  25.31331863,  25.34444515],\n",
       "       [  2.46902815,   3.19375954,   3.93101768],\n",
       "       [  9.68516907,   9.98763736,  11.70348666]])"
      ]
     },
     "execution_count": 14,
     "metadata": {},
     "output_type": "execute_result"
    }
   ],
   "source": [
    "# Create a nearest neighbors model to retrieve our deep features\n",
    "nearest_neighbor_model = KNeighborsClassifier(n_neighbors = 4)\n",
    "deep_features = nearest_neighbor_model.fit(feature_matrix, target)\n",
    "\n",
    "# Obtain the distances of each point to the neighbor\n",
    "nearest_neighbor_features = deep_features.kneighbors(feature_matrix, return_distance=True)[0][:,1:]\n",
    "nearest_neighbor_features"
   ]
  },
  {
   "cell_type": "code",
   "execution_count": 15,
   "metadata": {},
   "outputs": [],
   "source": [
    "# Now lets create a Multilayer Perceptron Model using our simplified Deep Features\n",
    "mlp_network = MLPClassifier(hidden_layer_sizes=(5, ), activation='logistic', solver='sgd')\n",
    "deep_model = mlp_network.fit(nearest_neighbor_features, target)"
   ]
  },
  {
   "cell_type": "code",
   "execution_count": 16,
   "metadata": {},
   "outputs": [
    {
     "name": "stdout",
     "output_type": "stream",
     "text": [
      "MLP Neural Network Accuracy: 0.83\n"
     ]
    }
   ],
   "source": [
    " # Predict the neural networks output and score its accuracy\n",
    "predictions = pd.Series(deep_model.predict(nearest_neighbor_features))\n",
    "print('MLP Neural Network Accuracy:', round(accuracy_score(predictions, target),2))"
   ]
  },
  {
   "cell_type": "code",
   "execution_count": 17,
   "metadata": {},
   "outputs": [
    {
     "data": {
      "text/plain": [
       "safe_loans\n",
       "-1     774\n",
       " 1    3719\n",
       "Name: safe_loans, dtype: int64"
      ]
     },
     "execution_count": 17,
     "metadata": {},
     "output_type": "execute_result"
    }
   ],
   "source": [
    "# Not all models are what the seem\n",
    "## check out the target variables ratio of bad loans to good loans\n",
    "target.groupby(target).count()"
   ]
  },
  {
   "cell_type": "code",
   "execution_count": 22,
   "metadata": {},
   "outputs": [
    {
     "data": {
      "text/plain": [
       "1    4493\n",
       "dtype: int64"
      ]
     },
     "execution_count": 22,
     "metadata": {},
     "output_type": "execute_result"
    }
   ],
   "source": [
    "## Now check out the predictions that the Neural Network produced\n",
    "predictions.groupby(predictions).count()"
   ]
  },
  {
   "cell_type": "code",
   "execution_count": 23,
   "metadata": {},
   "outputs": [
    {
     "data": {
      "text/plain": [
       "1    4493\n",
       "dtype: int64"
      ]
     },
     "execution_count": 23,
     "metadata": {},
     "output_type": "execute_result"
    }
   ],
   "source": [
    "## This model could use some tweeking\n",
    "predictions.value_counts()"
   ]
  }
 ],
 "metadata": {
  "kernelspec": {
   "display_name": "Python 3",
   "language": "python",
   "name": "python3"
  },
  "language_info": {
   "codemirror_mode": {
    "name": "ipython",
    "version": 3
   },
   "file_extension": ".py",
   "mimetype": "text/x-python",
   "name": "python",
   "nbconvert_exporter": "python",
   "pygments_lexer": "ipython3",
   "version": "3.7.6"
  }
 },
 "nbformat": 4,
 "nbformat_minor": 2
}
