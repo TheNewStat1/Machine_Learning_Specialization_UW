{
 "cells": [
  {
   "cell_type": "markdown",
   "metadata": {},
   "source": [
    "# Training Logistic Regression via Stochastic Gradient Ascent\n",
    "\n",
    "The goal of this notebook is to implement a logistic regression classifier using stochastic gradient ascent. You will:\n",
    "\n",
    " * Extract features from Amazon product reviews.\n",
    " * Convert an SFrame into a NumPy array.\n",
    " * Write a function to compute the derivative of log likelihood function with respect to a single coefficient.\n",
    " * Implement stochastic gradient ascent.\n",
    " * Compare convergence of stochastic gradient ascent with that of batch gradient ascent."
   ]
  },
  {
   "cell_type": "markdown",
   "metadata": {},
   "source": [
    "# Fire up GraphLab Create\n",
    " \n",
    "Make sure you have the latest version of GraphLab Create. Upgrade by\n",
    "\n",
    "```\n",
    "   pip install graphlab-create --upgrade\n",
    "```\n",
    "See [this page](https://dato.com/download/) for detailed instructions on upgrading."
   ]
  },
  {
   "cell_type": "code",
   "execution_count": 2,
   "metadata": {},
   "outputs": [],
   "source": [
    "#from __future__ import division\n",
    "import turicreate"
   ]
  },
  {
   "cell_type": "markdown",
   "metadata": {},
   "source": [
    "## Load and process review dataset"
   ]
  },
  {
   "cell_type": "markdown",
   "metadata": {},
   "source": [
    "For this assignment, we will use the same subset of the Amazon product review dataset that we used in Module 3 assignment. The subset was chosen to contain similar numbers of positive and negative reviews, as the original dataset consisted of mostly positive reviews."
   ]
  },
  {
   "cell_type": "code",
   "execution_count": 3,
   "metadata": {},
   "outputs": [
    {
     "data": {
      "text/html": [
       "<pre>Finished parsing file /home/ppratikbp/Coursera Machine Learning/C3_8_Online Learning Via Stochastic Gradient/amazon_baby_subset.csv</pre>"
      ],
      "text/plain": [
       "Finished parsing file /home/ppratikbp/Coursera Machine Learning/C3_8_Online Learning Via Stochastic Gradient/amazon_baby_subset.csv"
      ]
     },
     "metadata": {},
     "output_type": "display_data"
    },
    {
     "data": {
      "text/html": [
       "<pre>Parsing completed. Parsed 100 lines in 0.603403 secs.</pre>"
      ],
      "text/plain": [
       "Parsing completed. Parsed 100 lines in 0.603403 secs."
      ]
     },
     "metadata": {},
     "output_type": "display_data"
    },
    {
     "name": "stdout",
     "output_type": "stream",
     "text": [
      "------------------------------------------------------\n",
      "Inferred types from first 100 line(s) of file as \n",
      "column_type_hints=[str,str,int,int]\n",
      "If parsing fails due to incorrect types, you can correct\n",
      "the inferred type list above and pass it to read_csv in\n",
      "the column_type_hints argument\n",
      "------------------------------------------------------\n"
     ]
    },
    {
     "data": {
      "text/html": [
       "<pre>Finished parsing file /home/ppratikbp/Coursera Machine Learning/C3_8_Online Learning Via Stochastic Gradient/amazon_baby_subset.csv</pre>"
      ],
      "text/plain": [
       "Finished parsing file /home/ppratikbp/Coursera Machine Learning/C3_8_Online Learning Via Stochastic Gradient/amazon_baby_subset.csv"
      ]
     },
     "metadata": {},
     "output_type": "display_data"
    },
    {
     "data": {
      "text/html": [
       "<pre>Parsing completed. Parsed 53072 lines in 0.486299 secs.</pre>"
      ],
      "text/plain": [
       "Parsing completed. Parsed 53072 lines in 0.486299 secs."
      ]
     },
     "metadata": {},
     "output_type": "display_data"
    }
   ],
   "source": [
    "products = turicreate.SFrame('amazon_baby_subset.csv')"
   ]
  },
  {
   "cell_type": "markdown",
   "metadata": {},
   "source": [
    "Just like we did previously, we will work with a hand-curated list of important words extracted from the review data. We will also perform 2 simple data transformations:\n",
    "\n",
    "1. Remove punctuation using [Python's built-in](https://docs.python.org/2/library/string.html) string manipulation functionality.\n",
    "2. Compute word counts (only for the important_words)\n",
    "\n",
    "Refer to Module 3 assignment for more details."
   ]
  },
  {
   "cell_type": "code",
   "execution_count": 5,
   "metadata": {},
   "outputs": [],
   "source": [
    "import json\n",
    "with open('important_words.json', 'r') as f: \n",
    "    important_words = json.load(f)\n",
    "important_words = [str(s) for s in important_words]\n",
    "\n",
    "# Remote punctuation\n",
    "def remove_punctuation(text):\n",
    "    import string\n",
    "    return text.translate(string.punctuation) \n",
    "\n",
    "products['review_clean'] = products['review'].apply(remove_punctuation)\n",
    "\n",
    "# Split out the words into individual columns\n",
    "for word in important_words:\n",
    "    products[word] = products['review_clean'].apply(lambda s : s.split().count(word))"
   ]
  },
  {
   "cell_type": "markdown",
   "metadata": {},
   "source": [
    "The SFrame **products** now contains one column for each of the 193 **important_words**. "
   ]
  },
  {
   "cell_type": "code",
   "execution_count": 6,
   "metadata": {},
   "outputs": [
    {
     "data": {
      "text/html": [
       "<div style=\"max-height:1000px;max-width:1500px;overflow:auto;\"><table frame=\"box\" rules=\"cols\">\n",
       "    <tr>\n",
       "        <th style=\"padding-left: 1em; padding-right: 1em; text-align: center\">name</th>\n",
       "        <th style=\"padding-left: 1em; padding-right: 1em; text-align: center\">review</th>\n",
       "        <th style=\"padding-left: 1em; padding-right: 1em; text-align: center\">rating</th>\n",
       "        <th style=\"padding-left: 1em; padding-right: 1em; text-align: center\">sentiment</th>\n",
       "        <th style=\"padding-left: 1em; padding-right: 1em; text-align: center\">review_clean</th>\n",
       "        <th style=\"padding-left: 1em; padding-right: 1em; text-align: center\">baby</th>\n",
       "    </tr>\n",
       "    <tr>\n",
       "        <td style=\"padding-left: 1em; padding-right: 1em; text-align: center; vertical-align: top\">Stop Pacifier Sucking<br>without tears with ...</td>\n",
       "        <td style=\"padding-left: 1em; padding-right: 1em; text-align: center; vertical-align: top\">All of my kids have cried<br>non-stop when I tried to ...</td>\n",
       "        <td style=\"padding-left: 1em; padding-right: 1em; text-align: center; vertical-align: top\">5</td>\n",
       "        <td style=\"padding-left: 1em; padding-right: 1em; text-align: center; vertical-align: top\">1</td>\n",
       "        <td style=\"padding-left: 1em; padding-right: 1em; text-align: center; vertical-align: top\">All of my kids have cried<br>non-stop when I tried to ...</td>\n",
       "        <td style=\"padding-left: 1em; padding-right: 1em; text-align: center; vertical-align: top\">0</td>\n",
       "    </tr>\n",
       "    <tr>\n",
       "        <td style=\"padding-left: 1em; padding-right: 1em; text-align: center; vertical-align: top\">Nature&#x27;s Lullabies Second<br>Year Sticker Calendar ...</td>\n",
       "        <td style=\"padding-left: 1em; padding-right: 1em; text-align: center; vertical-align: top\">We wanted to get<br>something to keep track ...</td>\n",
       "        <td style=\"padding-left: 1em; padding-right: 1em; text-align: center; vertical-align: top\">5</td>\n",
       "        <td style=\"padding-left: 1em; padding-right: 1em; text-align: center; vertical-align: top\">1</td>\n",
       "        <td style=\"padding-left: 1em; padding-right: 1em; text-align: center; vertical-align: top\">We wanted to get<br>something to keep track ...</td>\n",
       "        <td style=\"padding-left: 1em; padding-right: 1em; text-align: center; vertical-align: top\">0</td>\n",
       "    </tr>\n",
       "    <tr>\n",
       "        <td style=\"padding-left: 1em; padding-right: 1em; text-align: center; vertical-align: top\">Nature&#x27;s Lullabies Second<br>Year Sticker Calendar ...</td>\n",
       "        <td style=\"padding-left: 1em; padding-right: 1em; text-align: center; vertical-align: top\">My daughter had her 1st<br>baby over a year ago. ...</td>\n",
       "        <td style=\"padding-left: 1em; padding-right: 1em; text-align: center; vertical-align: top\">5</td>\n",
       "        <td style=\"padding-left: 1em; padding-right: 1em; text-align: center; vertical-align: top\">1</td>\n",
       "        <td style=\"padding-left: 1em; padding-right: 1em; text-align: center; vertical-align: top\">My daughter had her 1st<br>baby over a year ago. ...</td>\n",
       "        <td style=\"padding-left: 1em; padding-right: 1em; text-align: center; vertical-align: top\">1</td>\n",
       "    </tr>\n",
       "    <tr>\n",
       "        <td style=\"padding-left: 1em; padding-right: 1em; text-align: center; vertical-align: top\">Lamaze Peekaboo, I Love<br>You ...</td>\n",
       "        <td style=\"padding-left: 1em; padding-right: 1em; text-align: center; vertical-align: top\">One of baby&#x27;s first and<br>favorite books, and i ...</td>\n",
       "        <td style=\"padding-left: 1em; padding-right: 1em; text-align: center; vertical-align: top\">4</td>\n",
       "        <td style=\"padding-left: 1em; padding-right: 1em; text-align: center; vertical-align: top\">1</td>\n",
       "        <td style=\"padding-left: 1em; padding-right: 1em; text-align: center; vertical-align: top\">One of baby&#x27;s first and<br>favorite books, and i ...</td>\n",
       "        <td style=\"padding-left: 1em; padding-right: 1em; text-align: center; vertical-align: top\">0</td>\n",
       "    </tr>\n",
       "    <tr>\n",
       "        <td style=\"padding-left: 1em; padding-right: 1em; text-align: center; vertical-align: top\">SoftPlay Peek-A-Boo<br>Where&#x27;s Elmo A Childr ...</td>\n",
       "        <td style=\"padding-left: 1em; padding-right: 1em; text-align: center; vertical-align: top\">Very cute interactive<br>book! My son loves this ...</td>\n",
       "        <td style=\"padding-left: 1em; padding-right: 1em; text-align: center; vertical-align: top\">5</td>\n",
       "        <td style=\"padding-left: 1em; padding-right: 1em; text-align: center; vertical-align: top\">1</td>\n",
       "        <td style=\"padding-left: 1em; padding-right: 1em; text-align: center; vertical-align: top\">Very cute interactive<br>book! My son loves this ...</td>\n",
       "        <td style=\"padding-left: 1em; padding-right: 1em; text-align: center; vertical-align: top\">0</td>\n",
       "    </tr>\n",
       "    <tr>\n",
       "        <td style=\"padding-left: 1em; padding-right: 1em; text-align: center; vertical-align: top\">Our Baby Girl Memory Book</td>\n",
       "        <td style=\"padding-left: 1em; padding-right: 1em; text-align: center; vertical-align: top\">Beautiful book, I love it<br>to record cherished t ...</td>\n",
       "        <td style=\"padding-left: 1em; padding-right: 1em; text-align: center; vertical-align: top\">5</td>\n",
       "        <td style=\"padding-left: 1em; padding-right: 1em; text-align: center; vertical-align: top\">1</td>\n",
       "        <td style=\"padding-left: 1em; padding-right: 1em; text-align: center; vertical-align: top\">Beautiful book, I love it<br>to record cherished t ...</td>\n",
       "        <td style=\"padding-left: 1em; padding-right: 1em; text-align: center; vertical-align: top\">0</td>\n",
       "    </tr>\n",
       "    <tr>\n",
       "        <td style=\"padding-left: 1em; padding-right: 1em; text-align: center; vertical-align: top\">Hunnt&amp;reg; Falling<br>Flowers and Birds Kids ...</td>\n",
       "        <td style=\"padding-left: 1em; padding-right: 1em; text-align: center; vertical-align: top\">Try this out for a spring<br>project !Easy ,fun and ...</td>\n",
       "        <td style=\"padding-left: 1em; padding-right: 1em; text-align: center; vertical-align: top\">5</td>\n",
       "        <td style=\"padding-left: 1em; padding-right: 1em; text-align: center; vertical-align: top\">1</td>\n",
       "        <td style=\"padding-left: 1em; padding-right: 1em; text-align: center; vertical-align: top\">Try this out for a spring<br>project !Easy ,fun and ...</td>\n",
       "        <td style=\"padding-left: 1em; padding-right: 1em; text-align: center; vertical-align: top\">0</td>\n",
       "    </tr>\n",
       "    <tr>\n",
       "        <td style=\"padding-left: 1em; padding-right: 1em; text-align: center; vertical-align: top\">Blessed By Pope Benedict<br>XVI Divine Mercy Full ...</td>\n",
       "        <td style=\"padding-left: 1em; padding-right: 1em; text-align: center; vertical-align: top\">very nice Divine Mercy<br>Pendant of Jesus now on ...</td>\n",
       "        <td style=\"padding-left: 1em; padding-right: 1em; text-align: center; vertical-align: top\">5</td>\n",
       "        <td style=\"padding-left: 1em; padding-right: 1em; text-align: center; vertical-align: top\">1</td>\n",
       "        <td style=\"padding-left: 1em; padding-right: 1em; text-align: center; vertical-align: top\">very nice Divine Mercy<br>Pendant of Jesus now on ...</td>\n",
       "        <td style=\"padding-left: 1em; padding-right: 1em; text-align: center; vertical-align: top\">0</td>\n",
       "    </tr>\n",
       "    <tr>\n",
       "        <td style=\"padding-left: 1em; padding-right: 1em; text-align: center; vertical-align: top\">Cloth Diaper Pins<br>Stainless Steel ...</td>\n",
       "        <td style=\"padding-left: 1em; padding-right: 1em; text-align: center; vertical-align: top\">We bought the pins as my<br>6 year old Autistic son ...</td>\n",
       "        <td style=\"padding-left: 1em; padding-right: 1em; text-align: center; vertical-align: top\">4</td>\n",
       "        <td style=\"padding-left: 1em; padding-right: 1em; text-align: center; vertical-align: top\">1</td>\n",
       "        <td style=\"padding-left: 1em; padding-right: 1em; text-align: center; vertical-align: top\">We bought the pins as my<br>6 year old Autistic son ...</td>\n",
       "        <td style=\"padding-left: 1em; padding-right: 1em; text-align: center; vertical-align: top\">0</td>\n",
       "    </tr>\n",
       "    <tr>\n",
       "        <td style=\"padding-left: 1em; padding-right: 1em; text-align: center; vertical-align: top\">Cloth Diaper Pins<br>Stainless Steel ...</td>\n",
       "        <td style=\"padding-left: 1em; padding-right: 1em; text-align: center; vertical-align: top\">It has been many years<br>since we needed diaper ...</td>\n",
       "        <td style=\"padding-left: 1em; padding-right: 1em; text-align: center; vertical-align: top\">5</td>\n",
       "        <td style=\"padding-left: 1em; padding-right: 1em; text-align: center; vertical-align: top\">1</td>\n",
       "        <td style=\"padding-left: 1em; padding-right: 1em; text-align: center; vertical-align: top\">It has been many years<br>since we needed diaper ...</td>\n",
       "        <td style=\"padding-left: 1em; padding-right: 1em; text-align: center; vertical-align: top\">0</td>\n",
       "    </tr>\n",
       "</table>\n",
       "<table frame=\"box\" rules=\"cols\">\n",
       "    <tr>\n",
       "        <th style=\"padding-left: 1em; padding-right: 1em; text-align: center\">one</th>\n",
       "        <th style=\"padding-left: 1em; padding-right: 1em; text-align: center\">great</th>\n",
       "        <th style=\"padding-left: 1em; padding-right: 1em; text-align: center\">love</th>\n",
       "        <th style=\"padding-left: 1em; padding-right: 1em; text-align: center\">use</th>\n",
       "        <th style=\"padding-left: 1em; padding-right: 1em; text-align: center\">would</th>\n",
       "        <th style=\"padding-left: 1em; padding-right: 1em; text-align: center\">like</th>\n",
       "        <th style=\"padding-left: 1em; padding-right: 1em; text-align: center\">easy</th>\n",
       "        <th style=\"padding-left: 1em; padding-right: 1em; text-align: center\">little</th>\n",
       "        <th style=\"padding-left: 1em; padding-right: 1em; text-align: center\">seat</th>\n",
       "        <th style=\"padding-left: 1em; padding-right: 1em; text-align: center\">old</th>\n",
       "        <th style=\"padding-left: 1em; padding-right: 1em; text-align: center\">well</th>\n",
       "        <th style=\"padding-left: 1em; padding-right: 1em; text-align: center\">get</th>\n",
       "        <th style=\"padding-left: 1em; padding-right: 1em; text-align: center\">also</th>\n",
       "        <th style=\"padding-left: 1em; padding-right: 1em; text-align: center\">really</th>\n",
       "        <th style=\"padding-left: 1em; padding-right: 1em; text-align: center\">son</th>\n",
       "        <th style=\"padding-left: 1em; padding-right: 1em; text-align: center\">time</th>\n",
       "        <th style=\"padding-left: 1em; padding-right: 1em; text-align: center\">bought</th>\n",
       "    </tr>\n",
       "    <tr>\n",
       "        <td style=\"padding-left: 1em; padding-right: 1em; text-align: center; vertical-align: top\">0</td>\n",
       "        <td style=\"padding-left: 1em; padding-right: 1em; text-align: center; vertical-align: top\">1</td>\n",
       "        <td style=\"padding-left: 1em; padding-right: 1em; text-align: center; vertical-align: top\">0</td>\n",
       "        <td style=\"padding-left: 1em; padding-right: 1em; text-align: center; vertical-align: top\">0</td>\n",
       "        <td style=\"padding-left: 1em; padding-right: 1em; text-align: center; vertical-align: top\">0</td>\n",
       "        <td style=\"padding-left: 1em; padding-right: 1em; text-align: center; vertical-align: top\">0</td>\n",
       "        <td style=\"padding-left: 1em; padding-right: 1em; text-align: center; vertical-align: top\">1</td>\n",
       "        <td style=\"padding-left: 1em; padding-right: 1em; text-align: center; vertical-align: top\">0</td>\n",
       "        <td style=\"padding-left: 1em; padding-right: 1em; text-align: center; vertical-align: top\">0</td>\n",
       "        <td style=\"padding-left: 1em; padding-right: 1em; text-align: center; vertical-align: top\">0</td>\n",
       "        <td style=\"padding-left: 1em; padding-right: 1em; text-align: center; vertical-align: top\">0</td>\n",
       "        <td style=\"padding-left: 1em; padding-right: 1em; text-align: center; vertical-align: top\">0</td>\n",
       "        <td style=\"padding-left: 1em; padding-right: 1em; text-align: center; vertical-align: top\">0</td>\n",
       "        <td style=\"padding-left: 1em; padding-right: 1em; text-align: center; vertical-align: top\">0</td>\n",
       "        <td style=\"padding-left: 1em; padding-right: 1em; text-align: center; vertical-align: top\">0</td>\n",
       "        <td style=\"padding-left: 1em; padding-right: 1em; text-align: center; vertical-align: top\">0</td>\n",
       "        <td style=\"padding-left: 1em; padding-right: 1em; text-align: center; vertical-align: top\">0</td>\n",
       "    </tr>\n",
       "    <tr>\n",
       "        <td style=\"padding-left: 1em; padding-right: 1em; text-align: center; vertical-align: top\">0</td>\n",
       "        <td style=\"padding-left: 1em; padding-right: 1em; text-align: center; vertical-align: top\">0</td>\n",
       "        <td style=\"padding-left: 1em; padding-right: 1em; text-align: center; vertical-align: top\">0</td>\n",
       "        <td style=\"padding-left: 1em; padding-right: 1em; text-align: center; vertical-align: top\">0</td>\n",
       "        <td style=\"padding-left: 1em; padding-right: 1em; text-align: center; vertical-align: top\">0</td>\n",
       "        <td style=\"padding-left: 1em; padding-right: 1em; text-align: center; vertical-align: top\">0</td>\n",
       "        <td style=\"padding-left: 1em; padding-right: 1em; text-align: center; vertical-align: top\">0</td>\n",
       "        <td style=\"padding-left: 1em; padding-right: 1em; text-align: center; vertical-align: top\">0</td>\n",
       "        <td style=\"padding-left: 1em; padding-right: 1em; text-align: center; vertical-align: top\">0</td>\n",
       "        <td style=\"padding-left: 1em; padding-right: 1em; text-align: center; vertical-align: top\">0</td>\n",
       "        <td style=\"padding-left: 1em; padding-right: 1em; text-align: center; vertical-align: top\">0</td>\n",
       "        <td style=\"padding-left: 1em; padding-right: 1em; text-align: center; vertical-align: top\">1</td>\n",
       "        <td style=\"padding-left: 1em; padding-right: 1em; text-align: center; vertical-align: top\">0</td>\n",
       "        <td style=\"padding-left: 1em; padding-right: 1em; text-align: center; vertical-align: top\">0</td>\n",
       "        <td style=\"padding-left: 1em; padding-right: 1em; text-align: center; vertical-align: top\">0</td>\n",
       "        <td style=\"padding-left: 1em; padding-right: 1em; text-align: center; vertical-align: top\">0</td>\n",
       "        <td style=\"padding-left: 1em; padding-right: 1em; text-align: center; vertical-align: top\">0</td>\n",
       "    </tr>\n",
       "    <tr>\n",
       "        <td style=\"padding-left: 1em; padding-right: 1em; text-align: center; vertical-align: top\">0</td>\n",
       "        <td style=\"padding-left: 1em; padding-right: 1em; text-align: center; vertical-align: top\">0</td>\n",
       "        <td style=\"padding-left: 1em; padding-right: 1em; text-align: center; vertical-align: top\">0</td>\n",
       "        <td style=\"padding-left: 1em; padding-right: 1em; text-align: center; vertical-align: top\">0</td>\n",
       "        <td style=\"padding-left: 1em; padding-right: 1em; text-align: center; vertical-align: top\">0</td>\n",
       "        <td style=\"padding-left: 1em; padding-right: 1em; text-align: center; vertical-align: top\">0</td>\n",
       "        <td style=\"padding-left: 1em; padding-right: 1em; text-align: center; vertical-align: top\">0</td>\n",
       "        <td style=\"padding-left: 1em; padding-right: 1em; text-align: center; vertical-align: top\">0</td>\n",
       "        <td style=\"padding-left: 1em; padding-right: 1em; text-align: center; vertical-align: top\">0</td>\n",
       "        <td style=\"padding-left: 1em; padding-right: 1em; text-align: center; vertical-align: top\">0</td>\n",
       "        <td style=\"padding-left: 1em; padding-right: 1em; text-align: center; vertical-align: top\">0</td>\n",
       "        <td style=\"padding-left: 1em; padding-right: 1em; text-align: center; vertical-align: top\">1</td>\n",
       "        <td style=\"padding-left: 1em; padding-right: 1em; text-align: center; vertical-align: top\">0</td>\n",
       "        <td style=\"padding-left: 1em; padding-right: 1em; text-align: center; vertical-align: top\">0</td>\n",
       "        <td style=\"padding-left: 1em; padding-right: 1em; text-align: center; vertical-align: top\">1</td>\n",
       "        <td style=\"padding-left: 1em; padding-right: 1em; text-align: center; vertical-align: top\">0</td>\n",
       "        <td style=\"padding-left: 1em; padding-right: 1em; text-align: center; vertical-align: top\">0</td>\n",
       "    </tr>\n",
       "    <tr>\n",
       "        <td style=\"padding-left: 1em; padding-right: 1em; text-align: center; vertical-align: top\">0</td>\n",
       "        <td style=\"padding-left: 1em; padding-right: 1em; text-align: center; vertical-align: top\">0</td>\n",
       "        <td style=\"padding-left: 1em; padding-right: 1em; text-align: center; vertical-align: top\">0</td>\n",
       "        <td style=\"padding-left: 1em; padding-right: 1em; text-align: center; vertical-align: top\">0</td>\n",
       "        <td style=\"padding-left: 1em; padding-right: 1em; text-align: center; vertical-align: top\">0</td>\n",
       "        <td style=\"padding-left: 1em; padding-right: 1em; text-align: center; vertical-align: top\">1</td>\n",
       "        <td style=\"padding-left: 1em; padding-right: 1em; text-align: center; vertical-align: top\">0</td>\n",
       "        <td style=\"padding-left: 1em; padding-right: 1em; text-align: center; vertical-align: top\">0</td>\n",
       "        <td style=\"padding-left: 1em; padding-right: 1em; text-align: center; vertical-align: top\">0</td>\n",
       "        <td style=\"padding-left: 1em; padding-right: 1em; text-align: center; vertical-align: top\">0</td>\n",
       "        <td style=\"padding-left: 1em; padding-right: 1em; text-align: center; vertical-align: top\">0</td>\n",
       "        <td style=\"padding-left: 1em; padding-right: 1em; text-align: center; vertical-align: top\">0</td>\n",
       "        <td style=\"padding-left: 1em; padding-right: 1em; text-align: center; vertical-align: top\">0</td>\n",
       "        <td style=\"padding-left: 1em; padding-right: 1em; text-align: center; vertical-align: top\">0</td>\n",
       "        <td style=\"padding-left: 1em; padding-right: 1em; text-align: center; vertical-align: top\">0</td>\n",
       "        <td style=\"padding-left: 1em; padding-right: 1em; text-align: center; vertical-align: top\">0</td>\n",
       "        <td style=\"padding-left: 1em; padding-right: 1em; text-align: center; vertical-align: top\">0</td>\n",
       "    </tr>\n",
       "    <tr>\n",
       "        <td style=\"padding-left: 1em; padding-right: 1em; text-align: center; vertical-align: top\">0</td>\n",
       "        <td style=\"padding-left: 1em; padding-right: 1em; text-align: center; vertical-align: top\">1</td>\n",
       "        <td style=\"padding-left: 1em; padding-right: 1em; text-align: center; vertical-align: top\">0</td>\n",
       "        <td style=\"padding-left: 1em; padding-right: 1em; text-align: center; vertical-align: top\">0</td>\n",
       "        <td style=\"padding-left: 1em; padding-right: 1em; text-align: center; vertical-align: top\">0</td>\n",
       "        <td style=\"padding-left: 1em; padding-right: 1em; text-align: center; vertical-align: top\">0</td>\n",
       "        <td style=\"padding-left: 1em; padding-right: 1em; text-align: center; vertical-align: top\">0</td>\n",
       "        <td style=\"padding-left: 1em; padding-right: 1em; text-align: center; vertical-align: top\">0</td>\n",
       "        <td style=\"padding-left: 1em; padding-right: 1em; text-align: center; vertical-align: top\">0</td>\n",
       "        <td style=\"padding-left: 1em; padding-right: 1em; text-align: center; vertical-align: top\">0</td>\n",
       "        <td style=\"padding-left: 1em; padding-right: 1em; text-align: center; vertical-align: top\">0</td>\n",
       "        <td style=\"padding-left: 1em; padding-right: 1em; text-align: center; vertical-align: top\">0</td>\n",
       "        <td style=\"padding-left: 1em; padding-right: 1em; text-align: center; vertical-align: top\">0</td>\n",
       "        <td style=\"padding-left: 1em; padding-right: 1em; text-align: center; vertical-align: top\">0</td>\n",
       "        <td style=\"padding-left: 1em; padding-right: 1em; text-align: center; vertical-align: top\">1</td>\n",
       "        <td style=\"padding-left: 1em; padding-right: 1em; text-align: center; vertical-align: top\">0</td>\n",
       "        <td style=\"padding-left: 1em; padding-right: 1em; text-align: center; vertical-align: top\">0</td>\n",
       "    </tr>\n",
       "    <tr>\n",
       "        <td style=\"padding-left: 1em; padding-right: 1em; text-align: center; vertical-align: top\">0</td>\n",
       "        <td style=\"padding-left: 1em; padding-right: 1em; text-align: center; vertical-align: top\">1</td>\n",
       "        <td style=\"padding-left: 1em; padding-right: 1em; text-align: center; vertical-align: top\">1</td>\n",
       "        <td style=\"padding-left: 1em; padding-right: 1em; text-align: center; vertical-align: top\">0</td>\n",
       "        <td style=\"padding-left: 1em; padding-right: 1em; text-align: center; vertical-align: top\">0</td>\n",
       "        <td style=\"padding-left: 1em; padding-right: 1em; text-align: center; vertical-align: top\">0</td>\n",
       "        <td style=\"padding-left: 1em; padding-right: 1em; text-align: center; vertical-align: top\">0</td>\n",
       "        <td style=\"padding-left: 1em; padding-right: 1em; text-align: center; vertical-align: top\">0</td>\n",
       "        <td style=\"padding-left: 1em; padding-right: 1em; text-align: center; vertical-align: top\">0</td>\n",
       "        <td style=\"padding-left: 1em; padding-right: 1em; text-align: center; vertical-align: top\">0</td>\n",
       "        <td style=\"padding-left: 1em; padding-right: 1em; text-align: center; vertical-align: top\">0</td>\n",
       "        <td style=\"padding-left: 1em; padding-right: 1em; text-align: center; vertical-align: top\">0</td>\n",
       "        <td style=\"padding-left: 1em; padding-right: 1em; text-align: center; vertical-align: top\">0</td>\n",
       "        <td style=\"padding-left: 1em; padding-right: 1em; text-align: center; vertical-align: top\">0</td>\n",
       "        <td style=\"padding-left: 1em; padding-right: 1em; text-align: center; vertical-align: top\">0</td>\n",
       "        <td style=\"padding-left: 1em; padding-right: 1em; text-align: center; vertical-align: top\">0</td>\n",
       "        <td style=\"padding-left: 1em; padding-right: 1em; text-align: center; vertical-align: top\">0</td>\n",
       "    </tr>\n",
       "    <tr>\n",
       "        <td style=\"padding-left: 1em; padding-right: 1em; text-align: center; vertical-align: top\">0</td>\n",
       "        <td style=\"padding-left: 1em; padding-right: 1em; text-align: center; vertical-align: top\">0</td>\n",
       "        <td style=\"padding-left: 1em; padding-right: 1em; text-align: center; vertical-align: top\">0</td>\n",
       "        <td style=\"padding-left: 1em; padding-right: 1em; text-align: center; vertical-align: top\">0</td>\n",
       "        <td style=\"padding-left: 1em; padding-right: 1em; text-align: center; vertical-align: top\">0</td>\n",
       "        <td style=\"padding-left: 1em; padding-right: 1em; text-align: center; vertical-align: top\">0</td>\n",
       "        <td style=\"padding-left: 1em; padding-right: 1em; text-align: center; vertical-align: top\">0</td>\n",
       "        <td style=\"padding-left: 1em; padding-right: 1em; text-align: center; vertical-align: top\">0</td>\n",
       "        <td style=\"padding-left: 1em; padding-right: 1em; text-align: center; vertical-align: top\">0</td>\n",
       "        <td style=\"padding-left: 1em; padding-right: 1em; text-align: center; vertical-align: top\">0</td>\n",
       "        <td style=\"padding-left: 1em; padding-right: 1em; text-align: center; vertical-align: top\">0</td>\n",
       "        <td style=\"padding-left: 1em; padding-right: 1em; text-align: center; vertical-align: top\">0</td>\n",
       "        <td style=\"padding-left: 1em; padding-right: 1em; text-align: center; vertical-align: top\">0</td>\n",
       "        <td style=\"padding-left: 1em; padding-right: 1em; text-align: center; vertical-align: top\">0</td>\n",
       "        <td style=\"padding-left: 1em; padding-right: 1em; text-align: center; vertical-align: top\">0</td>\n",
       "        <td style=\"padding-left: 1em; padding-right: 1em; text-align: center; vertical-align: top\">0</td>\n",
       "        <td style=\"padding-left: 1em; padding-right: 1em; text-align: center; vertical-align: top\">0</td>\n",
       "    </tr>\n",
       "    <tr>\n",
       "        <td style=\"padding-left: 1em; padding-right: 1em; text-align: center; vertical-align: top\">0</td>\n",
       "        <td style=\"padding-left: 1em; padding-right: 1em; text-align: center; vertical-align: top\">0</td>\n",
       "        <td style=\"padding-left: 1em; padding-right: 1em; text-align: center; vertical-align: top\">0</td>\n",
       "        <td style=\"padding-left: 1em; padding-right: 1em; text-align: center; vertical-align: top\">0</td>\n",
       "        <td style=\"padding-left: 1em; padding-right: 1em; text-align: center; vertical-align: top\">0</td>\n",
       "        <td style=\"padding-left: 1em; padding-right: 1em; text-align: center; vertical-align: top\">0</td>\n",
       "        <td style=\"padding-left: 1em; padding-right: 1em; text-align: center; vertical-align: top\">0</td>\n",
       "        <td style=\"padding-left: 1em; padding-right: 1em; text-align: center; vertical-align: top\">0</td>\n",
       "        <td style=\"padding-left: 1em; padding-right: 1em; text-align: center; vertical-align: top\">0</td>\n",
       "        <td style=\"padding-left: 1em; padding-right: 1em; text-align: center; vertical-align: top\">0</td>\n",
       "        <td style=\"padding-left: 1em; padding-right: 1em; text-align: center; vertical-align: top\">0</td>\n",
       "        <td style=\"padding-left: 1em; padding-right: 1em; text-align: center; vertical-align: top\">0</td>\n",
       "        <td style=\"padding-left: 1em; padding-right: 1em; text-align: center; vertical-align: top\">0</td>\n",
       "        <td style=\"padding-left: 1em; padding-right: 1em; text-align: center; vertical-align: top\">0</td>\n",
       "        <td style=\"padding-left: 1em; padding-right: 1em; text-align: center; vertical-align: top\">0</td>\n",
       "        <td style=\"padding-left: 1em; padding-right: 1em; text-align: center; vertical-align: top\">0</td>\n",
       "        <td style=\"padding-left: 1em; padding-right: 1em; text-align: center; vertical-align: top\">0</td>\n",
       "    </tr>\n",
       "    <tr>\n",
       "        <td style=\"padding-left: 1em; padding-right: 1em; text-align: center; vertical-align: top\">1</td>\n",
       "        <td style=\"padding-left: 1em; padding-right: 1em; text-align: center; vertical-align: top\">0</td>\n",
       "        <td style=\"padding-left: 1em; padding-right: 1em; text-align: center; vertical-align: top\">0</td>\n",
       "        <td style=\"padding-left: 1em; padding-right: 1em; text-align: center; vertical-align: top\">1</td>\n",
       "        <td style=\"padding-left: 1em; padding-right: 1em; text-align: center; vertical-align: top\">0</td>\n",
       "        <td style=\"padding-left: 1em; padding-right: 1em; text-align: center; vertical-align: top\">0</td>\n",
       "        <td style=\"padding-left: 1em; padding-right: 1em; text-align: center; vertical-align: top\">0</td>\n",
       "        <td style=\"padding-left: 1em; padding-right: 1em; text-align: center; vertical-align: top\">0</td>\n",
       "        <td style=\"padding-left: 1em; padding-right: 1em; text-align: center; vertical-align: top\">0</td>\n",
       "        <td style=\"padding-left: 1em; padding-right: 1em; text-align: center; vertical-align: top\">1</td>\n",
       "        <td style=\"padding-left: 1em; padding-right: 1em; text-align: center; vertical-align: top\">0</td>\n",
       "        <td style=\"padding-left: 1em; padding-right: 1em; text-align: center; vertical-align: top\">0</td>\n",
       "        <td style=\"padding-left: 1em; padding-right: 1em; text-align: center; vertical-align: top\">0</td>\n",
       "        <td style=\"padding-left: 1em; padding-right: 1em; text-align: center; vertical-align: top\">0</td>\n",
       "        <td style=\"padding-left: 1em; padding-right: 1em; text-align: center; vertical-align: top\">1</td>\n",
       "        <td style=\"padding-left: 1em; padding-right: 1em; text-align: center; vertical-align: top\">1</td>\n",
       "        <td style=\"padding-left: 1em; padding-right: 1em; text-align: center; vertical-align: top\">1</td>\n",
       "    </tr>\n",
       "    <tr>\n",
       "        <td style=\"padding-left: 1em; padding-right: 1em; text-align: center; vertical-align: top\">1</td>\n",
       "        <td style=\"padding-left: 1em; padding-right: 1em; text-align: center; vertical-align: top\">0</td>\n",
       "        <td style=\"padding-left: 1em; padding-right: 1em; text-align: center; vertical-align: top\">0</td>\n",
       "        <td style=\"padding-left: 1em; padding-right: 1em; text-align: center; vertical-align: top\">0</td>\n",
       "        <td style=\"padding-left: 1em; padding-right: 1em; text-align: center; vertical-align: top\">0</td>\n",
       "        <td style=\"padding-left: 1em; padding-right: 1em; text-align: center; vertical-align: top\">1</td>\n",
       "        <td style=\"padding-left: 1em; padding-right: 1em; text-align: center; vertical-align: top\">0</td>\n",
       "        <td style=\"padding-left: 1em; padding-right: 1em; text-align: center; vertical-align: top\">1</td>\n",
       "        <td style=\"padding-left: 1em; padding-right: 1em; text-align: center; vertical-align: top\">0</td>\n",
       "        <td style=\"padding-left: 1em; padding-right: 1em; text-align: center; vertical-align: top\">0</td>\n",
       "        <td style=\"padding-left: 1em; padding-right: 1em; text-align: center; vertical-align: top\">0</td>\n",
       "        <td style=\"padding-left: 1em; padding-right: 1em; text-align: center; vertical-align: top\">1</td>\n",
       "        <td style=\"padding-left: 1em; padding-right: 1em; text-align: center; vertical-align: top\">0</td>\n",
       "        <td style=\"padding-left: 1em; padding-right: 1em; text-align: center; vertical-align: top\">0</td>\n",
       "        <td style=\"padding-left: 1em; padding-right: 1em; text-align: center; vertical-align: top\">0</td>\n",
       "        <td style=\"padding-left: 1em; padding-right: 1em; text-align: center; vertical-align: top\">0</td>\n",
       "        <td style=\"padding-left: 1em; padding-right: 1em; text-align: center; vertical-align: top\">0</td>\n",
       "    </tr>\n",
       "</table>\n",
       "<table frame=\"box\" rules=\"cols\">\n",
       "    <tr>\n",
       "        <th style=\"padding-left: 1em; padding-right: 1em; text-align: center\">product</th>\n",
       "        <th style=\"padding-left: 1em; padding-right: 1em; text-align: center\">good</th>\n",
       "        <th style=\"padding-left: 1em; padding-right: 1em; text-align: center\">daughter</th>\n",
       "        <th style=\"padding-left: 1em; padding-right: 1em; text-align: center\">much</th>\n",
       "        <th style=\"padding-left: 1em; padding-right: 1em; text-align: center\">loves</th>\n",
       "        <th style=\"padding-left: 1em; padding-right: 1em; text-align: center\">stroller</th>\n",
       "        <th style=\"padding-left: 1em; padding-right: 1em; text-align: center\">put</th>\n",
       "        <th style=\"padding-left: 1em; padding-right: 1em; text-align: center\">months</th>\n",
       "        <th style=\"padding-left: 1em; padding-right: 1em; text-align: center\">car</th>\n",
       "        <th style=\"padding-left: 1em; padding-right: 1em; text-align: center\">still</th>\n",
       "        <th style=\"padding-left: 1em; padding-right: 1em; text-align: center\">back</th>\n",
       "        <th style=\"padding-left: 1em; padding-right: 1em; text-align: center\">used</th>\n",
       "        <th style=\"padding-left: 1em; padding-right: 1em; text-align: center\">recommend</th>\n",
       "        <th style=\"padding-left: 1em; padding-right: 1em; text-align: center\">first</th>\n",
       "        <th style=\"padding-left: 1em; padding-right: 1em; text-align: center\">even</th>\n",
       "    </tr>\n",
       "    <tr>\n",
       "        <td style=\"padding-left: 1em; padding-right: 1em; text-align: center; vertical-align: top\">0</td>\n",
       "        <td style=\"padding-left: 1em; padding-right: 1em; text-align: center; vertical-align: top\">0</td>\n",
       "        <td style=\"padding-left: 1em; padding-right: 1em; text-align: center; vertical-align: top\">0</td>\n",
       "        <td style=\"padding-left: 1em; padding-right: 1em; text-align: center; vertical-align: top\">0</td>\n",
       "        <td style=\"padding-left: 1em; padding-right: 1em; text-align: center; vertical-align: top\">0</td>\n",
       "        <td style=\"padding-left: 1em; padding-right: 1em; text-align: center; vertical-align: top\">0</td>\n",
       "        <td style=\"padding-left: 1em; padding-right: 1em; text-align: center; vertical-align: top\">0</td>\n",
       "        <td style=\"padding-left: 1em; padding-right: 1em; text-align: center; vertical-align: top\">0</td>\n",
       "        <td style=\"padding-left: 1em; padding-right: 1em; text-align: center; vertical-align: top\">0</td>\n",
       "        <td style=\"padding-left: 1em; padding-right: 1em; text-align: center; vertical-align: top\">0</td>\n",
       "        <td style=\"padding-left: 1em; padding-right: 1em; text-align: center; vertical-align: top\">0</td>\n",
       "        <td style=\"padding-left: 1em; padding-right: 1em; text-align: center; vertical-align: top\">0</td>\n",
       "        <td style=\"padding-left: 1em; padding-right: 1em; text-align: center; vertical-align: top\">0</td>\n",
       "        <td style=\"padding-left: 1em; padding-right: 1em; text-align: center; vertical-align: top\">0</td>\n",
       "        <td style=\"padding-left: 1em; padding-right: 1em; text-align: center; vertical-align: top\">0</td>\n",
       "    </tr>\n",
       "    <tr>\n",
       "        <td style=\"padding-left: 1em; padding-right: 1em; text-align: center; vertical-align: top\">0</td>\n",
       "        <td style=\"padding-left: 1em; padding-right: 1em; text-align: center; vertical-align: top\">0</td>\n",
       "        <td style=\"padding-left: 1em; padding-right: 1em; text-align: center; vertical-align: top\">0</td>\n",
       "        <td style=\"padding-left: 1em; padding-right: 1em; text-align: center; vertical-align: top\">0</td>\n",
       "        <td style=\"padding-left: 1em; padding-right: 1em; text-align: center; vertical-align: top\">0</td>\n",
       "        <td style=\"padding-left: 1em; padding-right: 1em; text-align: center; vertical-align: top\">0</td>\n",
       "        <td style=\"padding-left: 1em; padding-right: 1em; text-align: center; vertical-align: top\">0</td>\n",
       "        <td style=\"padding-left: 1em; padding-right: 1em; text-align: center; vertical-align: top\">0</td>\n",
       "        <td style=\"padding-left: 1em; padding-right: 1em; text-align: center; vertical-align: top\">0</td>\n",
       "        <td style=\"padding-left: 1em; padding-right: 1em; text-align: center; vertical-align: top\">0</td>\n",
       "        <td style=\"padding-left: 1em; padding-right: 1em; text-align: center; vertical-align: top\">0</td>\n",
       "        <td style=\"padding-left: 1em; padding-right: 1em; text-align: center; vertical-align: top\">0</td>\n",
       "        <td style=\"padding-left: 1em; padding-right: 1em; text-align: center; vertical-align: top\">0</td>\n",
       "        <td style=\"padding-left: 1em; padding-right: 1em; text-align: center; vertical-align: top\">0</td>\n",
       "        <td style=\"padding-left: 1em; padding-right: 1em; text-align: center; vertical-align: top\">0</td>\n",
       "    </tr>\n",
       "    <tr>\n",
       "        <td style=\"padding-left: 1em; padding-right: 1em; text-align: center; vertical-align: top\">0</td>\n",
       "        <td style=\"padding-left: 1em; padding-right: 1em; text-align: center; vertical-align: top\">0</td>\n",
       "        <td style=\"padding-left: 1em; padding-right: 1em; text-align: center; vertical-align: top\">1</td>\n",
       "        <td style=\"padding-left: 1em; padding-right: 1em; text-align: center; vertical-align: top\">0</td>\n",
       "        <td style=\"padding-left: 1em; padding-right: 1em; text-align: center; vertical-align: top\">0</td>\n",
       "        <td style=\"padding-left: 1em; padding-right: 1em; text-align: center; vertical-align: top\">0</td>\n",
       "        <td style=\"padding-left: 1em; padding-right: 1em; text-align: center; vertical-align: top\">0</td>\n",
       "        <td style=\"padding-left: 1em; padding-right: 1em; text-align: center; vertical-align: top\">0</td>\n",
       "        <td style=\"padding-left: 1em; padding-right: 1em; text-align: center; vertical-align: top\">0</td>\n",
       "        <td style=\"padding-left: 1em; padding-right: 1em; text-align: center; vertical-align: top\">0</td>\n",
       "        <td style=\"padding-left: 1em; padding-right: 1em; text-align: center; vertical-align: top\">0</td>\n",
       "        <td style=\"padding-left: 1em; padding-right: 1em; text-align: center; vertical-align: top\">0</td>\n",
       "        <td style=\"padding-left: 1em; padding-right: 1em; text-align: center; vertical-align: top\">0</td>\n",
       "        <td style=\"padding-left: 1em; padding-right: 1em; text-align: center; vertical-align: top\">1</td>\n",
       "        <td style=\"padding-left: 1em; padding-right: 1em; text-align: center; vertical-align: top\">0</td>\n",
       "    </tr>\n",
       "    <tr>\n",
       "        <td style=\"padding-left: 1em; padding-right: 1em; text-align: center; vertical-align: top\">0</td>\n",
       "        <td style=\"padding-left: 1em; padding-right: 1em; text-align: center; vertical-align: top\">0</td>\n",
       "        <td style=\"padding-left: 1em; padding-right: 1em; text-align: center; vertical-align: top\">0</td>\n",
       "        <td style=\"padding-left: 1em; padding-right: 1em; text-align: center; vertical-align: top\">0</td>\n",
       "        <td style=\"padding-left: 1em; padding-right: 1em; text-align: center; vertical-align: top\">0</td>\n",
       "        <td style=\"padding-left: 1em; padding-right: 1em; text-align: center; vertical-align: top\">0</td>\n",
       "        <td style=\"padding-left: 1em; padding-right: 1em; text-align: center; vertical-align: top\">0</td>\n",
       "        <td style=\"padding-left: 1em; padding-right: 1em; text-align: center; vertical-align: top\">0</td>\n",
       "        <td style=\"padding-left: 1em; padding-right: 1em; text-align: center; vertical-align: top\">0</td>\n",
       "        <td style=\"padding-left: 1em; padding-right: 1em; text-align: center; vertical-align: top\">0</td>\n",
       "        <td style=\"padding-left: 1em; padding-right: 1em; text-align: center; vertical-align: top\">0</td>\n",
       "        <td style=\"padding-left: 1em; padding-right: 1em; text-align: center; vertical-align: top\">0</td>\n",
       "        <td style=\"padding-left: 1em; padding-right: 1em; text-align: center; vertical-align: top\">0</td>\n",
       "        <td style=\"padding-left: 1em; padding-right: 1em; text-align: center; vertical-align: top\">1</td>\n",
       "        <td style=\"padding-left: 1em; padding-right: 1em; text-align: center; vertical-align: top\">0</td>\n",
       "    </tr>\n",
       "    <tr>\n",
       "        <td style=\"padding-left: 1em; padding-right: 1em; text-align: center; vertical-align: top\">0</td>\n",
       "        <td style=\"padding-left: 1em; padding-right: 1em; text-align: center; vertical-align: top\">0</td>\n",
       "        <td style=\"padding-left: 1em; padding-right: 1em; text-align: center; vertical-align: top\">0</td>\n",
       "        <td style=\"padding-left: 1em; padding-right: 1em; text-align: center; vertical-align: top\">0</td>\n",
       "        <td style=\"padding-left: 1em; padding-right: 1em; text-align: center; vertical-align: top\">1</td>\n",
       "        <td style=\"padding-left: 1em; padding-right: 1em; text-align: center; vertical-align: top\">0</td>\n",
       "        <td style=\"padding-left: 1em; padding-right: 1em; text-align: center; vertical-align: top\">0</td>\n",
       "        <td style=\"padding-left: 1em; padding-right: 1em; text-align: center; vertical-align: top\">0</td>\n",
       "        <td style=\"padding-left: 1em; padding-right: 1em; text-align: center; vertical-align: top\">0</td>\n",
       "        <td style=\"padding-left: 1em; padding-right: 1em; text-align: center; vertical-align: top\">0</td>\n",
       "        <td style=\"padding-left: 1em; padding-right: 1em; text-align: center; vertical-align: top\">0</td>\n",
       "        <td style=\"padding-left: 1em; padding-right: 1em; text-align: center; vertical-align: top\">0</td>\n",
       "        <td style=\"padding-left: 1em; padding-right: 1em; text-align: center; vertical-align: top\">0</td>\n",
       "        <td style=\"padding-left: 1em; padding-right: 1em; text-align: center; vertical-align: top\">0</td>\n",
       "        <td style=\"padding-left: 1em; padding-right: 1em; text-align: center; vertical-align: top\">0</td>\n",
       "    </tr>\n",
       "    <tr>\n",
       "        <td style=\"padding-left: 1em; padding-right: 1em; text-align: center; vertical-align: top\">0</td>\n",
       "        <td style=\"padding-left: 1em; padding-right: 1em; text-align: center; vertical-align: top\">0</td>\n",
       "        <td style=\"padding-left: 1em; padding-right: 1em; text-align: center; vertical-align: top\">0</td>\n",
       "        <td style=\"padding-left: 1em; padding-right: 1em; text-align: center; vertical-align: top\">0</td>\n",
       "        <td style=\"padding-left: 1em; padding-right: 1em; text-align: center; vertical-align: top\">0</td>\n",
       "        <td style=\"padding-left: 1em; padding-right: 1em; text-align: center; vertical-align: top\">0</td>\n",
       "        <td style=\"padding-left: 1em; padding-right: 1em; text-align: center; vertical-align: top\">0</td>\n",
       "        <td style=\"padding-left: 1em; padding-right: 1em; text-align: center; vertical-align: top\">0</td>\n",
       "        <td style=\"padding-left: 1em; padding-right: 1em; text-align: center; vertical-align: top\">0</td>\n",
       "        <td style=\"padding-left: 1em; padding-right: 1em; text-align: center; vertical-align: top\">0</td>\n",
       "        <td style=\"padding-left: 1em; padding-right: 1em; text-align: center; vertical-align: top\">0</td>\n",
       "        <td style=\"padding-left: 1em; padding-right: 1em; text-align: center; vertical-align: top\">0</td>\n",
       "        <td style=\"padding-left: 1em; padding-right: 1em; text-align: center; vertical-align: top\">0</td>\n",
       "        <td style=\"padding-left: 1em; padding-right: 1em; text-align: center; vertical-align: top\">0</td>\n",
       "        <td style=\"padding-left: 1em; padding-right: 1em; text-align: center; vertical-align: top\">0</td>\n",
       "    </tr>\n",
       "    <tr>\n",
       "        <td style=\"padding-left: 1em; padding-right: 1em; text-align: center; vertical-align: top\">0</td>\n",
       "        <td style=\"padding-left: 1em; padding-right: 1em; text-align: center; vertical-align: top\">0</td>\n",
       "        <td style=\"padding-left: 1em; padding-right: 1em; text-align: center; vertical-align: top\">0</td>\n",
       "        <td style=\"padding-left: 1em; padding-right: 1em; text-align: center; vertical-align: top\">0</td>\n",
       "        <td style=\"padding-left: 1em; padding-right: 1em; text-align: center; vertical-align: top\">0</td>\n",
       "        <td style=\"padding-left: 1em; padding-right: 1em; text-align: center; vertical-align: top\">0</td>\n",
       "        <td style=\"padding-left: 1em; padding-right: 1em; text-align: center; vertical-align: top\">0</td>\n",
       "        <td style=\"padding-left: 1em; padding-right: 1em; text-align: center; vertical-align: top\">0</td>\n",
       "        <td style=\"padding-left: 1em; padding-right: 1em; text-align: center; vertical-align: top\">0</td>\n",
       "        <td style=\"padding-left: 1em; padding-right: 1em; text-align: center; vertical-align: top\">0</td>\n",
       "        <td style=\"padding-left: 1em; padding-right: 1em; text-align: center; vertical-align: top\">0</td>\n",
       "        <td style=\"padding-left: 1em; padding-right: 1em; text-align: center; vertical-align: top\">0</td>\n",
       "        <td style=\"padding-left: 1em; padding-right: 1em; text-align: center; vertical-align: top\">0</td>\n",
       "        <td style=\"padding-left: 1em; padding-right: 1em; text-align: center; vertical-align: top\">0</td>\n",
       "        <td style=\"padding-left: 1em; padding-right: 1em; text-align: center; vertical-align: top\">0</td>\n",
       "    </tr>\n",
       "    <tr>\n",
       "        <td style=\"padding-left: 1em; padding-right: 1em; text-align: center; vertical-align: top\">0</td>\n",
       "        <td style=\"padding-left: 1em; padding-right: 1em; text-align: center; vertical-align: top\">0</td>\n",
       "        <td style=\"padding-left: 1em; padding-right: 1em; text-align: center; vertical-align: top\">0</td>\n",
       "        <td style=\"padding-left: 1em; padding-right: 1em; text-align: center; vertical-align: top\">0</td>\n",
       "        <td style=\"padding-left: 1em; padding-right: 1em; text-align: center; vertical-align: top\">0</td>\n",
       "        <td style=\"padding-left: 1em; padding-right: 1em; text-align: center; vertical-align: top\">0</td>\n",
       "        <td style=\"padding-left: 1em; padding-right: 1em; text-align: center; vertical-align: top\">0</td>\n",
       "        <td style=\"padding-left: 1em; padding-right: 1em; text-align: center; vertical-align: top\">0</td>\n",
       "        <td style=\"padding-left: 1em; padding-right: 1em; text-align: center; vertical-align: top\">0</td>\n",
       "        <td style=\"padding-left: 1em; padding-right: 1em; text-align: center; vertical-align: top\">0</td>\n",
       "        <td style=\"padding-left: 1em; padding-right: 1em; text-align: center; vertical-align: top\">0</td>\n",
       "        <td style=\"padding-left: 1em; padding-right: 1em; text-align: center; vertical-align: top\">0</td>\n",
       "        <td style=\"padding-left: 1em; padding-right: 1em; text-align: center; vertical-align: top\">0</td>\n",
       "        <td style=\"padding-left: 1em; padding-right: 1em; text-align: center; vertical-align: top\">0</td>\n",
       "        <td style=\"padding-left: 1em; padding-right: 1em; text-align: center; vertical-align: top\">0</td>\n",
       "    </tr>\n",
       "    <tr>\n",
       "        <td style=\"padding-left: 1em; padding-right: 1em; text-align: center; vertical-align: top\">0</td>\n",
       "        <td style=\"padding-left: 1em; padding-right: 1em; text-align: center; vertical-align: top\">0</td>\n",
       "        <td style=\"padding-left: 1em; padding-right: 1em; text-align: center; vertical-align: top\">0</td>\n",
       "        <td style=\"padding-left: 1em; padding-right: 1em; text-align: center; vertical-align: top\">0</td>\n",
       "        <td style=\"padding-left: 1em; padding-right: 1em; text-align: center; vertical-align: top\">0</td>\n",
       "        <td style=\"padding-left: 1em; padding-right: 1em; text-align: center; vertical-align: top\">0</td>\n",
       "        <td style=\"padding-left: 1em; padding-right: 1em; text-align: center; vertical-align: top\">0</td>\n",
       "        <td style=\"padding-left: 1em; padding-right: 1em; text-align: center; vertical-align: top\">0</td>\n",
       "        <td style=\"padding-left: 1em; padding-right: 1em; text-align: center; vertical-align: top\">0</td>\n",
       "        <td style=\"padding-left: 1em; padding-right: 1em; text-align: center; vertical-align: top\">0</td>\n",
       "        <td style=\"padding-left: 1em; padding-right: 1em; text-align: center; vertical-align: top\">0</td>\n",
       "        <td style=\"padding-left: 1em; padding-right: 1em; text-align: center; vertical-align: top\">0</td>\n",
       "        <td style=\"padding-left: 1em; padding-right: 1em; text-align: center; vertical-align: top\">0</td>\n",
       "        <td style=\"padding-left: 1em; padding-right: 1em; text-align: center; vertical-align: top\">0</td>\n",
       "        <td style=\"padding-left: 1em; padding-right: 1em; text-align: center; vertical-align: top\">0</td>\n",
       "    </tr>\n",
       "    <tr>\n",
       "        <td style=\"padding-left: 1em; padding-right: 1em; text-align: center; vertical-align: top\">0</td>\n",
       "        <td style=\"padding-left: 1em; padding-right: 1em; text-align: center; vertical-align: top\">0</td>\n",
       "        <td style=\"padding-left: 1em; padding-right: 1em; text-align: center; vertical-align: top\">0</td>\n",
       "        <td style=\"padding-left: 1em; padding-right: 1em; text-align: center; vertical-align: top\">0</td>\n",
       "        <td style=\"padding-left: 1em; padding-right: 1em; text-align: center; vertical-align: top\">0</td>\n",
       "        <td style=\"padding-left: 1em; padding-right: 1em; text-align: center; vertical-align: top\">0</td>\n",
       "        <td style=\"padding-left: 1em; padding-right: 1em; text-align: center; vertical-align: top\">0</td>\n",
       "        <td style=\"padding-left: 1em; padding-right: 1em; text-align: center; vertical-align: top\">0</td>\n",
       "        <td style=\"padding-left: 1em; padding-right: 1em; text-align: center; vertical-align: top\">0</td>\n",
       "        <td style=\"padding-left: 1em; padding-right: 1em; text-align: center; vertical-align: top\">0</td>\n",
       "        <td style=\"padding-left: 1em; padding-right: 1em; text-align: center; vertical-align: top\">0</td>\n",
       "        <td style=\"padding-left: 1em; padding-right: 1em; text-align: center; vertical-align: top\">0</td>\n",
       "        <td style=\"padding-left: 1em; padding-right: 1em; text-align: center; vertical-align: top\">0</td>\n",
       "        <td style=\"padding-left: 1em; padding-right: 1em; text-align: center; vertical-align: top\">0</td>\n",
       "        <td style=\"padding-left: 1em; padding-right: 1em; text-align: center; vertical-align: top\">0</td>\n",
       "    </tr>\n",
       "</table>\n",
       "<table frame=\"box\" rules=\"cols\">\n",
       "    <tr>\n",
       "        <th style=\"padding-left: 1em; padding-right: 1em; text-align: center\">perfect</th>\n",
       "        <th style=\"padding-left: 1em; padding-right: 1em; text-align: center\">nice</th>\n",
       "        <th style=\"padding-left: 1em; padding-right: 1em; text-align: center\">...</th>\n",
       "    </tr>\n",
       "    <tr>\n",
       "        <td style=\"padding-left: 1em; padding-right: 1em; text-align: center; vertical-align: top\">0</td>\n",
       "        <td style=\"padding-left: 1em; padding-right: 1em; text-align: center; vertical-align: top\">0</td>\n",
       "        <td style=\"padding-left: 1em; padding-right: 1em; text-align: center; vertical-align: top\">...</td>\n",
       "    </tr>\n",
       "    <tr>\n",
       "        <td style=\"padding-left: 1em; padding-right: 1em; text-align: center; vertical-align: top\">0</td>\n",
       "        <td style=\"padding-left: 1em; padding-right: 1em; text-align: center; vertical-align: top\">0</td>\n",
       "        <td style=\"padding-left: 1em; padding-right: 1em; text-align: center; vertical-align: top\">...</td>\n",
       "    </tr>\n",
       "    <tr>\n",
       "        <td style=\"padding-left: 1em; padding-right: 1em; text-align: center; vertical-align: top\">0</td>\n",
       "        <td style=\"padding-left: 1em; padding-right: 1em; text-align: center; vertical-align: top\">1</td>\n",
       "        <td style=\"padding-left: 1em; padding-right: 1em; text-align: center; vertical-align: top\">...</td>\n",
       "    </tr>\n",
       "    <tr>\n",
       "        <td style=\"padding-left: 1em; padding-right: 1em; text-align: center; vertical-align: top\">1</td>\n",
       "        <td style=\"padding-left: 1em; padding-right: 1em; text-align: center; vertical-align: top\">0</td>\n",
       "        <td style=\"padding-left: 1em; padding-right: 1em; text-align: center; vertical-align: top\">...</td>\n",
       "    </tr>\n",
       "    <tr>\n",
       "        <td style=\"padding-left: 1em; padding-right: 1em; text-align: center; vertical-align: top\">0</td>\n",
       "        <td style=\"padding-left: 1em; padding-right: 1em; text-align: center; vertical-align: top\">0</td>\n",
       "        <td style=\"padding-left: 1em; padding-right: 1em; text-align: center; vertical-align: top\">...</td>\n",
       "    </tr>\n",
       "    <tr>\n",
       "        <td style=\"padding-left: 1em; padding-right: 1em; text-align: center; vertical-align: top\">0</td>\n",
       "        <td style=\"padding-left: 1em; padding-right: 1em; text-align: center; vertical-align: top\">0</td>\n",
       "        <td style=\"padding-left: 1em; padding-right: 1em; text-align: center; vertical-align: top\">...</td>\n",
       "    </tr>\n",
       "    <tr>\n",
       "        <td style=\"padding-left: 1em; padding-right: 1em; text-align: center; vertical-align: top\">0</td>\n",
       "        <td style=\"padding-left: 1em; padding-right: 1em; text-align: center; vertical-align: top\">0</td>\n",
       "        <td style=\"padding-left: 1em; padding-right: 1em; text-align: center; vertical-align: top\">...</td>\n",
       "    </tr>\n",
       "    <tr>\n",
       "        <td style=\"padding-left: 1em; padding-right: 1em; text-align: center; vertical-align: top\">0</td>\n",
       "        <td style=\"padding-left: 1em; padding-right: 1em; text-align: center; vertical-align: top\">1</td>\n",
       "        <td style=\"padding-left: 1em; padding-right: 1em; text-align: center; vertical-align: top\">...</td>\n",
       "    </tr>\n",
       "    <tr>\n",
       "        <td style=\"padding-left: 1em; padding-right: 1em; text-align: center; vertical-align: top\">0</td>\n",
       "        <td style=\"padding-left: 1em; padding-right: 1em; text-align: center; vertical-align: top\">0</td>\n",
       "        <td style=\"padding-left: 1em; padding-right: 1em; text-align: center; vertical-align: top\">...</td>\n",
       "    </tr>\n",
       "    <tr>\n",
       "        <td style=\"padding-left: 1em; padding-right: 1em; text-align: center; vertical-align: top\">0</td>\n",
       "        <td style=\"padding-left: 1em; padding-right: 1em; text-align: center; vertical-align: top\">0</td>\n",
       "        <td style=\"padding-left: 1em; padding-right: 1em; text-align: center; vertical-align: top\">...</td>\n",
       "    </tr>\n",
       "</table>\n",
       "[53072 rows x 198 columns]<br/>Note: Only the head of the SFrame is printed.<br/>You can use print_rows(num_rows=m, num_columns=n) to print more rows and columns.\n",
       "</div>"
      ],
      "text/plain": [
       "Columns:\n",
       "\tname\tstr\n",
       "\treview\tstr\n",
       "\trating\tint\n",
       "\tsentiment\tint\n",
       "\treview_clean\tstr\n",
       "\tbaby\tint\n",
       "\tone\tint\n",
       "\tgreat\tint\n",
       "\tlove\tint\n",
       "\tuse\tint\n",
       "\twould\tint\n",
       "\tlike\tint\n",
       "\teasy\tint\n",
       "\tlittle\tint\n",
       "\tseat\tint\n",
       "\told\tint\n",
       "\twell\tint\n",
       "\tget\tint\n",
       "\talso\tint\n",
       "\treally\tint\n",
       "\tson\tint\n",
       "\ttime\tint\n",
       "\tbought\tint\n",
       "\tproduct\tint\n",
       "\tgood\tint\n",
       "\tdaughter\tint\n",
       "\tmuch\tint\n",
       "\tloves\tint\n",
       "\tstroller\tint\n",
       "\tput\tint\n",
       "\tmonths\tint\n",
       "\tcar\tint\n",
       "\tstill\tint\n",
       "\tback\tint\n",
       "\tused\tint\n",
       "\trecommend\tint\n",
       "\tfirst\tint\n",
       "\teven\tint\n",
       "\tperfect\tint\n",
       "\tnice\tint\n",
       "\tbag\tint\n",
       "\ttwo\tint\n",
       "\tusing\tint\n",
       "\tgot\tint\n",
       "\tfit\tint\n",
       "\taround\tint\n",
       "\tdiaper\tint\n",
       "\tenough\tint\n",
       "\tmonth\tint\n",
       "\tprice\tint\n",
       "\tgo\tint\n",
       "\tcould\tint\n",
       "\tsoft\tint\n",
       "\tsince\tint\n",
       "\tbuy\tint\n",
       "\troom\tint\n",
       "\tworks\tint\n",
       "\tmade\tint\n",
       "\tchild\tint\n",
       "\tkeep\tint\n",
       "\tsize\tint\n",
       "\tsmall\tint\n",
       "\tneed\tint\n",
       "\tyear\tint\n",
       "\tbig\tint\n",
       "\tmake\tint\n",
       "\ttake\tint\n",
       "\teasily\tint\n",
       "\tthink\tint\n",
       "\tcrib\tint\n",
       "\tclean\tint\n",
       "\tway\tint\n",
       "\tquality\tint\n",
       "\tthing\tint\n",
       "\tbetter\tint\n",
       "\twithout\tint\n",
       "\tset\tint\n",
       "\tnew\tint\n",
       "\tevery\tint\n",
       "\tcute\tint\n",
       "\tbest\tint\n",
       "\tbottles\tint\n",
       "\twork\tint\n",
       "\tpurchased\tint\n",
       "\tright\tint\n",
       "\tlot\tint\n",
       "\tside\tint\n",
       "\thappy\tint\n",
       "\tcomfortable\tint\n",
       "\ttoy\tint\n",
       "\table\tint\n",
       "\tkids\tint\n",
       "\tbit\tint\n",
       "\tnight\tint\n",
       "\tlong\tint\n",
       "\tfits\tint\n",
       "\tsee\tint\n",
       "\tus\tint\n",
       "\tanother\tint\n",
       "\tplay\tint\n",
       "\tday\tint\n",
       "\tmoney\tint\n",
       "\tmonitor\tint\n",
       "\ttried\tint\n",
       "\tthought\tint\n",
       "\tnever\tint\n",
       "\titem\tint\n",
       "\thard\tint\n",
       "\tplastic\tint\n",
       "\thowever\tint\n",
       "\tdisappointed\tint\n",
       "\treviews\tint\n",
       "\tsomething\tint\n",
       "\tgoing\tint\n",
       "\tpump\tint\n",
       "\tbottle\tint\n",
       "\tcup\tint\n",
       "\twaste\tint\n",
       "\treturn\tint\n",
       "\tamazon\tint\n",
       "\tdifferent\tint\n",
       "\ttop\tint\n",
       "\twant\tint\n",
       "\tproblem\tint\n",
       "\tknow\tint\n",
       "\twater\tint\n",
       "\ttry\tint\n",
       "\treceived\tint\n",
       "\tsure\tint\n",
       "\ttimes\tint\n",
       "\tchair\tint\n",
       "\tfind\tint\n",
       "\thold\tint\n",
       "\tgate\tint\n",
       "\topen\tint\n",
       "\tbottom\tint\n",
       "\taway\tint\n",
       "\tactually\tint\n",
       "\tcheap\tint\n",
       "\tworked\tint\n",
       "\tgetting\tint\n",
       "\tordered\tint\n",
       "\tcame\tint\n",
       "\tmilk\tint\n",
       "\tbad\tint\n",
       "\tpart\tint\n",
       "\tworth\tint\n",
       "\tfound\tint\n",
       "\tcover\tint\n",
       "\tmany\tint\n",
       "\tdesign\tint\n",
       "\tlooking\tint\n",
       "\tweeks\tint\n",
       "\tsay\tint\n",
       "\twanted\tint\n",
       "\tlook\tint\n",
       "\tplace\tint\n",
       "\tpurchase\tint\n",
       "\tlooks\tint\n",
       "\tsecond\tint\n",
       "\tpiece\tint\n",
       "\tbox\tint\n",
       "\tpretty\tint\n",
       "\ttrying\tint\n",
       "\tdifficult\tint\n",
       "\ttogether\tint\n",
       "\tthough\tint\n",
       "\tgive\tint\n",
       "\tstarted\tint\n",
       "\tanything\tint\n",
       "\tlast\tint\n",
       "\tcompany\tint\n",
       "\tcome\tint\n",
       "\treturned\tint\n",
       "\tmaybe\tint\n",
       "\ttook\tint\n",
       "\tbroke\tint\n",
       "\tmakes\tint\n",
       "\tstay\tint\n",
       "\tinstead\tint\n",
       "\tidea\tint\n",
       "\thead\tint\n",
       "\tsaid\tint\n",
       "\tless\tint\n",
       "\twent\tint\n",
       "\tworking\tint\n",
       "\thigh\tint\n",
       "\tunit\tint\n",
       "\tseems\tint\n",
       "\tpicture\tint\n",
       "\tcompletely\tint\n",
       "\twish\tint\n",
       "\tbuying\tint\n",
       "\tbabies\tint\n",
       "\twon\tint\n",
       "\ttub\tint\n",
       "\talmost\tint\n",
       "\teither\tint\n",
       "\n",
       "Rows: 53072\n",
       "\n",
       "Data:\n",
       "+-------------------------------+-------------------------------+--------+-----------+\n",
       "|              name             |             review            | rating | sentiment |\n",
       "+-------------------------------+-------------------------------+--------+-----------+\n",
       "| Stop Pacifier Sucking with... | All of my kids have cried ... |   5    |     1     |\n",
       "| Nature's Lullabies Second ... | We wanted to get something... |   5    |     1     |\n",
       "| Nature's Lullabies Second ... | My daughter had her 1st ba... |   5    |     1     |\n",
       "|  Lamaze Peekaboo, I Love You  | One of baby's first and fa... |   4    |     1     |\n",
       "| SoftPlay Peek-A-Boo Where'... | Very cute interactive book... |   5    |     1     |\n",
       "|   Our Baby Girl Memory Book   | Beautiful book, I love it ... |   5    |     1     |\n",
       "| Hunnt&reg; Falling Flowers... | Try this out for a spring ... |   5    |     1     |\n",
       "| Blessed By Pope Benedict X... | very nice Divine Mercy Pen... |   5    |     1     |\n",
       "| Cloth Diaper Pins Stainles... | We bought the pins as my 6... |   4    |     1     |\n",
       "| Cloth Diaper Pins Stainles... | It has been many years sin... |   5    |     1     |\n",
       "+-------------------------------+-------------------------------+--------+-----------+\n",
       "+-------------------------------+------+-----+-------+------+-----+-------+------+\n",
       "|          review_clean         | baby | one | great | love | use | would | like |\n",
       "+-------------------------------+------+-----+-------+------+-----+-------+------+\n",
       "| All of my kids have cried ... |  0   |  0  |   1   |  0   |  0  |   0   |  0   |\n",
       "| We wanted to get something... |  0   |  0  |   0   |  0   |  0  |   0   |  0   |\n",
       "| My daughter had her 1st ba... |  1   |  0  |   0   |  0   |  0  |   0   |  0   |\n",
       "| One of baby's first and fa... |  0   |  0  |   0   |  0   |  0  |   0   |  1   |\n",
       "| Very cute interactive book... |  0   |  0  |   1   |  0   |  0  |   0   |  0   |\n",
       "| Beautiful book, I love it ... |  0   |  0  |   1   |  1   |  0  |   0   |  0   |\n",
       "| Try this out for a spring ... |  0   |  0  |   0   |  0   |  0  |   0   |  0   |\n",
       "| very nice Divine Mercy Pen... |  0   |  0  |   0   |  0   |  0  |   0   |  0   |\n",
       "| We bought the pins as my 6... |  0   |  1  |   0   |  0   |  1  |   0   |  0   |\n",
       "| It has been many years sin... |  0   |  1  |   0   |  0   |  0  |   0   |  1   |\n",
       "+-------------------------------+------+-----+-------+------+-----+-------+------+\n",
       "+------+--------+------+-----+------+-----+------+--------+-----+\n",
       "| easy | little | seat | old | well | get | also | really | ... |\n",
       "+------+--------+------+-----+------+-----+------+--------+-----+\n",
       "|  1   |   0    |  0   |  0  |  0   |  0  |  0   |   0    | ... |\n",
       "|  0   |   0    |  0   |  0  |  0   |  1  |  0   |   0    | ... |\n",
       "|  0   |   0    |  0   |  0  |  0   |  1  |  0   |   0    | ... |\n",
       "|  0   |   0    |  0   |  0  |  0   |  0  |  0   |   0    | ... |\n",
       "|  0   |   0    |  0   |  0  |  0   |  0  |  0   |   0    | ... |\n",
       "|  0   |   0    |  0   |  0  |  0   |  0  |  0   |   0    | ... |\n",
       "|  0   |   0    |  0   |  0  |  0   |  0  |  0   |   0    | ... |\n",
       "|  0   |   0    |  0   |  0  |  0   |  0  |  0   |   0    | ... |\n",
       "|  0   |   0    |  0   |  1  |  0   |  0  |  0   |   0    | ... |\n",
       "|  0   |   1    |  0   |  0  |  0   |  1  |  0   |   0    | ... |\n",
       "+------+--------+------+-----+------+-----+------+--------+-----+\n",
       "[53072 rows x 198 columns]\n",
       "Note: Only the head of the SFrame is printed.\n",
       "You can use print_rows(num_rows=m, num_columns=n) to print more rows and columns."
      ]
     },
     "execution_count": 6,
     "metadata": {},
     "output_type": "execute_result"
    }
   ],
   "source": [
    "products"
   ]
  },
  {
   "cell_type": "markdown",
   "metadata": {},
   "source": [
    "### Split data into training and validation sets\n",
    "\n",
    "We will now split the data into a 90-10 split where 90% is in the training set and 10% is in the validation set. We use `seed=1` so that everyone gets the same result."
   ]
  },
  {
   "cell_type": "code",
   "execution_count": 8,
   "metadata": {},
   "outputs": [
    {
     "name": "stdout",
     "output_type": "stream",
     "text": [
      "Training set  : 47780 data points\n",
      "Validation set: 5292 data points\n"
     ]
    }
   ],
   "source": [
    "train_data, validation_data = products.random_split(.9, seed=1)\n",
    "\n",
    "print ('Training set  : %d data points' % len(train_data))\n",
    "print ('Validation set: %d data points' % len(validation_data))"
   ]
  },
  {
   "cell_type": "markdown",
   "metadata": {},
   "source": [
    "## Convert SFrame to NumPy array\n",
    "\n",
    "Just like in the earlier assignments, we provide you with a function that extracts columns from an SFrame and converts them into a NumPy array. Two arrays are returned: one representing features and another representing class labels. \n",
    "\n",
    "**Note:** The feature matrix includes an additional column 'intercept' filled with 1's to take account of the intercept term."
   ]
  },
  {
   "cell_type": "code",
   "execution_count": 9,
   "metadata": {},
   "outputs": [],
   "source": [
    "import numpy as np\n",
    "\n",
    "def get_numpy_data(data_sframe, features, label):\n",
    "    data_sframe['intercept'] = 1\n",
    "    features = ['intercept'] + features\n",
    "    features_sframe = data_sframe[features]\n",
    "    feature_matrix = features_sframe.to_numpy()\n",
    "    label_sarray = data_sframe[label]\n",
    "    label_array = label_sarray.to_numpy()\n",
    "    return(feature_matrix, label_array)"
   ]
  },
  {
   "cell_type": "markdown",
   "metadata": {},
   "source": [
    "Note that we convert both the training and validation sets into NumPy arrays.\n",
    "\n",
    "**Warning**: This may take a few minutes."
   ]
  },
  {
   "cell_type": "code",
   "execution_count": 10,
   "metadata": {},
   "outputs": [],
   "source": [
    "feature_matrix_train, sentiment_train = get_numpy_data(train_data, important_words, 'sentiment')\n",
    "feature_matrix_valid, sentiment_valid = get_numpy_data(validation_data, important_words, 'sentiment') "
   ]
  },
  {
   "cell_type": "markdown",
   "metadata": {},
   "source": [
    "**Are you running this notebook on an Amazon EC2 t2.micro instance?** (If you are using your own machine, please skip this section)\n",
    "\n",
    "It has been reported that t2.micro instances do not provide sufficient power to complete the conversion in acceptable amount of time. For interest of time, please refrain from running `get_numpy_data` function. Instead, download the [binary file](https://s3.amazonaws.com/static.dato.com/files/coursera/course-3/numpy-arrays/module-10-assignment-numpy-arrays.npz) containing the four NumPy arrays you'll need for the assignment. To load the arrays, run the following commands:\n",
    "```\n",
    "arrays = np.load('module-10-assignment-numpy-arrays.npz')\n",
    "feature_matrix_train, sentiment_train = arrays['feature_matrix_train'], arrays['sentiment_train']\n",
    "feature_matrix_valid, sentiment_valid = arrays['feature_matrix_valid'], arrays['sentiment_valid']\n",
    "```"
   ]
  },
  {
   "cell_type": "markdown",
   "metadata": {},
   "source": [
    "** Quiz question**: In Module 3 assignment, there were 194 features (an intercept + one feature for each of the 193 important words). In this assignment, we will use stochastic gradient ascent to train the classifier using logistic regression. How does the changing the solver to stochastic gradient ascent affect the number of features?"
   ]
  },
  {
   "cell_type": "markdown",
   "metadata": {},
   "source": [
    "## Building on logistic regression\n",
    "\n",
    "Let us now build on Module 3 assignment. Recall from lecture that the link function for logistic regression can be defined as:\n",
    "\n",
    "$$\n",
    "P(y_i = +1 | \\mathbf{x}_i,\\mathbf{w}) = \\frac{1}{1 + \\exp(-\\mathbf{w}^T h(\\mathbf{x}_i))},\n",
    "$$\n",
    "\n",
    "where the feature vector $h(\\mathbf{x}_i)$ is given by the word counts of **important_words** in the review $\\mathbf{x}_i$. \n",
    "\n",
    "\n",
    "We will use the **same code** as in Module 3 assignment to make probability predictions, since this part is not affected by using stochastic gradient ascent as a solver. Only the way in which the coefficients are learned is affected by using stochastic gradient ascent as a solver."
   ]
  },
  {
   "cell_type": "code",
   "execution_count": 11,
   "metadata": {},
   "outputs": [],
   "source": [
    "'''\n",
    "produces probablistic estimate for P(y_i = +1 | x_i, w).\n",
    "estimate ranges between 0 and 1.\n",
    "'''\n",
    "def predict_probability(feature_matrix, coefficients):\n",
    "    # Take dot product of feature_matrix and coefficients  \n",
    "    score = np.dot(feature_matrix, coefficients)\n",
    "    \n",
    "    # Compute P(y_i = +1 | x_i, w) using the link function\n",
    "    predictions = 1. / (1.+np.exp(-score))    \n",
    "    return predictions"
   ]
  },
  {
   "cell_type": "markdown",
   "metadata": {},
   "source": [
    "## Derivative of log likelihood with respect to a single coefficient\n",
    "\n",
    "Let us now work on making minor changes to how the derivative computation is performed for logistic regression.\n",
    "\n",
    "Recall from the lectures and Module 3 assignment that for logistic regression, **the derivative of log likelihood with respect to a single coefficient** is as follows:\n",
    "\n",
    "$$\n",
    "\\frac{\\partial\\ell}{\\partial w_j} = \\sum_{i=1}^N h_j(\\mathbf{x}_i)\\left(\\mathbf{1}[y_i = +1] - P(y_i = +1 | \\mathbf{x}_i, \\mathbf{w})\\right)\n",
    "$$\n",
    "\n",
    "In Module 3 assignment, we wrote a function to compute the derivative of log likelihood with respect to a single coefficient $w_j$. The function accepts the following two parameters:\n",
    " * `errors` vector containing $(\\mathbf{1}[y_i = +1] - P(y_i = +1 | \\mathbf{x}_i, \\mathbf{w}))$ for all $i$\n",
    " * `feature` vector containing $h_j(\\mathbf{x}_i)$  for all $i$\n",
    " \n",
    "Complete the following code block:"
   ]
  },
  {
   "cell_type": "code",
   "execution_count": 12,
   "metadata": {},
   "outputs": [],
   "source": [
    "def feature_derivative(errors, feature): \n",
    "    \n",
    "    # Compute the dot product of errors and feature\n",
    "    ## YOUR CODE HERE\n",
    "    derivative = np.dot(errors, feature)\n",
    "\n",
    "    return derivative"
   ]
  },
  {
   "cell_type": "markdown",
   "metadata": {},
   "source": [
    "**Note**. We are not using regularization in this assignment, but, as discussed in the optional video, stochastic gradient can also be used for regularized logistic regression."
   ]
  },
  {
   "cell_type": "markdown",
   "metadata": {},
   "source": [
    "To verify the correctness of the gradient computation, we provide a function for computing average log likelihood (which we recall from the last assignment was a topic detailed in an advanced optional video, and used here for its numerical stability).\n",
    "\n",
    "To track the performance of stochastic gradient ascent, we provide a function for computing **average log likelihood**. \n",
    "\n",
    "$$\\ell\\ell_A(\\mathbf{w}) = \\color{red}{\\frac{1}{N}} \\sum_{i=1}^N \\Big( (\\mathbf{1}[y_i = +1] - 1)\\mathbf{w}^T h(\\mathbf{x}_i) - \\ln\\left(1 + \\exp(-\\mathbf{w}^T h(\\mathbf{x}_i))\\right) \\Big) $$\n",
    "\n",
    "**Note** that we made one tiny modification to the log likelihood function (called **compute_log_likelihood**) in our earlier assignments. We added a $\\color{red}{1/N}$ term which averages the log likelihood accross all data points. The $\\color{red}{1/N}$ term makes it easier for us to compare stochastic gradient ascent with batch gradient ascent. We will use this function to generate plots that are similar to those you saw in the lecture."
   ]
  },
  {
   "cell_type": "code",
   "execution_count": 13,
   "metadata": {},
   "outputs": [],
   "source": [
    "def compute_avg_log_likelihood(feature_matrix, sentiment, coefficients):\n",
    "    \n",
    "    indicator = (sentiment==+1)\n",
    "    scores = np.dot(feature_matrix, coefficients)\n",
    "    logexp = np.log(1. + np.exp(-scores))\n",
    "    \n",
    "    # Simple check to prevent overflow\n",
    "    mask = np.isinf(logexp)\n",
    "    logexp[mask] = -scores[mask]\n",
    "    \n",
    "    lp = np.sum((indicator-1)*scores - logexp)/len(feature_matrix)\n",
    "    \n",
    "    return lp"
   ]
  },
  {
   "cell_type": "markdown",
   "metadata": {},
   "source": [
    "** Quiz Question:** Recall from the lecture and the earlier assignment, the log likelihood (without the averaging term) is given by \n",
    "\n",
    "$$\\ell\\ell(\\mathbf{w}) = \\sum_{i=1}^N \\Big( (\\mathbf{1}[y_i = +1] - 1)\\mathbf{w}^T h(\\mathbf{x}_i) - \\ln\\left(1 + \\exp(-\\mathbf{w}^T h(\\mathbf{x}_i))\\right) \\Big) $$\n",
    "\n",
    "How are the functions $\\ell\\ell(\\mathbf{w})$ and $\\ell\\ell_A(\\mathbf{w})$ related?"
   ]
  },
  {
   "cell_type": "markdown",
   "metadata": {},
   "source": [
    "## Modifying the derivative for stochastic gradient ascent\n",
    "\n",
    "Recall from the lecture that the gradient for a single data point $\\color{red}{\\mathbf{x}_i}$ can be computed using the following formula:\n",
    "\n",
    "$$\n",
    "\\frac{\\partial\\ell_{\\color{red}{i}}(\\mathbf{w})}{\\partial w_j} = h_j(\\color{red}{\\mathbf{x}_i})\\left(\\mathbf{1}[y_\\color{red}{i} = +1] - P(y_\\color{red}{i} = +1 | \\color{red}{\\mathbf{x}_i}, \\mathbf{w})\\right)\n",
    "$$\n",
    "\n",
    "\n",
    "** Computing the gradient for a single data point**\n",
    "\n",
    "Do we really need to re-write all our code to modify $\\partial\\ell(\\mathbf{w})/\\partial w_j$ to $\\partial\\ell_{\\color{red}{i}}(\\mathbf{w})/{\\partial w_j}$? \n",
    "\n",
    "\n",
    "Thankfully **No!**. Using NumPy, we access $\\mathbf{x}_i$ in the training data using `feature_matrix_train[i:i+1,:]`\n",
    "and $y_i$ in the training data using `sentiment_train[i:i+1]`. We can compute $\\partial\\ell_{\\color{red}{i}}(\\mathbf{w})/\\partial w_j$ by re-using **all the code** written in **feature_derivative** and **predict_probability**.\n",
    "\n",
    "\n",
    "We compute $\\partial\\ell_{\\color{red}{i}}(\\mathbf{w})/\\partial w_j$ using the following steps:\n",
    "* First, compute $P(y_i = +1 | \\mathbf{x}_i, \\mathbf{w})$ using the **predict_probability** function with `feature_matrix_train[i:i+1,:]` as the first parameter.\n",
    "* Next, compute $\\mathbf{1}[y_i = +1]$ using `sentiment_train[i:i+1]`.\n",
    "* Finally, call the **feature_derivative** function with `feature_matrix_train[i:i+1, j]` as one of the parameters. \n",
    "\n",
    "Let us follow these steps for `j = 1` and `i = 10`:"
   ]
  },
  {
   "cell_type": "code",
   "execution_count": 15,
   "metadata": {},
   "outputs": [
    {
     "name": "stdout",
     "output_type": "stream",
     "text": [
      "Gradient single data point: 0.0\n",
      "           --> Should print 0.0\n"
     ]
    }
   ],
   "source": [
    "j = 1                        # Feature number\n",
    "i = 10                       # Data point number\n",
    "coefficients = np.zeros(194) # A point w at which we are computing the gradient.\n",
    "\n",
    "predictions = predict_probability(feature_matrix_train[i:i+1,:], coefficients)\n",
    "indicator = (sentiment_train[i:i+1]==+1)\n",
    "\n",
    "errors = indicator - predictions        \n",
    "gradient_single_data_point = feature_derivative(errors, feature_matrix_train[i:i+1,j])\n",
    "print (\"Gradient single data point: %s\" % gradient_single_data_point)\n",
    "print (\"           --> Should print 0.0\")"
   ]
  },
  {
   "cell_type": "markdown",
   "metadata": {},
   "source": [
    "** Quiz Question:** The code block above computed $\\partial\\ell_{\\color{red}{i}}(\\mathbf{w})/{\\partial w_j}$ for `j = 1` and `i = 10`.  Is $\\partial\\ell_{\\color{red}{i}}(\\mathbf{w})/{\\partial w_j}$ a scalar or a 194-dimensional vector?"
   ]
  },
  {
   "cell_type": "markdown",
   "metadata": {},
   "source": [
    "## Modifying the derivative for using a batch of data points\n",
    "\n",
    "Stochastic gradient estimates the ascent direction using 1 data point, while gradient uses $N$ data points to decide how to update the the parameters.  In an optional video, we discussed the details of a simple change that allows us to use a **mini-batch** of $B \\leq N$ data points to estimate the ascent direction. This simple approach is faster than regular gradient but less noisy than stochastic gradient that uses only 1 data point. Although we encorage you to watch the optional video on the topic to better understand why mini-batches help stochastic gradient, in this assignment, we will simply use this technique, since the approach is very simple and will improve your results.\n",
    "\n",
    "Given a mini-batch (or a set of data points) $\\mathbf{x}_{i}, \\mathbf{x}_{i+1} \\ldots \\mathbf{x}_{i+B}$, the gradient function for this mini-batch of data points is given by:\n",
    "$$\n",
    "\\color{red}{\\sum_{s = i}^{i+B}} \\frac{\\partial\\ell_{s}}{\\partial w_j} = \\color{red}{\\sum_{s = i}^{i + B}} h_j(\\mathbf{x}_s)\\left(\\mathbf{1}[y_s = +1] - P(y_s = +1 | \\mathbf{x}_s, \\mathbf{w})\\right)\n",
    "$$\n",
    "\n",
    "\n",
    "** Computing the gradient for a \"mini-batch\" of data points**\n",
    "\n",
    "Using NumPy, we access the points $\\mathbf{x}_i, \\mathbf{x}_{i+1} \\ldots \\mathbf{x}_{i+B}$ in the training data using `feature_matrix_train[i:i+B,:]`\n",
    "and $y_i$ in the training data using `sentiment_train[i:i+B]`. \n",
    "\n",
    "We can compute $\\color{red}{\\sum_{s = i}^{i+B}} \\partial\\ell_{s}/\\partial w_j$ easily as follows:"
   ]
  },
  {
   "cell_type": "code",
   "execution_count": 17,
   "metadata": {},
   "outputs": [
    {
     "name": "stdout",
     "output_type": "stream",
     "text": [
      "Gradient mini-batch data points: 0.5\n",
      "                --> Should print 1.0\n"
     ]
    }
   ],
   "source": [
    "j = 1                        # Feature number\n",
    "i = 10                       # Data point start\n",
    "B = 10                       # Mini-batch size\n",
    "coefficients = np.zeros(194) # A point w at which we are computing the gradient.\n",
    "\n",
    "predictions = predict_probability(feature_matrix_train[i:i+B,:], coefficients)\n",
    "indicator = (sentiment_train[i:i+B]==+1)\n",
    "\n",
    "errors = indicator - predictions        \n",
    "gradient_mini_batch = feature_derivative(errors, feature_matrix_train[i:i+B,j])\n",
    "print (\"Gradient mini-batch data points: %s\" % gradient_mini_batch)\n",
    "print (\"                --> Should print 1.0\")"
   ]
  },
  {
   "cell_type": "markdown",
   "metadata": {},
   "source": [
    "** Quiz Question:** The code block above computed \n",
    "$\\color{red}{\\sum_{s = i}^{i+B}}\\partial\\ell_{s}(\\mathbf{w})/{\\partial w_j}$ \n",
    "for `j = 10`, `i = 10`, and `B = 10`. Is this a scalar or a 194-dimensional vector?\n",
    "\n",
    "\n",
    "** Quiz Question:** For what value of `B` is the term\n",
    "$\\color{red}{\\sum_{s = 1}^{B}}\\partial\\ell_{s}(\\mathbf{w})/\\partial w_j$\n",
    "the same as the full gradient\n",
    "$\\partial\\ell(\\mathbf{w})/{\\partial w_j}$?\n"
   ]
  },
  {
   "cell_type": "code",
   "execution_count": 19,
   "metadata": {},
   "outputs": [
    {
     "name": "stdout",
     "output_type": "stream",
     "text": [
      "47780\n"
     ]
    }
   ],
   "source": [
    "print (len(sentiment_train))"
   ]
  },
  {
   "cell_type": "markdown",
   "metadata": {},
   "source": [
    "### Averaging the gradient across a batch\n",
    "\n",
    "It is a common practice to normalize the gradient update rule by the batch size B:\n",
    "\n",
    "$$\n",
    "\\frac{\\partial\\ell_{\\color{red}{A}}(\\mathbf{w})}{\\partial w_j} \\approx \\color{red}{\\frac{1}{B}} {\\sum_{s = i}^{i + B}} h_j(\\mathbf{x}_s)\\left(\\mathbf{1}[y_s = +1] - P(y_s = +1 | \\mathbf{x}_s, \\mathbf{w})\\right)\n",
    "$$\n",
    "In other words, we update the coefficients using the **average gradient over data points** (instead of using a summation). By using the average gradient, we ensure that the magnitude of the gradient is approximately the same for all batch sizes. This way, we can more easily compare various batch sizes of stochastic gradient ascent (including a batch size of **all the data points**), and study the effect of batch size on the algorithm as well as the choice of step size.\n",
    "\n",
    "\n",
    "## Implementing stochastic gradient ascent\n",
    "\n",
    "Now we are ready to implement our own logistic regression with stochastic gradient ascent. Complete the following function to fit a logistic regression model using gradient ascent:"
   ]
  },
  {
   "cell_type": "code",
   "execution_count": 20,
   "metadata": {},
   "outputs": [],
   "source": [
    "from math import sqrt\n",
    "def logistic_regression_SG(feature_matrix, sentiment, initial_coefficients, step_size, batch_size, max_iter):\n",
    "    log_likelihood_all = []\n",
    "    \n",
    "    # make sure it's a numpy array\n",
    "    coefficients = np.array(initial_coefficients)\n",
    "    # set seed=1 to produce consistent results\n",
    "    np.random.seed(seed=1)\n",
    "    # Shuffle the data before starting\n",
    "    permutation = np.random.permutation(len(feature_matrix))\n",
    "    feature_matrix = feature_matrix[permutation,:]\n",
    "    sentiment = sentiment[permutation]\n",
    "    \n",
    "    i = 0 # index of current batch\n",
    "    # Do a linear scan over data\n",
    "    for itr in range(max_iter):\n",
    "        # Predict P(y_i = +1|x_i,w) using your predict_probability() function\n",
    "        # Make sure to slice the i-th row of feature_matrix with [i:i+batch_size,:]\n",
    "        ### YOUR CODE HERE\n",
    "        predictions = predict_probability(feature_matrix[i:i+batch_size,:], coefficients)\n",
    "        \n",
    "        # Compute indicator value for (y_i = +1)\n",
    "        # Make sure to slice the i-th entry with [i:i+batch_size]\n",
    "        ### YOUR CODE HERE\n",
    "        indicator = (sentiment[i:i+batch_size]==+1)\n",
    "        \n",
    "        # Compute the errors as indicator - predictions\n",
    "        errors = indicator - predictions\n",
    "        for j in range(len(coefficients)): # loop over each coefficient\n",
    "            # Recall that feature_matrix[:,j] is the feature column associated with coefficients[j]\n",
    "            # Compute the derivative for coefficients[j] and save it to derivative.\n",
    "            # Make sure to slice the i-th row of feature_matrix with [i:i+batch_size,j]\n",
    "            ### YOUR CODE HERE\n",
    "            derivative = feature_derivative(errors, feature_matrix[i:i+batch_size,j])\n",
    "            \n",
    "            # compute the product of the step size, the derivative, and the **normalization constant** (1./batch_size)\n",
    "            ### YOUR CODE HERE\n",
    "            coefficients[j] += (1./batch_size)*(step_size * derivative)\n",
    "        \n",
    "        # Checking whether log likelihood is increasing\n",
    "        # Print the log likelihood over the *current batch*\n",
    "        lp = compute_avg_log_likelihood(feature_matrix[i:i+batch_size,:], sentiment[i:i+batch_size],\n",
    "                                        coefficients)\n",
    "        log_likelihood_all.append(lp)\n",
    "        if itr <= 15 or (itr <= 1000 and itr % 100 == 0) or (itr <= 10000 and itr % 1000 == 0) \\\n",
    "         or itr % 10000 == 0 or itr == max_iter-1:\n",
    "            data_size = len(feature_matrix)\n",
    "            print ('Iteration %*d: Average log likelihood (of data points in batch [%0*d:%0*d]) = %.8f' % \\\n",
    "                (int(np.ceil(np.log10(max_iter))), itr, \\\n",
    "                 int(np.ceil(np.log10(data_size))), i, \\\n",
    "                 int(np.ceil(np.log10(data_size))), i+batch_size, lp))\n",
    "        \n",
    "        # if we made a complete pass over data, shuffle and restart\n",
    "        i += batch_size\n",
    "        if i+batch_size > len(feature_matrix):\n",
    "            permutation = np.random.permutation(len(feature_matrix))\n",
    "            feature_matrix = feature_matrix[permutation,:]\n",
    "            sentiment = sentiment[permutation]\n",
    "            i = 0\n",
    "                \n",
    "    # We return the list of log likelihoods for plotting purposes.\n",
    "    return coefficients, log_likelihood_all"
   ]
  },
  {
   "cell_type": "markdown",
   "metadata": {},
   "source": [
    "**Note**. In practice, the final set of coefficients is rarely used; it is better to use the average of the last K sets of coefficients instead, where K should be adjusted depending on how fast the log likelihood oscillates around the optimum."
   ]
  },
  {
   "cell_type": "markdown",
   "metadata": {},
   "source": [
    "### Checkpoint\n",
    "\n",
    "\n",
    "The following cell tests your stochastic gradient ascent function using a toy dataset consisting of two data points. If the test does not pass, make sure you are normalizing the gradient update rule correctly."
   ]
  },
  {
   "cell_type": "code",
   "execution_count": 22,
   "metadata": {
    "scrolled": true
   },
   "outputs": [
    {
     "name": "stdout",
     "output_type": "stream",
     "text": [
      "Iteration 0: Average log likelihood (of data points in batch [0:2]) = -0.33774513\n",
      "Iteration 1: Average log likelihood (of data points in batch [0:2]) = -0.23455309\n",
      "-------------------------------------------------------------------------------------\n",
      "Coefficients learned                 : [-0.09755757  0.68242552 -0.7799831 ]\n",
      "Average log likelihood per-iteration : [-0.33774513108142956, -0.2345530939410341]\n",
      "-------------------------------------------------------------------------------------\n",
      "Test passed!\n"
     ]
    }
   ],
   "source": [
    "sample_feature_matrix = np.array([[1.,2.,-1.], [1.,0.,1.]])\n",
    "sample_sentiment = np.array([+1, -1])\n",
    "\n",
    "coefficients, log_likelihood = logistic_regression_SG(sample_feature_matrix, sample_sentiment, np.zeros(3),\n",
    "                                                  step_size=1., batch_size=2, max_iter=2)\n",
    "print ('-------------------------------------------------------------------------------------')\n",
    "print ('Coefficients learned                 :', coefficients)\n",
    "print ('Average log likelihood per-iteration :', log_likelihood)\n",
    "if np.allclose(coefficients, np.array([-0.09755757,  0.68242552, -0.7799831]), atol=1e-3)\\\n",
    "  and np.allclose(log_likelihood, np.array([-0.33774513108142956, -0.2345530939410341])):\n",
    "    # pass if elements match within 1e-3\n",
    "    print ('-------------------------------------------------------------------------------------')\n",
    "    print ('Test passed!')\n",
    "else:\n",
    "    print ('-------------------------------------------------------------------------------------')\n",
    "    print ('Test failed')"
   ]
  },
  {
   "cell_type": "markdown",
   "metadata": {},
   "source": [
    "## Compare convergence behavior of stochastic gradient ascent\n",
    "\n",
    "For the remainder of the assignment, we will compare stochastic gradient ascent against batch gradient ascent. For this, we need a reference implementation of batch gradient ascent. But do we need to implement this from scratch?\n",
    "\n",
    "**Quiz Question:** For what value of batch size `B` above is the stochastic gradient ascent function **logistic_regression_SG** act as a standard gradient ascent algorithm?"
   ]
  },
  {
   "cell_type": "markdown",
   "metadata": {},
   "source": [
    "## Running gradient ascent using the stochastic gradient ascent implementation"
   ]
  },
  {
   "cell_type": "markdown",
   "metadata": {},
   "source": [
    "Instead of implementing batch gradient ascent separately, we save time by re-using the stochastic gradient ascent function we just wrote &mdash; **to perform gradient ascent**, it suffices to set **`batch_size`** to the number of data points in the training data. Yes, we did answer above the quiz question for you, but that is an important point to remember in the future :)\n",
    "\n",
    "**Small Caveat**. The batch gradient ascent implementation here is slightly different than the one in the earlier assignments, as we now normalize the gradient update rule.\n",
    "\n",
    "We now **run stochastic gradient ascent** over the **feature_matrix_train** for 10 iterations using:\n",
    "* `initial_coefficients = np.zeros(194)`\n",
    "* `step_size = 5e-1`\n",
    "* `batch_size = 1`\n",
    "* `max_iter = 10`"
   ]
  },
  {
   "cell_type": "code",
   "execution_count": 23,
   "metadata": {},
   "outputs": [
    {
     "name": "stdout",
     "output_type": "stream",
     "text": [
      "Iteration 0: Average log likelihood (of data points in batch [00000:00001]) = -0.25192908\n",
      "Iteration 1: Average log likelihood (of data points in batch [00001:00002]) = -0.00000134\n",
      "Iteration 2: Average log likelihood (of data points in batch [00002:00003]) = -0.15964946\n",
      "Iteration 3: Average log likelihood (of data points in batch [00003:00004]) = -0.04107580\n",
      "Iteration 4: Average log likelihood (of data points in batch [00004:00005]) = -0.03662669\n",
      "Iteration 5: Average log likelihood (of data points in batch [00005:00006]) = -0.07812122\n",
      "Iteration 6: Average log likelihood (of data points in batch [00006:00007]) = -0.02826618\n",
      "Iteration 7: Average log likelihood (of data points in batch [00007:00008]) = -0.13414034\n",
      "Iteration 8: Average log likelihood (of data points in batch [00008:00009]) = -0.05992364\n",
      "Iteration 9: Average log likelihood (of data points in batch [00009:00010]) = -0.00003233\n"
     ]
    }
   ],
   "source": [
    "coefficients, log_likelihood = logistic_regression_SG(feature_matrix_train, sentiment_train,\n",
    "                                        initial_coefficients=np.zeros(194),\n",
    "                                        step_size=5e-1, batch_size=1, max_iter=10)"
   ]
  },
  {
   "cell_type": "markdown",
   "metadata": {},
   "source": [
    "**Quiz Question**. When you set `batch_size = 1`, as each iteration passes, how does the average log likelihood in the batch change?\n",
    "* Increases\n",
    "* Decreases\n",
    "* Fluctuates "
   ]
  },
  {
   "cell_type": "markdown",
   "metadata": {},
   "source": [
    "Now run **batch gradient ascent** over the **feature_matrix_train** for 200 iterations using:\n",
    "* `initial_coefficients = np.zeros(194)`\n",
    "* `step_size = 5e-1`\n",
    "* `batch_size = len(feature_matrix_train)`\n",
    "* `max_iter = 200`"
   ]
  },
  {
   "cell_type": "code",
   "execution_count": 24,
   "metadata": {},
   "outputs": [
    {
     "name": "stdout",
     "output_type": "stream",
     "text": [
      "Iteration   0: Average log likelihood (of data points in batch [00000:47780]) = -0.68535405\n",
      "Iteration   1: Average log likelihood (of data points in batch [00000:47780]) = -0.67819258\n",
      "Iteration   2: Average log likelihood (of data points in batch [00000:47780]) = -0.67154026\n",
      "Iteration   3: Average log likelihood (of data points in batch [00000:47780]) = -0.66532960\n",
      "Iteration   4: Average log likelihood (of data points in batch [00000:47780]) = -0.65951376\n",
      "Iteration   5: Average log likelihood (of data points in batch [00000:47780]) = -0.65405522\n",
      "Iteration   6: Average log likelihood (of data points in batch [00000:47780]) = -0.64892177\n",
      "Iteration   7: Average log likelihood (of data points in batch [00000:47780]) = -0.64408503\n",
      "Iteration   8: Average log likelihood (of data points in batch [00000:47780]) = -0.63951974\n",
      "Iteration   9: Average log likelihood (of data points in batch [00000:47780]) = -0.63520330\n",
      "Iteration  10: Average log likelihood (of data points in batch [00000:47780]) = -0.63111544\n",
      "Iteration  11: Average log likelihood (of data points in batch [00000:47780]) = -0.62723800\n",
      "Iteration  12: Average log likelihood (of data points in batch [00000:47780]) = -0.62355462\n",
      "Iteration  13: Average log likelihood (of data points in batch [00000:47780]) = -0.62005056\n",
      "Iteration  14: Average log likelihood (of data points in batch [00000:47780]) = -0.61671253\n",
      "Iteration  15: Average log likelihood (of data points in batch [00000:47780]) = -0.61352851\n",
      "Iteration 100: Average log likelihood (of data points in batch [00000:47780]) = -0.52048503\n",
      "Iteration 199: Average log likelihood (of data points in batch [00000:47780]) = -0.49658558\n"
     ]
    }
   ],
   "source": [
    "# YOUR CODE HERE\n",
    "coefficients_batch, log_likelihood_batch = logistic_regression_SG(feature_matrix_train, sentiment_train,\n",
    "                                        initial_coefficients=np.zeros(194),\n",
    "                                        step_size=5e-1, \n",
    "                                        batch_size = len(feature_matrix_train), \n",
    "                                        max_iter=200)"
   ]
  },
  {
   "cell_type": "markdown",
   "metadata": {},
   "source": [
    "**Quiz Question**. When you set `batch_size = len(train_data)`, as each iteration passes, how does the average log likelihood in the batch change?\n",
    "* Increases \n",
    "* Decreases\n",
    "* Fluctuates "
   ]
  },
  {
   "cell_type": "markdown",
   "metadata": {},
   "source": [
    "## Make \"passes\" over the dataset"
   ]
  },
  {
   "cell_type": "markdown",
   "metadata": {},
   "source": [
    "To make a fair comparison betweeen stochastic gradient ascent and batch gradient ascent, we measure the average log likelihood as a function of the number of passes (defined as follows):\n",
    "$$\n",
    "[\\text{# of passes}] = \\frac{[\\text{# of data points touched so far}]}{[\\text{size of dataset}]}\n",
    "$$"
   ]
  },
  {
   "cell_type": "markdown",
   "metadata": {},
   "source": [
    "**Quiz Question** Suppose that we run stochastic gradient ascent with a batch size of 100. How many gradient updates are performed at the end of two passes over a dataset consisting of 50000 data points?"
   ]
  },
  {
   "cell_type": "code",
   "execution_count": 25,
   "metadata": {},
   "outputs": [
    {
     "data": {
      "text/plain": [
       "1000.0"
      ]
     },
     "execution_count": 25,
     "metadata": {},
     "output_type": "execute_result"
    }
   ],
   "source": [
    "# number of passes is number to complete the whole dataset\n",
    "# For each batch size, we update 1 gradient, so\n",
    "\n",
    "2*(50000/100)"
   ]
  },
  {
   "cell_type": "markdown",
   "metadata": {},
   "source": [
    "## Log likelihood plots for stochastic gradient ascent"
   ]
  },
  {
   "cell_type": "markdown",
   "metadata": {},
   "source": [
    "With the terminology in mind, let us run stochastic gradient ascent for 10 passes. We will use\n",
    "* `step_size=1e-1`\n",
    "* `batch_size=100`\n",
    "* `initial_coefficients` to all zeros."
   ]
  },
  {
   "cell_type": "code",
   "execution_count": 26,
   "metadata": {},
   "outputs": [
    {
     "name": "stdout",
     "output_type": "stream",
     "text": [
      "Iteration    0: Average log likelihood (of data points in batch [00000:00100]) = -0.68375200\n",
      "Iteration    1: Average log likelihood (of data points in batch [00100:00200]) = -0.68069466\n",
      "Iteration    2: Average log likelihood (of data points in batch [00200:00300]) = -0.68371492\n",
      "Iteration    3: Average log likelihood (of data points in batch [00300:00400]) = -0.67658096\n",
      "Iteration    4: Average log likelihood (of data points in batch [00400:00500]) = -0.68174017\n",
      "Iteration    5: Average log likelihood (of data points in batch [00500:00600]) = -0.67953020\n",
      "Iteration    6: Average log likelihood (of data points in batch [00600:00700]) = -0.67217821\n",
      "Iteration    7: Average log likelihood (of data points in batch [00700:00800]) = -0.67773033\n",
      "Iteration    8: Average log likelihood (of data points in batch [00800:00900]) = -0.67272888\n",
      "Iteration    9: Average log likelihood (of data points in batch [00900:01000]) = -0.67773635\n",
      "Iteration   10: Average log likelihood (of data points in batch [01000:01100]) = -0.67088291\n",
      "Iteration   11: Average log likelihood (of data points in batch [01100:01200]) = -0.66412367\n",
      "Iteration   12: Average log likelihood (of data points in batch [01200:01300]) = -0.66725308\n",
      "Iteration   13: Average log likelihood (of data points in batch [01300:01400]) = -0.67199280\n",
      "Iteration   14: Average log likelihood (of data points in batch [01400:01500]) = -0.66603216\n",
      "Iteration   15: Average log likelihood (of data points in batch [01500:01600]) = -0.65689411\n",
      "Iteration  100: Average log likelihood (of data points in batch [10000:10100]) = -0.63169239\n",
      "Iteration  200: Average log likelihood (of data points in batch [20000:20100]) = -0.56466725\n",
      "Iteration  300: Average log likelihood (of data points in batch [30000:30100]) = -0.52249992\n",
      "Iteration  400: Average log likelihood (of data points in batch [40000:40100]) = -0.48806792\n",
      "Iteration  500: Average log likelihood (of data points in batch [02300:02400]) = -0.49960526\n",
      "Iteration  600: Average log likelihood (of data points in batch [12300:12400]) = -0.54391213\n",
      "Iteration  700: Average log likelihood (of data points in batch [22300:22400]) = -0.55421997\n",
      "Iteration  800: Average log likelihood (of data points in batch [32300:32400]) = -0.49223639\n",
      "Iteration  900: Average log likelihood (of data points in batch [42300:42400]) = -0.53276596\n",
      "Iteration 1000: Average log likelihood (of data points in batch [04600:04700]) = -0.51224048\n",
      "Iteration 2000: Average log likelihood (of data points in batch [09200:09300]) = -0.47801010\n",
      "Iteration 3000: Average log likelihood (of data points in batch [13800:13900]) = -0.38835929\n",
      "Iteration 4000: Average log likelihood (of data points in batch [18400:18500]) = -0.50405218\n",
      "Iteration 4769: Average log likelihood (of data points in batch [47600:47700]) = -0.54441828\n"
     ]
    }
   ],
   "source": [
    "step_size = 1e-1\n",
    "batch_size = 100\n",
    "num_passes = 10\n",
    "num_iterations = num_passes * int(len(feature_matrix_train)/batch_size)\n",
    "\n",
    "coefficients_sgd, log_likelihood_sgd = logistic_regression_SG(feature_matrix_train, sentiment_train,\n",
    "                                       initial_coefficients=np.zeros(194),\n",
    "                                       step_size=1e-1, batch_size=100, max_iter=num_iterations)"
   ]
  },
  {
   "cell_type": "markdown",
   "metadata": {},
   "source": [
    "We provide you with a utility function to plot the average log likelihood as a function of the number of passes."
   ]
  },
  {
   "cell_type": "code",
   "execution_count": 27,
   "metadata": {},
   "outputs": [],
   "source": [
    "import matplotlib.pyplot as plt\n",
    "%matplotlib inline\n",
    "\n",
    "def make_plot(log_likelihood_all, len_data, batch_size, smoothing_window=1, label=''):\n",
    "    plt.rcParams.update({'figure.figsize': (9,5)})\n",
    "    log_likelihood_all_ma = np.convolve(np.array(log_likelihood_all), \\\n",
    "                                        np.ones((smoothing_window,))/smoothing_window, mode='valid')\n",
    "    plt.plot(np.array(range(smoothing_window-1, len(log_likelihood_all)))*float(batch_size)/len_data,\n",
    "             log_likelihood_all_ma, linewidth=4.0, label=label)\n",
    "    plt.rcParams.update({'font.size': 16})\n",
    "    plt.tight_layout()\n",
    "    plt.xlabel('# of passes over data')\n",
    "    plt.ylabel('Average log likelihood per data point')\n",
    "    plt.legend(loc='lower right', prop={'size':14})"
   ]
  },
  {
   "cell_type": "code",
   "execution_count": 28,
   "metadata": {},
   "outputs": [
    {
     "data": {
      "image/png": "[encoded data removed]",
      "text/plain": [
       "<Figure size 648x360 with 1 Axes>"
      ]
     },
     "metadata": {
      "needs_background": "light"
     },
     "output_type": "display_data"
    }
   ],
   "source": [
    "make_plot(log_likelihood_sgd, len_data=len(feature_matrix_train), batch_size=100,\n",
    "          label='stochastic gradient, step_size=1e-1')"
   ]
  },
  {
   "cell_type": "markdown",
   "metadata": {},
   "source": [
    "## Smoothing the stochastic gradient ascent curve\n",
    "\n",
    "The plotted line oscillates so much that it is hard to see whether the log likelihood is improving. In our plot, we apply a simple smoothing operation using the parameter `smoothing_window`. The smoothing is simply a [moving average](https://en.wikipedia.org/wiki/Moving_average) of log likelihood over the last `smoothing_window` \"iterations\" of  stochastic gradient ascent."
   ]
  },
  {
   "cell_type": "code",
   "execution_count": 29,
   "metadata": {},
   "outputs": [
    {
     "data": {
      "image/png": "[encoded data removed]",
      "text/plain": [
       "<Figure size 648x360 with 1 Axes>"
      ]
     },
     "metadata": {
      "needs_background": "light"
     },
     "output_type": "display_data"
    }
   ],
   "source": [
    "make_plot(log_likelihood_sgd, len_data=len(feature_matrix_train), batch_size=100,\n",
    "          smoothing_window=30, label='stochastic gradient, step_size=1e-1')"
   ]
  },
  {
   "cell_type": "markdown",
   "metadata": {},
   "source": [
    "**Checkpoint**: The above plot should look smoother than the previous plot. Play around with `smoothing_window`. As you increase it, you should see a smoother plot."
   ]
  },
  {
   "cell_type": "markdown",
   "metadata": {},
   "source": [
    "## Stochastic gradient ascent vs batch gradient ascent\n",
    "\n",
    "To compare convergence rates for stochastic gradient ascent with batch gradient ascent, we call `make_plot()` multiple times in the same cell.\n",
    "\n",
    "We are comparing:\n",
    "* **stochastic gradient ascent**: `step_size = 0.1`, `batch_size=100`\n",
    "* **batch gradient ascent**: `step_size = 0.5`, `batch_size=len(feature_matrix_train)`\n",
    "\n",
    "Write code to run stochastic gradient ascent for 200 passes using:\n",
    "* `step_size=1e-1`\n",
    "* `batch_size=100`\n",
    "* `initial_coefficients` to all zeros."
   ]
  },
  {
   "cell_type": "code",
   "execution_count": 30,
   "metadata": {},
   "outputs": [
    {
     "name": "stdout",
     "output_type": "stream",
     "text": [
      "Iteration     0: Average log likelihood (of data points in batch [00000:00100]) = -0.68375200\n",
      "Iteration     1: Average log likelihood (of data points in batch [00100:00200]) = -0.68069466\n",
      "Iteration     2: Average log likelihood (of data points in batch [00200:00300]) = -0.68371492\n",
      "Iteration     3: Average log likelihood (of data points in batch [00300:00400]) = -0.67658096\n",
      "Iteration     4: Average log likelihood (of data points in batch [00400:00500]) = -0.68174017\n",
      "Iteration     5: Average log likelihood (of data points in batch [00500:00600]) = -0.67953020\n",
      "Iteration     6: Average log likelihood (of data points in batch [00600:00700]) = -0.67217821\n",
      "Iteration     7: Average log likelihood (of data points in batch [00700:00800]) = -0.67773033\n",
      "Iteration     8: Average log likelihood (of data points in batch [00800:00900]) = -0.67272888\n",
      "Iteration     9: Average log likelihood (of data points in batch [00900:01000]) = -0.67773635\n",
      "Iteration    10: Average log likelihood (of data points in batch [01000:01100]) = -0.67088291\n",
      "Iteration    11: Average log likelihood (of data points in batch [01100:01200]) = -0.66412367\n",
      "Iteration    12: Average log likelihood (of data points in batch [01200:01300]) = -0.66725308\n",
      "Iteration    13: Average log likelihood (of data points in batch [01300:01400]) = -0.67199280\n",
      "Iteration    14: Average log likelihood (of data points in batch [01400:01500]) = -0.66603216\n",
      "Iteration    15: Average log likelihood (of data points in batch [01500:01600]) = -0.65689411\n",
      "Iteration   100: Average log likelihood (of data points in batch [10000:10100]) = -0.63169239\n",
      "Iteration   200: Average log likelihood (of data points in batch [20000:20100]) = -0.56466725\n",
      "Iteration   300: Average log likelihood (of data points in batch [30000:30100]) = -0.52249992\n",
      "Iteration   400: Average log likelihood (of data points in batch [40000:40100]) = -0.48806792\n",
      "Iteration   500: Average log likelihood (of data points in batch [02300:02400]) = -0.49960526\n",
      "Iteration   600: Average log likelihood (of data points in batch [12300:12400]) = -0.54391213\n",
      "Iteration   700: Average log likelihood (of data points in batch [22300:22400]) = -0.55421997\n",
      "Iteration   800: Average log likelihood (of data points in batch [32300:32400]) = -0.49223639\n",
      "Iteration   900: Average log likelihood (of data points in batch [42300:42400]) = -0.53276596\n",
      "Iteration  1000: Average log likelihood (of data points in batch [04600:04700]) = -0.51224048\n",
      "Iteration  2000: Average log likelihood (of data points in batch [09200:09300]) = -0.47801010\n",
      "Iteration  3000: Average log likelihood (of data points in batch [13800:13900]) = -0.38835929\n",
      "Iteration  4000: Average log likelihood (of data points in batch [18400:18500]) = -0.50405218\n",
      "Iteration  5000: Average log likelihood (of data points in batch [23000:23100]) = -0.46990409\n",
      "Iteration  6000: Average log likelihood (of data points in batch [27600:27700]) = -0.46271198\n",
      "Iteration  7000: Average log likelihood (of data points in batch [32200:32300]) = -0.47841001\n",
      "Iteration  8000: Average log likelihood (of data points in batch [36800:36900]) = -0.39361024\n",
      "Iteration  9000: Average log likelihood (of data points in batch [41400:41500]) = -0.46078408\n",
      "Iteration 10000: Average log likelihood (of data points in batch [46000:46100]) = -0.51376908\n",
      "Iteration 20000: Average log likelihood (of data points in batch [44300:44400]) = -0.46394229\n",
      "Iteration 30000: Average log likelihood (of data points in batch [42600:42700]) = -0.41304434\n",
      "Iteration 40000: Average log likelihood (of data points in batch [40900:41000]) = -0.50222356\n",
      "Iteration 50000: Average log likelihood (of data points in batch [39200:39300]) = -0.50119310\n",
      "Iteration 60000: Average log likelihood (of data points in batch [37500:37600]) = -0.42850770\n",
      "Iteration 70000: Average log likelihood (of data points in batch [35800:35900]) = -0.55143273\n",
      "Iteration 80000: Average log likelihood (of data points in batch [34100:34200]) = -0.49586447\n",
      "Iteration 90000: Average log likelihood (of data points in batch [32400:32500]) = -0.44617149\n",
      "Iteration 95399: Average log likelihood (of data points in batch [47600:47700]) = -0.55822363\n"
     ]
    }
   ],
   "source": [
    "step_size = 1e-1\n",
    "batch_size = 100\n",
    "num_passes = 200\n",
    "num_iterations = num_passes * int(len(feature_matrix_train)/batch_size)\n",
    "\n",
    "## YOUR CODE HERE\n",
    "coefficients_sgd, log_likelihood_sgd = logistic_regression_SG(feature_matrix_train, sentiment_train,\n",
    "                                       initial_coefficients=np.zeros(194),\n",
    "                                       step_size=step_size, batch_size=batch_size, max_iter=num_iterations)"
   ]
  },
  {
   "cell_type": "markdown",
   "metadata": {},
   "source": [
    "We compare the convergence of stochastic gradient ascent and batch gradient ascent in the following cell. Note that we apply smoothing with `smoothing_window=30`."
   ]
  },
  {
   "cell_type": "code",
   "execution_count": 31,
   "metadata": {},
   "outputs": [
    {
     "data": {
      "image/png": "[encoded data removed]",
      "text/plain": [
       "<Figure size 648x360 with 1 Axes>"
      ]
     },
     "metadata": {
      "needs_background": "light"
     },
     "output_type": "display_data"
    }
   ],
   "source": [
    "make_plot(log_likelihood_sgd, len_data=len(feature_matrix_train), batch_size=100,\n",
    "          smoothing_window=30, label='stochastic, step_size=1e-1')\n",
    "make_plot(log_likelihood_batch, len_data=len(feature_matrix_train), batch_size=len(feature_matrix_train),\n",
    "          smoothing_window=1, label='batch, step_size=5e-1')"
   ]
  },
  {
   "cell_type": "markdown",
   "metadata": {},
   "source": [
    "**Quiz Question**: In the figure above, how many passes does batch gradient ascent need to achieve a similar log likelihood as stochastic gradient ascent? \n",
    "\n",
    "1. It's always better\n",
    "2. 10 passes\n",
    "3. 20 passes\n",
    "4. 150 passes or more"
   ]
  },
  {
   "cell_type": "markdown",
   "metadata": {},
   "source": [
    "## Explore the effects of step sizes on stochastic gradient ascent"
   ]
  },
  {
   "cell_type": "markdown",
   "metadata": {},
   "source": [
    "In previous sections, we chose step sizes for you. In practice, it helps to know how to choose good step sizes yourself.\n",
    "\n",
    "To start, we explore a wide range of step sizes that are equally spaced in the log space. Run stochastic gradient ascent with `step_size` set to 1e-4, 1e-3, 1e-2, 1e-1, 1e0, 1e1, and 1e2. Use the following set of parameters:\n",
    "* `initial_coefficients=np.zeros(194)`\n",
    "* `batch_size=100`\n",
    "* `max_iter` initialized so as to run 10 passes over the data."
   ]
  },
  {
   "cell_type": "code",
   "execution_count": 32,
   "metadata": {},
   "outputs": [
    {
     "name": "stdout",
     "output_type": "stream",
     "text": [
      "Iteration    0: Average log likelihood (of data points in batch [00000:00100]) = -0.69313752\n",
      "Iteration    1: Average log likelihood (of data points in batch [00100:00200]) = -0.69313415\n",
      "Iteration    2: Average log likelihood (of data points in batch [00200:00300]) = -0.69313756\n",
      "Iteration    3: Average log likelihood (of data points in batch [00300:00400]) = -0.69312811\n",
      "Iteration    4: Average log likelihood (of data points in batch [00400:00500]) = -0.69313524\n",
      "Iteration    5: Average log likelihood (of data points in batch [00500:00600]) = -0.69313344\n",
      "Iteration    6: Average log likelihood (of data points in batch [00600:00700]) = -0.69312208\n",
      "Iteration    7: Average log likelihood (of data points in batch [00700:00800]) = -0.69313166\n",
      "Iteration    8: Average log likelihood (of data points in batch [00800:00900]) = -0.69312523\n",
      "Iteration    9: Average log likelihood (of data points in batch [00900:01000]) = -0.69313136\n",
      "Iteration   10: Average log likelihood (of data points in batch [01000:01100]) = -0.69312067\n",
      "Iteration   11: Average log likelihood (of data points in batch [01100:01200]) = -0.69311310\n",
      "Iteration   12: Average log likelihood (of data points in batch [01200:01300]) = -0.69311410\n",
      "Iteration   13: Average log likelihood (of data points in batch [01300:01400]) = -0.69312455\n",
      "Iteration   14: Average log likelihood (of data points in batch [01400:01500]) = -0.69311772\n",
      "Iteration   15: Average log likelihood (of data points in batch [01500:01600]) = -0.69309887\n",
      "Iteration  100: Average log likelihood (of data points in batch [10000:10100]) = -0.69303596\n",
      "Iteration  200: Average log likelihood (of data points in batch [20000:20100]) = -0.69286256\n",
      "Iteration  300: Average log likelihood (of data points in batch [30000:30100]) = -0.69252297\n",
      "Iteration  400: Average log likelihood (of data points in batch [40000:40100]) = -0.69239864\n",
      "Iteration  500: Average log likelihood (of data points in batch [02300:02400]) = -0.69214360\n",
      "Iteration  600: Average log likelihood (of data points in batch [12300:12400]) = -0.69253954\n",
      "Iteration  700: Average log likelihood (of data points in batch [22300:22400]) = -0.69208468\n",
      "Iteration  800: Average log likelihood (of data points in batch [32300:32400]) = -0.69177731\n",
      "Iteration  900: Average log likelihood (of data points in batch [42300:42400]) = -0.69183276\n",
      "Iteration 1000: Average log likelihood (of data points in batch [04600:04700]) = -0.69139229\n",
      "Iteration 2000: Average log likelihood (of data points in batch [09200:09300]) = -0.69059226\n",
      "Iteration 3000: Average log likelihood (of data points in batch [13800:13900]) = -0.68748868\n",
      "Iteration 4000: Average log likelihood (of data points in batch [18400:18500]) = -0.68728720\n",
      "Iteration 4769: Average log likelihood (of data points in batch [47600:47700]) = -0.68869518\n",
      "Iteration    0: Average log likelihood (of data points in batch [00000:00100]) = -0.69305063\n",
      "Iteration    1: Average log likelihood (of data points in batch [00100:00200]) = -0.69301694\n",
      "Iteration    2: Average log likelihood (of data points in batch [00200:00300]) = -0.69305095\n",
      "Iteration    3: Average log likelihood (of data points in batch [00300:00400]) = -0.69295675\n",
      "Iteration    4: Average log likelihood (of data points in batch [00400:00500]) = -0.69302788\n",
      "Iteration    5: Average log likelihood (of data points in batch [00500:00600]) = -0.69300981\n",
      "Iteration    6: Average log likelihood (of data points in batch [00600:00700]) = -0.69289670\n",
      "Iteration    7: Average log likelihood (of data points in batch [00700:00800]) = -0.69299205\n",
      "Iteration    8: Average log likelihood (of data points in batch [00800:00900]) = -0.69292788\n",
      "Iteration    9: Average log likelihood (of data points in batch [00900:01000]) = -0.69298905\n",
      "Iteration   10: Average log likelihood (of data points in batch [01000:01100]) = -0.69288262\n",
      "Iteration   11: Average log likelihood (of data points in batch [01100:01200]) = -0.69280700\n",
      "Iteration   12: Average log likelihood (of data points in batch [01200:01300]) = -0.69281743\n",
      "Iteration   13: Average log likelihood (of data points in batch [01300:01400]) = -0.69292115\n",
      "Iteration   14: Average log likelihood (of data points in batch [01400:01500]) = -0.69285283\n",
      "Iteration   15: Average log likelihood (of data points in batch [01500:01600]) = -0.69266583\n",
      "Iteration  100: Average log likelihood (of data points in batch [10000:10100]) = -0.69204906\n",
      "Iteration  200: Average log likelihood (of data points in batch [20000:20100]) = -0.69032710\n",
      "Iteration  300: Average log likelihood (of data points in batch [30000:30100]) = -0.68714331\n",
      "Iteration  400: Average log likelihood (of data points in batch [40000:40100]) = -0.68582887\n",
      "Iteration  500: Average log likelihood (of data points in batch [02300:02400]) = -0.68365513\n",
      "Iteration  600: Average log likelihood (of data points in batch [12300:12400]) = -0.68714476\n",
      "Iteration  700: Average log likelihood (of data points in batch [22300:22400]) = -0.68333860\n",
      "Iteration  800: Average log likelihood (of data points in batch [32300:32400]) = -0.68036826\n",
      "Iteration  900: Average log likelihood (of data points in batch [42300:42400]) = -0.68100038\n",
      "Iteration 1000: Average log likelihood (of data points in batch [04600:04700]) = -0.67838550\n",
      "Iteration 2000: Average log likelihood (of data points in batch [09200:09300]) = -0.66891781\n",
      "Iteration 3000: Average log likelihood (of data points in batch [13800:13900]) = -0.64172232\n",
      "Iteration 4000: Average log likelihood (of data points in batch [18400:18500]) = -0.64887659\n",
      "Iteration 4769: Average log likelihood (of data points in batch [47600:47700]) = -0.65481879\n",
      "Iteration    0: Average log likelihood (of data points in batch [00000:00100]) = -0.69218406\n",
      "Iteration    1: Average log likelihood (of data points in batch [00100:00200]) = -0.69185017\n",
      "Iteration    2: Average log likelihood (of data points in batch [00200:00300]) = -0.69218682\n",
      "Iteration    3: Average log likelihood (of data points in batch [00300:00400]) = -0.69126867\n",
      "Iteration    4: Average log likelihood (of data points in batch [00400:00500]) = -0.69196053\n",
      "Iteration    5: Average log likelihood (of data points in batch [00500:00600]) = -0.69177624\n",
      "Iteration    6: Average log likelihood (of data points in batch [00600:00700]) = -0.69069162\n",
      "Iteration    7: Average log likelihood (of data points in batch [00700:00800]) = -0.69159957\n",
      "Iteration    8: Average log likelihood (of data points in batch [00800:00900]) = -0.69097123\n",
      "Iteration    9: Average log likelihood (of data points in batch [00900:01000]) = -0.69156990\n",
      "Iteration   10: Average log likelihood (of data points in batch [01000:01100]) = -0.69055436\n",
      "Iteration   11: Average log likelihood (of data points in batch [01100:01200]) = -0.68980716\n",
      "Iteration   12: Average log likelihood (of data points in batch [01200:01300]) = -0.68994555\n",
      "Iteration   13: Average log likelihood (of data points in batch [01300:01400]) = -0.69090860\n",
      "Iteration   14: Average log likelihood (of data points in batch [01400:01500]) = -0.69022712\n",
      "Iteration   15: Average log likelihood (of data points in batch [01500:01600]) = -0.68849734\n",
      "Iteration  100: Average log likelihood (of data points in batch [10000:10100]) = -0.68327279\n",
      "Iteration  200: Average log likelihood (of data points in batch [20000:20100]) = -0.66740636\n",
      "Iteration  300: Average log likelihood (of data points in batch [30000:30100]) = -0.64745503\n",
      "Iteration  400: Average log likelihood (of data points in batch [40000:40100]) = -0.63356307\n",
      "Iteration  500: Average log likelihood (of data points in batch [02300:02400]) = -0.62606424\n",
      "Iteration  600: Average log likelihood (of data points in batch [12300:12400]) = -0.64371849\n",
      "Iteration  700: Average log likelihood (of data points in batch [22300:22400]) = -0.63202429\n",
      "Iteration  800: Average log likelihood (of data points in batch [32300:32400]) = -0.60996920\n",
      "Iteration  900: Average log likelihood (of data points in batch [42300:42400]) = -0.61823289\n",
      "Iteration 1000: Average log likelihood (of data points in batch [04600:04700]) = -0.61611161\n",
      "Iteration 2000: Average log likelihood (of data points in batch [09200:09300]) = -0.56840824\n",
      "Iteration 3000: Average log likelihood (of data points in batch [13800:13900]) = -0.48659333\n",
      "Iteration 4000: Average log likelihood (of data points in batch [18400:18500]) = -0.55181050\n"
     ]
    },
    {
     "name": "stdout",
     "output_type": "stream",
     "text": [
      "Iteration 4769: Average log likelihood (of data points in batch [47600:47700]) = -0.57215328\n",
      "Iteration    0: Average log likelihood (of data points in batch [00000:00100]) = -0.68375200\n",
      "Iteration    1: Average log likelihood (of data points in batch [00100:00200]) = -0.68069466\n",
      "Iteration    2: Average log likelihood (of data points in batch [00200:00300]) = -0.68371492\n",
      "Iteration    3: Average log likelihood (of data points in batch [00300:00400]) = -0.67658096\n",
      "Iteration    4: Average log likelihood (of data points in batch [00400:00500]) = -0.68174017\n",
      "Iteration    5: Average log likelihood (of data points in batch [00500:00600]) = -0.67953020\n",
      "Iteration    6: Average log likelihood (of data points in batch [00600:00700]) = -0.67217821\n",
      "Iteration    7: Average log likelihood (of data points in batch [00700:00800]) = -0.67773033\n",
      "Iteration    8: Average log likelihood (of data points in batch [00800:00900]) = -0.67272888\n",
      "Iteration    9: Average log likelihood (of data points in batch [00900:01000]) = -0.67773635\n",
      "Iteration   10: Average log likelihood (of data points in batch [01000:01100]) = -0.67088291\n",
      "Iteration   11: Average log likelihood (of data points in batch [01100:01200]) = -0.66412367\n",
      "Iteration   12: Average log likelihood (of data points in batch [01200:01300]) = -0.66725308\n",
      "Iteration   13: Average log likelihood (of data points in batch [01300:01400]) = -0.67199280\n",
      "Iteration   14: Average log likelihood (of data points in batch [01400:01500]) = -0.66603216\n",
      "Iteration   15: Average log likelihood (of data points in batch [01500:01600]) = -0.65689411\n",
      "Iteration  100: Average log likelihood (of data points in batch [10000:10100]) = -0.63169239\n",
      "Iteration  200: Average log likelihood (of data points in batch [20000:20100]) = -0.56466725\n",
      "Iteration  300: Average log likelihood (of data points in batch [30000:30100]) = -0.52249992\n",
      "Iteration  400: Average log likelihood (of data points in batch [40000:40100]) = -0.48806792\n",
      "Iteration  500: Average log likelihood (of data points in batch [02300:02400]) = -0.49960526\n",
      "Iteration  600: Average log likelihood (of data points in batch [12300:12400]) = -0.54391213\n",
      "Iteration  700: Average log likelihood (of data points in batch [22300:22400]) = -0.55421997\n",
      "Iteration  800: Average log likelihood (of data points in batch [32300:32400]) = -0.49223639\n",
      "Iteration  900: Average log likelihood (of data points in batch [42300:42400]) = -0.53276596\n",
      "Iteration 1000: Average log likelihood (of data points in batch [04600:04700]) = -0.51224048\n",
      "Iteration 2000: Average log likelihood (of data points in batch [09200:09300]) = -0.47801010\n",
      "Iteration 3000: Average log likelihood (of data points in batch [13800:13900]) = -0.38835929\n",
      "Iteration 4000: Average log likelihood (of data points in batch [18400:18500]) = -0.50405218\n",
      "Iteration 4769: Average log likelihood (of data points in batch [47600:47700]) = -0.54441828\n",
      "Iteration    0: Average log likelihood (of data points in batch [00000:00100]) = -0.61990953\n",
      "Iteration    1: Average log likelihood (of data points in batch [00100:00200]) = -0.60209468\n",
      "Iteration    2: Average log likelihood (of data points in batch [00200:00300]) = -0.61017578\n",
      "Iteration    3: Average log likelihood (of data points in batch [00300:00400]) = -0.59996445\n",
      "Iteration    4: Average log likelihood (of data points in batch [00400:00500]) = -0.59671928\n",
      "Iteration    5: Average log likelihood (of data points in batch [00500:00600]) = -0.58600335\n",
      "Iteration    6: Average log likelihood (of data points in batch [00600:00700]) = -0.57614702\n",
      "Iteration    7: Average log likelihood (of data points in batch [00700:00800]) = -0.57623905\n",
      "Iteration    8: Average log likelihood (of data points in batch [00800:00900]) = -0.56546444\n",
      "Iteration    9: Average log likelihood (of data points in batch [00900:01000]) = -0.58783325\n",
      "Iteration   10: Average log likelihood (of data points in batch [01000:01100]) = -0.57205767\n",
      "Iteration   11: Average log likelihood (of data points in batch [01100:01200]) = -0.52919125\n",
      "Iteration   12: Average log likelihood (of data points in batch [01200:01300]) = -0.56133009\n",
      "Iteration   13: Average log likelihood (of data points in batch [01300:01400]) = -0.56769831\n",
      "Iteration   14: Average log likelihood (of data points in batch [01400:01500]) = -0.55406391\n",
      "Iteration   15: Average log likelihood (of data points in batch [01500:01600]) = -0.53550960\n",
      "Iteration  100: Average log likelihood (of data points in batch [10000:10100]) = -0.51936839\n",
      "Iteration  200: Average log likelihood (of data points in batch [20000:20100]) = -0.45607946\n",
      "Iteration  300: Average log likelihood (of data points in batch [30000:30100]) = -0.41678781\n",
      "Iteration  400: Average log likelihood (of data points in batch [40000:40100]) = -0.40663099\n",
      "Iteration  500: Average log likelihood (of data points in batch [02300:02400]) = -0.44030502\n",
      "Iteration  600: Average log likelihood (of data points in batch [12300:12400]) = -0.47417325\n",
      "Iteration  700: Average log likelihood (of data points in batch [22300:22400]) = -0.51537431\n",
      "Iteration  800: Average log likelihood (of data points in batch [32300:32400]) = -0.46520691\n",
      "Iteration  900: Average log likelihood (of data points in batch [42300:42400]) = -0.48104598\n",
      "Iteration 1000: Average log likelihood (of data points in batch [04600:04700]) = -0.47070818\n",
      "Iteration 2000: Average log likelihood (of data points in batch [09200:09300]) = -0.44359013\n",
      "Iteration 3000: Average log likelihood (of data points in batch [13800:13900]) = -0.35247313\n",
      "Iteration 4000: Average log likelihood (of data points in batch [18400:18500]) = -0.48723169\n",
      "Iteration 4769: Average log likelihood (of data points in batch [47600:47700]) = -0.51238490\n",
      "Iteration    0: Average log likelihood (of data points in batch [00000:00100]) = -0.52652880\n",
      "Iteration    1: Average log likelihood (of data points in batch [00100:00200]) = -1.69386827\n",
      "Iteration    2: Average log likelihood (of data points in batch [00200:00300]) = -2.65086530\n",
      "Iteration    3: Average log likelihood (of data points in batch [00300:00400]) = -2.48494162\n",
      "Iteration    4: Average log likelihood (of data points in batch [00400:00500]) = -2.61318451\n",
      "Iteration    5: Average log likelihood (of data points in batch [00500:00600]) = -2.32889867\n",
      "Iteration    6: Average log likelihood (of data points in batch [00600:00700]) = -2.58981259\n",
      "Iteration    7: Average log likelihood (of data points in batch [00700:00800]) = -3.12309334\n",
      "Iteration    8: Average log likelihood (of data points in batch [00800:00900]) = -1.00128117\n",
      "Iteration    9: Average log likelihood (of data points in batch [00900:01000]) = -0.61285262\n",
      "Iteration   10: Average log likelihood (of data points in batch [01000:01100]) = -0.60885701\n",
      "Iteration   11: Average log likelihood (of data points in batch [01100:01200]) = -0.52180372\n",
      "Iteration   12: Average log likelihood (of data points in batch [01200:01300]) = -1.02922095\n",
      "Iteration   13: Average log likelihood (of data points in batch [01300:01400]) = -2.33366154\n",
      "Iteration   14: Average log likelihood (of data points in batch [01400:01500]) = -1.86038821\n",
      "Iteration   15: Average log likelihood (of data points in batch [01500:01600]) = -0.81044627\n",
      "Iteration  100: Average log likelihood (of data points in batch [10000:10100]) = -0.99218750\n",
      "Iteration  200: Average log likelihood (of data points in batch [20000:20100]) = -0.47721560\n",
      "Iteration  300: Average log likelihood (of data points in batch [30000:30100]) = -0.33787033\n",
      "Iteration  400: Average log likelihood (of data points in batch [40000:40100]) = -0.59419518\n",
      "Iteration  500: Average log likelihood (of data points in batch [02300:02400]) = -0.34653064\n",
      "Iteration  600: Average log likelihood (of data points in batch [12300:12400]) = -0.51955192\n",
      "Iteration  700: Average log likelihood (of data points in batch [22300:22400]) = -1.08966175\n",
      "Iteration  800: Average log likelihood (of data points in batch [32300:32400]) = -0.54942696\n",
      "Iteration  900: Average log likelihood (of data points in batch [42300:42400]) = -0.43545075\n",
      "Iteration 1000: Average log likelihood (of data points in batch [04600:04700]) = -0.64827117\n",
      "Iteration 2000: Average log likelihood (of data points in batch [09200:09300]) = -0.67406889\n",
      "Iteration 3000: Average log likelihood (of data points in batch [13800:13900]) = -0.35739306\n"
     ]
    },
    {
     "name": "stdout",
     "output_type": "stream",
     "text": [
      "Iteration 4000: Average log likelihood (of data points in batch [18400:18500]) = -2.15725994\n",
      "Iteration 4769: Average log likelihood (of data points in batch [47600:47700]) = -0.51539602\n",
      "Iteration    0: Average log likelihood (of data points in batch [00000:00100]) = -2.33829699\n",
      "Iteration    1: Average log likelihood (of data points in batch [00100:00200]) = -32.02164513\n",
      "Iteration    2: Average log likelihood (of data points in batch [00200:00300]) = -19.65533918\n",
      "Iteration    3: Average log likelihood (of data points in batch [00300:00400]) = -35.27091213\n",
      "Iteration    4: Average log likelihood (of data points in batch [00400:00500]) = -22.45335380\n",
      "Iteration    5: Average log likelihood (of data points in batch [00500:00600]) = -27.59129824\n",
      "Iteration    6: Average log likelihood (of data points in batch [00600:00700]) = -25.35054632\n",
      "Iteration    7: Average log likelihood (of data points in batch [00700:00800]) = -28.68278387\n",
      "Iteration    8: Average log likelihood (of data points in batch [00800:00900]) = -8.53997804\n",
      "Iteration    9: Average log likelihood (of data points in batch [00900:01000]) = -5.04613554\n",
      "Iteration   10: Average log likelihood (of data points in batch [01000:01100]) = -4.17912151\n",
      "Iteration   11: Average log likelihood (of data points in batch [01100:01200]) = -4.30725523\n",
      "Iteration   12: Average log likelihood (of data points in batch [01200:01300]) = -13.95184617\n",
      "Iteration   13: Average log likelihood (of data points in batch [01300:01400]) = -28.83276075\n",
      "Iteration   14: Average log likelihood (of data points in batch [01400:01500]) = -19.26034290\n",
      "Iteration   15: Average log likelihood (of data points in batch [01500:01600]) = -7.24976901\n"
     ]
    },
    {
     "name": "stderr",
     "output_type": "stream",
     "text": [
      "/home/ppratikbp/venv/lib/python3.6/site-packages/ipykernel_launcher.py:5: RuntimeWarning: overflow encountered in exp\n",
      "  \"\"\"\n"
     ]
    },
    {
     "name": "stdout",
     "output_type": "stream",
     "text": [
      "Iteration  100: Average log likelihood (of data points in batch [10000:10100]) = -8.79400461\n",
      "Iteration  200: Average log likelihood (of data points in batch [20000:20100]) = -4.07757943\n",
      "Iteration  300: Average log likelihood (of data points in batch [30000:30100]) = -10.55900306\n",
      "Iteration  400: Average log likelihood (of data points in batch [40000:40100]) = -6.31352735\n",
      "Iteration  500: Average log likelihood (of data points in batch [02300:02400]) = -4.80078847\n",
      "Iteration  600: Average log likelihood (of data points in batch [12300:12400]) = -22.17184079\n",
      "Iteration  700: Average log likelihood (of data points in batch [22300:22400]) = -9.80592071\n",
      "Iteration  800: Average log likelihood (of data points in batch [32300:32400]) = -6.23851240\n",
      "Iteration  900: Average log likelihood (of data points in batch [42300:42400]) = -2.54805864\n",
      "Iteration 1000: Average log likelihood (of data points in batch [04600:04700]) = -6.56754062\n"
     ]
    },
    {
     "name": "stderr",
     "output_type": "stream",
     "text": [
      "/home/ppratikbp/venv/lib/python3.6/site-packages/ipykernel_launcher.py:10: RuntimeWarning: overflow encountered in exp\n",
      "  # Remove the CWD from sys.path while we load stuff.\n"
     ]
    },
    {
     "name": "stdout",
     "output_type": "stream",
     "text": [
      "Iteration 2000: Average log likelihood (of data points in batch [09200:09300]) = -8.78756080\n",
      "Iteration 3000: Average log likelihood (of data points in batch [13800:13900]) = -2.63151063\n",
      "Iteration 4000: Average log likelihood (of data points in batch [18400:18500]) = -20.55410653\n",
      "Iteration 4769: Average log likelihood (of data points in batch [47600:47700]) = -5.49058361\n"
     ]
    }
   ],
   "source": [
    "batch_size = 100\n",
    "num_passes = 10\n",
    "num_iterations = num_passes * int(len(feature_matrix_train)/batch_size)\n",
    "\n",
    "coefficients_sgd = {}\n",
    "log_likelihood_sgd = {}\n",
    "for step_size in np.logspace(-4, 2, num=7):\n",
    "    coefficients_sgd[step_size], log_likelihood_sgd[step_size] = logistic_regression_SG(feature_matrix_train, sentiment_train,\n",
    "                                       initial_coefficients=np.zeros(194),\n",
    "                                       step_size=step_size, batch_size=batch_size, max_iter=num_iterations)"
   ]
  },
  {
   "cell_type": "markdown",
   "metadata": {},
   "source": [
    "### Plotting the log likelihood as a function of passes for each step size\n",
    "\n",
    "Now, we will plot the change in log likelihood using the `make_plot` for each of the following values of `step_size`:\n",
    "\n",
    "* `step_size = 1e-4`\n",
    "* `step_size = 1e-3`\n",
    "* `step_size = 1e-2`\n",
    "* `step_size = 1e-1`\n",
    "* `step_size = 1e0`\n",
    "* `step_size = 1e1`\n",
    "* `step_size = 1e2`"
   ]
  },
  {
   "cell_type": "markdown",
   "metadata": {},
   "source": [
    "For consistency, we again apply `smoothing_window=30`."
   ]
  },
  {
   "cell_type": "code",
   "execution_count": 33,
   "metadata": {},
   "outputs": [
    {
     "data": {
      "image/png": "[encoded data removed]",
      "text/plain": [
       "<Figure size 648x360 with 1 Axes>"
      ]
     },
     "metadata": {
      "needs_background": "light"
     },
     "output_type": "display_data"
    }
   ],
   "source": [
    "for step_size in np.logspace(-4, 2, num=7):\n",
    "    make_plot(log_likelihood_sgd[step_size], len_data=len(train_data), batch_size=100,\n",
    "              smoothing_window=30, label='step_size=%.1e'%step_size)"
   ]
  },
  {
   "cell_type": "markdown",
   "metadata": {},
   "source": [
    "Now, let us remove the step size `step_size = 1e2` and plot the rest of the curves."
   ]
  },
  {
   "cell_type": "code",
   "execution_count": 34,
   "metadata": {},
   "outputs": [
    {
     "data": {
      "image/png": "[encoded data removed]",
      "text/plain": [
       "<Figure size 648x360 with 1 Axes>"
      ]
     },
     "metadata": {
      "needs_background": "light"
     },
     "output_type": "display_data"
    }
   ],
   "source": [
    "for step_size in np.logspace(-4, 2, num=7)[0:6]:\n",
    "    make_plot(log_likelihood_sgd[step_size], len_data=len(train_data), batch_size=100,\n",
    "              smoothing_window=30, label='step_size=%.1e'%step_size)"
   ]
  },
  {
   "cell_type": "markdown",
   "metadata": {},
   "source": [
    "**Quiz Question**: Which of the following is the worst step size? Pick the step size that results in the lowest log likelihood in the end.\n",
    "1. 1e-2\n",
    "2. 1e-1\n",
    "3. 1e0\n",
    "4. 1e1\n",
    "5. 1e2"
   ]
  },
  {
   "cell_type": "markdown",
   "metadata": {},
   "source": [
    "**Quiz Question**: Which of the following is the best step size? Pick the step size that results in the highest log likelihood in the end.\n",
    "1. 1e-4\n",
    "2. 1e-2\n",
    "3. 1e0\n",
    "4. 1e1\n",
    "5. 1e2"
   ]
  }
 ],
 "metadata": {
  "kernelspec": {
   "display_name": "Python 3",
   "language": "python",
   "name": "python3"
  },
  "language_info": {
   "codemirror_mode": {
    "name": "ipython",
    "version": 3
   },
   "file_extension": ".py",
   "mimetype": "text/x-python",
   "name": "python",
   "nbconvert_exporter": "python",
   "pygments_lexer": "ipython3",
   "version": "3.6.9"
  }
 },
 "nbformat": 4,
 "nbformat_minor": 1
}
