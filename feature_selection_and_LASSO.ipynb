{
 "cells": [
  {
   "cell_type": "markdown",
   "metadata": {},
   "source": [
    "# Regression Week 5: Feature Selection and LASSO (Interpretation)"
   ]
  },
  {
   "cell_type": "markdown",
   "metadata": {},
   "source": [
    "In this notebook, you will use LASSO to select features, building on a pre-implemented solver for LASSO (using GraphLab Create, though you can use other solvers). You will:\n",
    "* Run LASSO with different L1 penalties.\n",
    "* Choose best L1 penalty using a validation set.\n",
    "* Choose best L1 penalty using a validation set, with additional constraint on the size of subset.\n",
    "\n",
    "In the second notebook, you will implement your own LASSO solver, using coordinate descent. "
   ]
  },
  {
   "cell_type": "markdown",
   "metadata": {},
   "source": [
    "# Fire up graphlab create"
   ]
  },
  {
   "cell_type": "code",
   "execution_count": 1,
   "metadata": {},
   "outputs": [],
   "source": [
    "import turicreate"
   ]
  },
  {
   "cell_type": "markdown",
   "metadata": {},
   "source": [
    "# Load in house sales data\n",
    "\n",
    "Dataset is from house sales in King County, the region where the city of Seattle, WA is located."
   ]
  },
  {
   "cell_type": "code",
   "execution_count": 2,
   "metadata": {
    "scrolled": true
   },
   "outputs": [
    {
     "data": {
      "text/html": [
       "<pre>Finished parsing file /home/ppratikbp/Coursera Machine Learning/C2_5_Lasso Regression/kc_house_data.csv</pre>"
      ],
      "text/plain": [
       "Finished parsing file /home/ppratikbp/Coursera Machine Learning/C2_5_Lasso Regression/kc_house_data.csv"
      ]
     },
     "metadata": {},
     "output_type": "display_data"
    },
    {
     "data": {
      "text/html": [
       "<pre>Parsing completed. Parsed 100 lines in 0.12085 secs.</pre>"
      ],
      "text/plain": [
       "Parsing completed. Parsed 100 lines in 0.12085 secs."
      ]
     },
     "metadata": {},
     "output_type": "display_data"
    },
    {
     "name": "stdout",
     "output_type": "stream",
     "text": [
      "------------------------------------------------------\n",
      "Inferred types from first 100 line(s) of file as \n",
      "column_type_hints=[int,str,float,int,float,int,int,float,int,int,int,int,int,int,int,int,int,float,float,int,int]\n",
      "If parsing fails due to incorrect types, you can correct\n",
      "the inferred type list above and pass it to read_csv in\n",
      "the column_type_hints argument\n",
      "------------------------------------------------------\n"
     ]
    },
    {
     "data": {
      "text/html": [
       "<pre>Finished parsing file /home/ppratikbp/Coursera Machine Learning/C2_5_Lasso Regression/kc_house_data.csv</pre>"
      ],
      "text/plain": [
       "Finished parsing file /home/ppratikbp/Coursera Machine Learning/C2_5_Lasso Regression/kc_house_data.csv"
      ]
     },
     "metadata": {},
     "output_type": "display_data"
    },
    {
     "data": {
      "text/html": [
       "<pre>Parsing completed. Parsed 21613 lines in 0.11662 secs.</pre>"
      ],
      "text/plain": [
       "Parsing completed. Parsed 21613 lines in 0.11662 secs."
      ]
     },
     "metadata": {},
     "output_type": "display_data"
    }
   ],
   "source": [
    "sales = turicreate.SFrame('kc_house_data.csv')"
   ]
  },
  {
   "cell_type": "markdown",
   "metadata": {},
   "source": [
    "# Create new features"
   ]
  },
  {
   "cell_type": "markdown",
   "metadata": {},
   "source": [
    "As in Week 2, we consider features that are some transformations of inputs."
   ]
  },
  {
   "cell_type": "code",
   "execution_count": 3,
   "metadata": {},
   "outputs": [],
   "source": [
    "from math import log, sqrt\n",
    "sales['sqft_living_sqrt'] = sales['sqft_living'].apply(sqrt)\n",
    "sales['sqft_lot_sqrt'] = sales['sqft_lot'].apply(sqrt)\n",
    "sales['bedrooms_square'] = sales['bedrooms']*sales['bedrooms']\n",
    "\n",
    "# In the dataset, 'floors' was defined with type string, \n",
    "# so we'll convert them to float, before creating a new feature.\n",
    "sales['floors'] = sales['floors'].astype(float) \n",
    "sales['floors_square'] = sales['floors']*sales['floors']"
   ]
  },
  {
   "cell_type": "markdown",
   "metadata": {},
   "source": [
    "* Squaring bedrooms will increase the separation between not many bedrooms (e.g. 1) and lots of bedrooms (e.g. 4) since 1^2 = 1 but 4^2 = 16. Consequently this variable will mostly affect houses with many bedrooms.\n",
    "* On the other hand, taking square root of sqft_living will decrease the separation between big house and small house. The owner may not be exactly twice as happy for getting a house that is twice as big."
   ]
  },
  {
   "cell_type": "markdown",
   "metadata": {},
   "source": [
    "# Learn regression weights with L1 penalty"
   ]
  },
  {
   "cell_type": "markdown",
   "metadata": {},
   "source": [
    "Let us fit a model with all the features available, plus the features we just created above."
   ]
  },
  {
   "cell_type": "code",
   "execution_count": 4,
   "metadata": {},
   "outputs": [],
   "source": [
    "all_features = ['bedrooms', 'bedrooms_square',\n",
    "            'bathrooms',\n",
    "            'sqft_living', 'sqft_living_sqrt',\n",
    "            'sqft_lot', 'sqft_lot_sqrt',\n",
    "            'floors', 'floors_square',\n",
    "            'waterfront', 'view', 'condition', 'grade',\n",
    "            'sqft_above',\n",
    "            'sqft_basement',\n",
    "            'yr_built', 'yr_renovated']"
   ]
  },
  {
   "cell_type": "markdown",
   "metadata": {},
   "source": [
    "Applying L1 penalty requires adding an extra parameter (`l1_penalty`) to the linear regression call in GraphLab Create. (Other tools may have separate implementations of LASSO.)  Note that it's important to set `l2_penalty=0` to ensure we don't introduce an additional L2 penalty."
   ]
  },
  {
   "cell_type": "code",
   "execution_count": 6,
   "metadata": {},
   "outputs": [
    {
     "data": {
      "text/html": [
       "<pre>Linear regression:</pre>"
      ],
      "text/plain": [
       "Linear regression:"
      ]
     },
     "metadata": {},
     "output_type": "display_data"
    },
    {
     "data": {
      "text/html": [
       "<pre>--------------------------------------------------------</pre>"
      ],
      "text/plain": [
       "--------------------------------------------------------"
      ]
     },
     "metadata": {},
     "output_type": "display_data"
    },
    {
     "data": {
      "text/html": [
       "<pre>Number of examples          : 21613</pre>"
      ],
      "text/plain": [
       "Number of examples          : 21613"
      ]
     },
     "metadata": {},
     "output_type": "display_data"
    },
    {
     "data": {
      "text/html": [
       "<pre>Number of features          : 17</pre>"
      ],
      "text/plain": [
       "Number of features          : 17"
      ]
     },
     "metadata": {},
     "output_type": "display_data"
    },
    {
     "data": {
      "text/html": [
       "<pre>Number of unpacked features : 17</pre>"
      ],
      "text/plain": [
       "Number of unpacked features : 17"
      ]
     },
     "metadata": {},
     "output_type": "display_data"
    },
    {
     "data": {
      "text/html": [
       "<pre>Number of coefficients    : 18</pre>"
      ],
      "text/plain": [
       "Number of coefficients    : 18"
      ]
     },
     "metadata": {},
     "output_type": "display_data"
    },
    {
     "data": {
      "text/html": [
       "<pre>Starting Accelerated Gradient (FISTA)</pre>"
      ],
      "text/plain": [
       "Starting Accelerated Gradient (FISTA)"
      ]
     },
     "metadata": {},
     "output_type": "display_data"
    },
    {
     "data": {
      "text/html": [
       "<pre>--------------------------------------------------------</pre>"
      ],
      "text/plain": [
       "--------------------------------------------------------"
      ]
     },
     "metadata": {},
     "output_type": "display_data"
    },
    {
     "data": {
      "text/html": [
       "<pre>Tuning step size. First iteration could take longer than subsequent iterations.</pre>"
      ],
      "text/plain": [
       "Tuning step size. First iteration could take longer than subsequent iterations."
      ]
     },
     "metadata": {},
     "output_type": "display_data"
    },
    {
     "data": {
      "text/html": [
       "<pre>+-----------+----------+-----------+--------------+--------------------+---------------------------------+</pre>"
      ],
      "text/plain": [
       "+-----------+----------+-----------+--------------+--------------------+---------------------------------+"
      ]
     },
     "metadata": {},
     "output_type": "display_data"
    },
    {
     "data": {
      "text/html": [
       "<pre>| Iteration | Passes   | Step size | Elapsed Time | Training Max Error | Training Root-Mean-Square Error |</pre>"
      ],
      "text/plain": [
       "| Iteration | Passes   | Step size | Elapsed Time | Training Max Error | Training Root-Mean-Square Error |"
      ]
     },
     "metadata": {},
     "output_type": "display_data"
    },
    {
     "data": {
      "text/html": [
       "<pre>+-----------+----------+-----------+--------------+--------------------+---------------------------------+</pre>"
      ],
      "text/plain": [
       "+-----------+----------+-----------+--------------+--------------------+---------------------------------+"
      ]
     },
     "metadata": {},
     "output_type": "display_data"
    },
    {
     "data": {
      "text/html": [
       "<pre>| 0         | 1        | 1.000000  | 1.006905     | 7700000.000000     | 653047.734168                   |</pre>"
      ],
      "text/plain": [
       "| 0         | 1        | 1.000000  | 1.006905     | 7700000.000000     | 653047.734168                   |"
      ]
     },
     "metadata": {},
     "output_type": "display_data"
    },
    {
     "data": {
      "text/html": [
       "<pre>| 1         | 2        | 0.000002  | 1.222006     | 6962915.603072     | 426631.749109                   |</pre>"
      ],
      "text/plain": [
       "| 1         | 2        | 0.000002  | 1.222006     | 6962915.603072     | 426631.749109                   |"
      ]
     },
     "metadata": {},
     "output_type": "display_data"
    },
    {
     "data": {
      "text/html": [
       "<pre>| 2         | 3        | 0.000002  | 1.239650     | 6843144.199650     | 392488.929912                   |</pre>"
      ],
      "text/plain": [
       "| 2         | 3        | 0.000002  | 1.239650     | 6843144.199650     | 392488.929912                   |"
      ]
     },
     "metadata": {},
     "output_type": "display_data"
    },
    {
     "data": {
      "text/html": [
       "<pre>| 3         | 4        | 0.000002  | 1.261905     | 6831900.031762     | 385340.166899                   |</pre>"
      ],
      "text/plain": [
       "| 3         | 4        | 0.000002  | 1.261905     | 6831900.031762     | 385340.166899                   |"
      ]
     },
     "metadata": {},
     "output_type": "display_data"
    },
    {
     "data": {
      "text/html": [
       "<pre>| 4         | 5        | 0.000002  | 1.289931     | 6847166.848494     | 384842.383879                   |</pre>"
      ],
      "text/plain": [
       "| 4         | 5        | 0.000002  | 1.289931     | 6847166.848494     | 384842.383879                   |"
      ]
     },
     "metadata": {},
     "output_type": "display_data"
    },
    {
     "data": {
      "text/html": [
       "<pre>| 5         | 6        | 0.000002  | 1.309682     | 6869667.894269     | 385998.458664                   |</pre>"
      ],
      "text/plain": [
       "| 5         | 6        | 0.000002  | 1.309682     | 6869667.894269     | 385998.458664                   |"
      ]
     },
     "metadata": {},
     "output_type": "display_data"
    },
    {
     "data": {
      "text/html": [
       "<pre>| 10        | 11       | 0.000002  | 1.415590     | 6842123.230167     | 364204.576307                   |</pre>"
      ],
      "text/plain": [
       "| 10        | 11       | 0.000002  | 1.415590     | 6842123.230167     | 364204.576307                   |"
      ]
     },
     "metadata": {},
     "output_type": "display_data"
    },
    {
     "data": {
      "text/html": [
       "<pre>+-----------+----------+-----------+--------------+--------------------+---------------------------------+</pre>"
      ],
      "text/plain": [
       "+-----------+----------+-----------+--------------+--------------------+---------------------------------+"
      ]
     },
     "metadata": {},
     "output_type": "display_data"
    },
    {
     "data": {
      "text/html": [
       "<pre>Completed (Iteration limit reached).</pre>"
      ],
      "text/plain": [
       "Completed (Iteration limit reached)."
      ]
     },
     "metadata": {},
     "output_type": "display_data"
    },
    {
     "data": {
      "text/html": [
       "<pre>This model may not be optimal. To improve it, consider increasing `max_iterations`.</pre>"
      ],
      "text/plain": [
       "This model may not be optimal. To improve it, consider increasing `max_iterations`."
      ]
     },
     "metadata": {},
     "output_type": "display_data"
    }
   ],
   "source": [
    "model_all = turicreate.linear_regression.create(sales, target='price', features=all_features,\n",
    "                                              validation_set=None, \n",
    "                                              l2_penalty=0., l1_penalty=1e10)"
   ]
  },
  {
   "cell_type": "markdown",
   "metadata": {},
   "source": [
    "Find what features had non-zero weight."
   ]
  },
  {
   "cell_type": "code",
   "execution_count": 47,
   "metadata": {},
   "outputs": [
    {
     "name": "stdout",
     "output_type": "stream",
     "text": [
      "+------------------+-------+--------------------+--------+\n",
      "|       name       | index |       value        | stderr |\n",
      "+------------------+-------+--------------------+--------+\n",
      "|   (intercept)    |  None | 274873.0556516682  |  None  |\n",
      "|    bathrooms     |  None | 8468.531052082479  |  None  |\n",
      "|   sqft_living    |  None | 24.42072110374888  |  None  |\n",
      "| sqft_living_sqrt |  None | 350.06055100462163 |  None  |\n",
      "|      grade       |  None | 842.0680288185752  |  None  |\n",
      "|    sqft_above    |  None | 20.024722643562892 |  None  |\n",
      "+------------------+-------+--------------------+--------+\n",
      "[? rows x 4 columns]\n",
      "Note: Only the head of the SFrame is printed. This SFrame is lazily evaluated.\n",
      "You can use sf.materialize() to force materialization.\n",
      "+------------------+-------+--------------------+--------+\n",
      "|       name       | index |       value        | stderr |\n",
      "+------------------+-------+--------------------+--------+\n",
      "|   (intercept)    |  None | 274873.0556516682  |  None  |\n",
      "|    bathrooms     |  None | 8468.531052082479  |  None  |\n",
      "|   sqft_living    |  None | 24.42072110374888  |  None  |\n",
      "| sqft_living_sqrt |  None | 350.06055100462163 |  None  |\n",
      "|      grade       |  None | 842.0680288185752  |  None  |\n",
      "|    sqft_above    |  None | 20.024722643562892 |  None  |\n",
      "+------------------+-------+--------------------+--------+\n",
      "[6 rows x 4 columns]\n",
      "\n"
     ]
    }
   ],
   "source": [
    "# non_zero_weight = model_all.get(\"coefficients\")[\"value\"]\n",
    "non_zero_weight = model_all.coefficients\n",
    "non_zero_weight = non_zero_weight[non_zero_weight['value'] > 0]\n",
    "print(non_zero_weight)\n",
    "non_zero_weight.print_rows(num_rows=20)"
   ]
  },
  {
   "cell_type": "markdown",
   "metadata": {},
   "source": [
    "Note that a majority of the weights have been set to zero. So by setting an L1 penalty that's large enough, we are performing a subset selection. \n",
    "\n",
    "***QUIZ QUESTION***:\n",
    "According to this list of weights, which of the features have been chosen? "
   ]
  },
  {
   "cell_type": "markdown",
   "metadata": {},
   "source": [
    "# Selecting an L1 penalty"
   ]
  },
  {
   "cell_type": "markdown",
   "metadata": {},
   "source": [
    "To find a good L1 penalty, we will explore multiple values using a validation set. Let us do three way split into train, validation, and test sets:\n",
    "* Split our sales data into 2 sets: training and test\n",
    "* Further split our training data into two sets: train, validation\n",
    "\n",
    "Be *very* careful that you use seed = 1 to ensure you get the same answer!"
   ]
  },
  {
   "cell_type": "code",
   "execution_count": 48,
   "metadata": {},
   "outputs": [],
   "source": [
    "(training_and_validation, testing) = sales.random_split(.9,seed=1) # initial train/test split\n",
    "(training, validation) = training_and_validation.random_split(0.5, seed=1) # split training into train and validate"
   ]
  },
  {
   "cell_type": "markdown",
   "metadata": {},
   "source": [
    "Next, we write a loop that does the following:\n",
    "* For `l1_penalty` in [10^1, 10^1.5, 10^2, 10^2.5, ..., 10^7] (to get this in Python, type `np.logspace(1, 7, num=13)`.)\n",
    "    * Fit a regression model with a given `l1_penalty` on TRAIN data. Specify `l1_penalty=l1_penalty` and `l2_penalty=0.` in the parameter list.\n",
    "    * Compute the RSS on VALIDATION data (here you will want to use `.predict()`) for that `l1_penalty`\n",
    "* Report which `l1_penalty` produced the lowest RSS on validation data.\n",
    "\n",
    "When you call `linear_regression.create()` make sure you set `validation_set = None`.\n",
    "\n",
    "Note: you can turn off the print out of `linear_regression.create()` with `verbose = False`"
   ]
  },
  {
   "cell_type": "code",
   "execution_count": 49,
   "metadata": {
    "code_folding": []
   },
   "outputs": [
    {
     "name": "stdout",
     "output_type": "stream",
     "text": [
      "(10.0, 625766294657733.5)\n"
     ]
    }
   ],
   "source": [
    "import numpy as np\n",
    "import pprint \n",
    "\n",
    "validation_rss = {}\n",
    "for l1_penalty in np.logspace(1, 7, num=13):\n",
    "    model = turicreate.linear_regression.create(training, target='price', features=all_features,\n",
    "                                              validation_set=None, verbose = False,\n",
    "                                              l2_penalty=0., l1_penalty=l1_penalty)\n",
    "    predictions = model.predict(validation)\n",
    "    residuals = validation['price'] - predictions\n",
    "    rss = sum(residuals**2)\n",
    "    validation_rss[l1_penalty] = rss\n",
    "\n",
    "# pprint.pprint(result_dict)\n",
    "print(min(validation_rss.items(), key=lambda x: x[1])) "
   ]
  },
  {
   "cell_type": "markdown",
   "metadata": {},
   "source": [
    "*** QUIZ QUESTIONS ***\n",
    "1. What was the best value for the `l1_penalty`?\n",
    "2. What is the RSS on TEST data of the model with the best `l1_penalty`?"
   ]
  },
  {
   "cell_type": "code",
   "execution_count": 50,
   "metadata": {},
   "outputs": [
    {
     "name": "stdout",
     "output_type": "stream",
     "text": [
      "156972768556572.28\n"
     ]
    }
   ],
   "source": [
    "model_test = turicreate.linear_regression.create(training, target='price', features=all_features,\n",
    "                                              validation_set=None, verbose = False,\n",
    "                                              l2_penalty=0., l1_penalty=10.0)\n",
    "predictions_test = model.predict(testing)\n",
    "residuals_test = testing['price'] - predictions_test\n",
    "rss_test = sum(residuals_test**2)\n",
    "print(rss_test)"
   ]
  },
  {
   "cell_type": "markdown",
   "metadata": {},
   "source": [
    "***QUIZ QUESTION***\n",
    "Also, using this value of L1 penalty, how many nonzero weights do you have?"
   ]
  },
  {
   "cell_type": "code",
   "execution_count": 51,
   "metadata": {},
   "outputs": [
    {
     "name": "stdout",
     "output_type": "stream",
     "text": [
      "+------------------+-------+----------------------+--------+\n",
      "|       name       | index |        value         | stderr |\n",
      "+------------------+-------+----------------------+--------+\n",
      "|   (intercept)    |  None |  18993.42639378385   |  None  |\n",
      "|     bedrooms     |  None |  7936.967506315497   |  None  |\n",
      "| bedrooms_square  |  None |  936.9933634355792   |  None  |\n",
      "|    bathrooms     |  None |  25409.589025389036  |  None  |\n",
      "|   sqft_living    |  None |  39.115136954825466  |  None  |\n",
      "| sqft_living_sqrt |  None |  1124.650213097026   |  None  |\n",
      "|     sqft_lot     |  None | 0.003483624587288124 |  None  |\n",
      "|  sqft_lot_sqrt   |  None |  148.2583942897513   |  None  |\n",
      "|      floors      |  None |  21204.335313065483  |  None  |\n",
      "|  floors_square   |  None |  12915.524437616072  |  None  |\n",
      "+------------------+-------+----------------------+--------+\n",
      "[? rows x 4 columns]\n",
      "Note: Only the head of the SFrame is printed. This SFrame is lazily evaluated.\n",
      "You can use sf.materialize() to force materialization.\n",
      "+------------------+-------+----------------------+--------+\n",
      "|       name       | index |        value         | stderr |\n",
      "+------------------+-------+----------------------+--------+\n",
      "|   (intercept)    |  None |  18993.42639378385   |  None  |\n",
      "|     bedrooms     |  None |  7936.967506315497   |  None  |\n",
      "| bedrooms_square  |  None |  936.9933634355792   |  None  |\n",
      "|    bathrooms     |  None |  25409.589025389036  |  None  |\n",
      "|   sqft_living    |  None |  39.115136954825466  |  None  |\n",
      "| sqft_living_sqrt |  None |  1124.650213097026   |  None  |\n",
      "|     sqft_lot     |  None | 0.003483624587288124 |  None  |\n",
      "|  sqft_lot_sqrt   |  None |  148.2583942897513   |  None  |\n",
      "|      floors      |  None |  21204.335313065483  |  None  |\n",
      "|  floors_square   |  None |  12915.524437616072  |  None  |\n",
      "|    waterfront    |  None |  601905.5850177339   |  None  |\n",
      "|       view       |  None |  93312.86160400744   |  None  |\n",
      "|    condition     |  None |  6609.035471462603   |  None  |\n",
      "|      grade       |  None |  6206.939982929818   |  None  |\n",
      "|    sqft_above    |  None |   43.2870540841395   |  None  |\n",
      "|  sqft_basement   |  None |  122.36782893988028  |  None  |\n",
      "|     yr_built     |  None |  9.433634998378068   |  None  |\n",
      "|   yr_renovated   |  None |  56.072004294803456  |  None  |\n",
      "+------------------+-------+----------------------+--------+\n",
      "[18 rows x 4 columns]\n",
      "\n"
     ]
    }
   ],
   "source": [
    "non_zero_weight_test = model_test.coefficients\n",
    "non_zero_weight_test = non_zero_weight_test[non_zero_weight_test['value'] > 0]\n",
    "print(non_zero_weight_test)\n",
    "non_zero_weight_test.print_rows(num_rows=20)"
   ]
  },
  {
   "cell_type": "markdown",
   "metadata": {},
   "source": [
    "# Limit the number of nonzero weights\n",
    "\n",
    "What if we absolutely wanted to limit ourselves to, say, 7 features? This may be important if we want to derive \"a rule of thumb\" --- an interpretable model that has only a few features in them."
   ]
  },
  {
   "cell_type": "markdown",
   "metadata": {},
   "source": [
    "In this section, you are going to implement a simple, two phase procedure to achive this goal:\n",
    "1. Explore a large range of `l1_penalty` values to find a narrow region of `l1_penalty` values where models are likely to have the desired number of non-zero weights.\n",
    "2. Further explore the narrow region you found to find a good value for `l1_penalty` that achieves the desired sparsity.  Here, we will again use a validation set to choose the best value for `l1_penalty`."
   ]
  },
  {
   "cell_type": "code",
   "execution_count": 52,
   "metadata": {},
   "outputs": [],
   "source": [
    "max_nonzeros = 7"
   ]
  },
  {
   "cell_type": "markdown",
   "metadata": {},
   "source": [
    "## Exploring the larger range of values to find a narrow range with the desired sparsity\n",
    "\n",
    "Let's define a wide range of possible `l1_penalty_values`:"
   ]
  },
  {
   "cell_type": "code",
   "execution_count": 54,
   "metadata": {},
   "outputs": [
    {
     "name": "stdout",
     "output_type": "stream",
     "text": [
      "[1.00000000e+08 1.27427499e+08 1.62377674e+08 2.06913808e+08\n",
      " 2.63665090e+08 3.35981829e+08 4.28133240e+08 5.45559478e+08\n",
      " 6.95192796e+08 8.85866790e+08 1.12883789e+09 1.43844989e+09\n",
      " 1.83298071e+09 2.33572147e+09 2.97635144e+09 3.79269019e+09\n",
      " 4.83293024e+09 6.15848211e+09 7.84759970e+09 1.00000000e+10]\n"
     ]
    }
   ],
   "source": [
    "l1_penalty_values = np.logspace(8, 10, num=20)\n",
    "print(l1_penalty_values)"
   ]
  },
  {
   "cell_type": "markdown",
   "metadata": {},
   "source": [
    "Now, implement a loop that search through this space of possible `l1_penalty` values:\n",
    "\n",
    "* For `l1_penalty` in `np.logspace(8, 10, num=20)`:\n",
    "    * Fit a regression model with a given `l1_penalty` on TRAIN data. Specify `l1_penalty=l1_penalty` and `l2_penalty=0.` in the parameter list. When you call `linear_regression.create()` make sure you set `validation_set = None`\n",
    "    * Extract the weights of the model and count the number of nonzeros. Save the number of nonzeros to a list.\n",
    "        * *Hint: `model['coefficients']['value']` gives you an SArray with the parameters you learned.  If you call the method `.nnz()` on it, you will find the number of non-zero parameters!* "
   ]
  },
  {
   "cell_type": "code",
   "execution_count": 63,
   "metadata": {},
   "outputs": [],
   "source": [
    "coef_dict = {}\n",
    "for l1_penalty in l1_penalty_values:\n",
    "    model = turicreate.linear_regression.create(training, target ='price', features=all_features,\n",
    "                                              validation_set=None, verbose=None,\n",
    "                                              l2_penalty=0., l1_penalty=l1_penalty)\n",
    "    coef_dict[l1_penalty] = model.coefficients\n",
    "    coef_dict[l1_penalty] = coef_dict[l1_penalty][coef_dict[l1_penalty]['value']]"
   ]
  },
  {
   "cell_type": "code",
   "execution_count": 64,
   "metadata": {},
   "outputs": [
    {
     "name": "stdout",
     "output_type": "stream",
     "text": [
      "{100000000.0: Columns:\n",
      "\tname\tstr\n",
      "\tindex\tstr\n",
      "\tvalue\tfloat\n",
      "\tstderr\tfloat\n",
      "\n",
      "Rows: Unknown\n",
      "\n",
      "Data:\n",
      "+------------------+-------+-----------------------+--------+\n",
      "|       name       | index |         value         | stderr |\n",
      "+------------------+-------+-----------------------+--------+\n",
      "|   (intercept)    |  None |   25090.91655983156   |  None  |\n",
      "|     bedrooms     |  None |   7789.176891636114   |  None  |\n",
      "| bedrooms_square  |  None |   847.5596826532682   |  None  |\n",
      "|    bathrooms     |  None |   25234.209290943505  |  None  |\n",
      "|   sqft_living    |  None |   39.039446544242494  |  None  |\n",
      "| sqft_living_sqrt |  None |   1117.3118961277494  |  None  |\n",
      "|     sqft_lot     |  None | -0.025686122351637274 |  None  |\n",
      "|  sqft_lot_sqrt   |  None |    143.988995456053   |  None  |\n",
      "|      floors      |  None |   20695.35909265733   |  None  |\n",
      "|  floors_square   |  None |   12466.690754862868  |  None  |\n",
      "+------------------+-------+-----------------------+--------+\n",
      "[? rows x 4 columns]\n",
      "Note: Only the head of the SFrame is printed. This SFrame is lazily evaluated.\n",
      "You can use sf.materialize() to force materialization.,\n",
      " 127427498.57031322: Columns:\n",
      "\tname\tstr\n",
      "\tindex\tstr\n",
      "\tvalue\tfloat\n",
      "\tstderr\tfloat\n",
      "\n",
      "Rows: Unknown\n",
      "\n",
      "Data:\n",
      "+------------------+-------+-----------------------+--------+\n",
      "|       name       | index |         value         | stderr |\n",
      "+------------------+-------+-----------------------+--------+\n",
      "|   (intercept)    |  None |   26746.661117648746  |  None  |\n",
      "|     bedrooms     |  None |   7743.978875134082   |  None  |\n",
      "| bedrooms_square  |  None |   822.3589404932172   |  None  |\n",
      "|    bathrooms     |  None |   25178.62602185529   |  None  |\n",
      "|   sqft_living    |  None |   39.01071871037189   |  None  |\n",
      "| sqft_living_sqrt |  None |   1114.910716212572   |  None  |\n",
      "|     sqft_lot     |  None | -0.018663067358484546 |  None  |\n",
      "|  sqft_lot_sqrt   |  None |   142.5198011197148   |  None  |\n",
      "|      floors      |  None |   20545.86715081293   |  None  |\n",
      "|  floors_square   |  None |   12339.24535178924   |  None  |\n",
      "+------------------+-------+-----------------------+--------+\n",
      "[? rows x 4 columns]\n",
      "Note: Only the head of the SFrame is printed. This SFrame is lazily evaluated.\n",
      "You can use sf.materialize() to force materialization.,\n",
      " 162377673.91887242: Columns:\n",
      "\tname\tstr\n",
      "\tindex\tstr\n",
      "\tvalue\tfloat\n",
      "\tstderr\tfloat\n",
      "\n",
      "Rows: Unknown\n",
      "\n",
      "Data:\n",
      "+------------------+-------+-----------------------+--------+\n",
      "|       name       | index |         value         | stderr |\n",
      "+------------------+-------+-----------------------+--------+\n",
      "|   (intercept)    |  None |   28873.180197635662  |  None  |\n",
      "|     bedrooms     |  None |   7691.046902970508   |  None  |\n",
      "| bedrooms_square  |  None |   790.9175749266361   |  None  |\n",
      "|    bathrooms     |  None |   25115.278625784274  |  None  |\n",
      "|   sqft_living    |  None |   38.98207938832655   |  None  |\n",
      "| sqft_living_sqrt |  None |   1112.2394149372972  |  None  |\n",
      "|     sqft_lot     |  None | -0.024737354216502604 |  None  |\n",
      "|  sqft_lot_sqrt   |  None |   140.94584802916037  |  None  |\n",
      "|      floors      |  None |   20365.265742968055  |  None  |\n",
      "|  floors_square   |  None |   12181.186359249394  |  None  |\n",
      "+------------------+-------+-----------------------+--------+\n",
      "[? rows x 4 columns]\n",
      "Note: Only the head of the SFrame is printed. This SFrame is lazily evaluated.\n",
      "You can use sf.materialize() to force materialization.,\n",
      " 206913808.111479: Columns:\n",
      "\tname\tstr\n",
      "\tindex\tstr\n",
      "\tvalue\tfloat\n",
      "\tstderr\tfloat\n",
      "\n",
      "Rows: Unknown\n",
      "\n",
      "Data:\n",
      "+------------------+-------+-----------------------+--------+\n",
      "|       name       | index |         value         | stderr |\n",
      "+------------------+-------+-----------------------+--------+\n",
      "|   (intercept)    |  None |    31564.6056695945   |  None  |\n",
      "|     bedrooms     |  None |   7618.567596103858   |  None  |\n",
      "| bedrooms_square  |  None |   750.1709506921882   |  None  |\n",
      "|    bathrooms     |  None |   25026.17750585478   |  None  |\n",
      "|   sqft_living    |  None |   38.93591583626983   |  None  |\n",
      "| sqft_living_sqrt |  None |   1108.3863200336727  |  None  |\n",
      "|     sqft_lot     |  None | -0.017744768640971142 |  None  |\n",
      "|  sqft_lot_sqrt   |  None |   138.38532968572713  |  None  |\n",
      "|      floors      |  None |   20124.746574771307  |  None  |\n",
      "|  floors_square   |  None |   11975.497866797888  |  None  |\n",
      "+------------------+-------+-----------------------+--------+\n",
      "[? rows x 4 columns]\n",
      "Note: Only the head of the SFrame is printed. This SFrame is lazily evaluated.\n",
      "You can use sf.materialize() to force materialization.,\n",
      " 263665089.87303555: Columns:\n",
      "\tname\tstr\n",
      "\tindex\tstr\n",
      "\tvalue\tfloat\n",
      "\tstderr\tfloat\n",
      "\n",
      "Rows: Unknown\n",
      "\n",
      "Data:\n",
      "+------------------+-------+--------------------+--------+\n",
      "|       name       | index |       value        | stderr |\n",
      "+------------------+-------+--------------------+--------+\n",
      "|   (intercept)    |  None | 34954.67093287608  |  None  |\n",
      "|     bedrooms     |  None | 7515.377311759391  |  None  |\n",
      "| bedrooms_square  |  None | 696.7853550186494  |  None  |\n",
      "|    bathrooms     |  None | 24894.55618761883  |  None  |\n",
      "|   sqft_living    |  None |  38.8561412190224  |  None  |\n",
      "| sqft_living_sqrt |  None | 1102.5056441563859 |  None  |\n",
      "|  sqft_lot_sqrt   |  None | 133.90031081504569 |  None  |\n",
      "|      floors      |  None | 19795.93018200089  |  None  |\n",
      "|  floors_square   |  None | 11704.22815815678  |  None  |\n",
      "|    waterfront    |  None | 512800.5706330288  |  None  |\n",
      "+------------------+-------+--------------------+--------+\n",
      "[? rows x 4 columns]\n",
      "Note: Only the head of the SFrame is printed. This SFrame is lazily evaluated.\n",
      "You can use sf.materialize() to force materialization.,\n",
      " 335981828.6283788: Columns:\n",
      "\tname\tstr\n",
      "\tindex\tstr\n",
      "\tvalue\tfloat\n",
      "\tstderr\tfloat\n",
      "\n",
      "Rows: Unknown\n",
      "\n",
      "Data:\n",
      "+------------------+-------+--------------------+--------+\n",
      "|       name       | index |       value        | stderr |\n",
      "+------------------+-------+--------------------+--------+\n",
      "|   (intercept)    |  None | 39314.61424123587  |  None  |\n",
      "|     bedrooms     |  None | 7394.882720051079  |  None  |\n",
      "| bedrooms_square  |  None | 630.2530269322081  |  None  |\n",
      "|    bathrooms     |  None | 24745.12188629231  |  None  |\n",
      "|   sqft_living    |  None | 38.77550659759223  |  None  |\n",
      "| sqft_living_sqrt |  None | 1095.9906976937389 |  None  |\n",
      "|  sqft_lot_sqrt   |  None | 129.3716116525166  |  None  |\n",
      "|      floors      |  None | 19399.666860142577 |  None  |\n",
      "|  floors_square   |  None | 11367.957576467103 |  None  |\n",
      "|    waterfront    |  None | 488319.73852315795 |  None  |\n",
      "+------------------+-------+--------------------+--------+\n",
      "[? rows x 4 columns]\n",
      "Note: Only the head of the SFrame is printed. This SFrame is lazily evaluated.\n",
      "You can use sf.materialize() to force materialization.,\n",
      " 428133239.8719396: Columns:\n",
      "\tname\tstr\n",
      "\tindex\tstr\n",
      "\tvalue\tfloat\n",
      "\tstderr\tfloat\n",
      "\n",
      "Rows: Unknown\n",
      "\n",
      "Data:\n",
      "+------------------+-------+--------------------+--------+\n",
      "|       name       | index |       value        | stderr |\n",
      "+------------------+-------+--------------------+--------+\n",
      "|   (intercept)    |  None | 44909.33710439706  |  None  |\n",
      "|     bedrooms     |  None | 7253.292976720429  |  None  |\n",
      "| bedrooms_square  |  None | 547.5924577279735  |  None  |\n",
      "|    bathrooms     |  None | 24570.68598906509  |  None  |\n",
      "|   sqft_living    |  None | 38.68228185138271  |  None  |\n",
      "| sqft_living_sqrt |  None | 1088.3818688672036 |  None  |\n",
      "|  sqft_lot_sqrt   |  None | 121.98711741048993 |  None  |\n",
      "|      floors      |  None | 18922.821462165535 |  None  |\n",
      "|  floors_square   |  None | 10954.471973854583 |  None  |\n",
      "|    waterfront    |  None | 457135.24761272065 |  None  |\n",
      "+------------------+-------+--------------------+--------+\n",
      "[? rows x 4 columns]\n",
      "Note: Only the head of the SFrame is printed. This SFrame is lazily evaluated.\n",
      "You can use sf.materialize() to force materialization.,\n",
      " 545559478.1168514: Columns:\n",
      "\tname\tstr\n",
      "\tindex\tstr\n",
      "\tvalue\tfloat\n",
      "\tstderr\tfloat\n",
      "\n",
      "Rows: Unknown\n",
      "\n",
      "Data:\n",
      "+------------------+-------+--------------------+--------+\n",
      "|       name       | index |       value        | stderr |\n",
      "+------------------+-------+--------------------+--------+\n",
      "|   (intercept)    |  None | 52030.02926476788  |  None  |\n",
      "|     bedrooms     |  None |  7070.21644361512  |  None  |\n",
      "| bedrooms_square  |  None | 441.7750793413552  |  None  |\n",
      "|    bathrooms     |  None | 24344.882148119024 |  None  |\n",
      "|   sqft_living    |  None | 38.56150560688359  |  None  |\n",
      "| sqft_living_sqrt |  None | 1078.5368144159668 |  None  |\n",
      "|  sqft_lot_sqrt   |  None | 112.95992966681203 |  None  |\n",
      "|      floors      |  None |  18308.8670833565  |  None  |\n",
      "|  floors_square   |  None | 10424.128631002499 |  None  |\n",
      "|    waterfront    |  None | 417398.7536272219  |  None  |\n",
      "+------------------+-------+--------------------+--------+\n",
      "[? rows x 4 columns]\n",
      "Note: Only the head of the SFrame is printed. This SFrame is lazily evaluated.\n",
      "You can use sf.materialize() to force materialization.,\n",
      " 695192796.1775591: Columns:\n",
      "\tname\tstr\n",
      "\tindex\tstr\n",
      "\tvalue\tfloat\n",
      "\tstderr\tfloat\n",
      "\n",
      "Rows: Unknown\n",
      "\n",
      "Data:\n",
      "+------------------+-------+--------------------+--------+\n",
      "|       name       | index |       value        | stderr |\n",
      "+------------------+-------+--------------------+--------+\n",
      "|   (intercept)    |  None | 61121.28120855442  |  None  |\n",
      "|     bedrooms     |  None | 6842.360343504714  |  None  |\n",
      "| bedrooms_square  |  None | 307.9036554124182  |  None  |\n",
      "|    bathrooms     |  None | 24063.609680603655 |  None  |\n",
      "|   sqft_living    |  None | 38.40964796955781  |  None  |\n",
      "| sqft_living_sqrt |  None | 1066.2493769049363 |  None  |\n",
      "|  sqft_lot_sqrt   |  None | 100.19356318471719 |  None  |\n",
      "|      floors      |  None | 17539.440630042714 |  None  |\n",
      "|  floors_square   |  None | 9755.402335400686  |  None  |\n",
      "|    waterfront    |  None | 366774.07503441465 |  None  |\n",
      "+------------------+-------+--------------------+--------+\n",
      "[? rows x 4 columns]\n",
      "Note: Only the head of the SFrame is printed. This SFrame is lazily evaluated.\n",
      "You can use sf.materialize() to force materialization.,\n",
      " 885866790.4100832: Columns:\n",
      "\tname\tstr\n",
      "\tindex\tstr\n",
      "\tvalue\tfloat\n",
      "\tstderr\tfloat\n",
      "\n",
      "Rows: Unknown\n",
      "\n",
      "Data:\n",
      "+------------------+-------+--------------------+--------+\n",
      "|       name       | index |       value        | stderr |\n",
      "+------------------+-------+--------------------+--------+\n",
      "|   (intercept)    |  None |  72653.7620260048  |  None  |\n",
      "|     bedrooms     |  None | 6537.498368366059  |  None  |\n",
      "| bedrooms_square  |  None | 135.20364434858212 |  None  |\n",
      "|    bathrooms     |  None | 23681.23681875772  |  None  |\n",
      "|   sqft_living    |  None | 38.19186527808871  |  None  |\n",
      "| sqft_living_sqrt |  None | 1049.3914970705582 |  None  |\n",
      "|  sqft_lot_sqrt   |  None | 83.22102030762058  |  None  |\n",
      "|      floors      |  None | 16527.63455419933  |  None  |\n",
      "|  floors_square   |  None | 8889.544741448302  |  None  |\n",
      "|    waterfront    |  None | 301854.62419474364 |  None  |\n",
      "+------------------+-------+--------------------+--------+\n",
      "[? rows x 4 columns]\n",
      "Note: Only the head of the SFrame is printed. This SFrame is lazily evaluated.\n",
      "You can use sf.materialize() to force materialization.,\n",
      " 1128837891.6846883: Columns:\n",
      "\tname\tstr\n",
      "\tindex\tstr\n",
      "\tvalue\tfloat\n",
      "\tstderr\tfloat\n",
      "\n",
      "Rows: Unknown\n",
      "\n",
      "Data:\n",
      "+------------------+-------+--------------------+--------+\n",
      "|       name       | index |       value        | stderr |\n",
      "+------------------+-------+--------------------+--------+\n",
      "|   (intercept)    |  None | 87298.82687014868  |  None  |\n",
      "|     bedrooms     |  None | 6137.401551604689  |  None  |\n",
      "|    bathrooms     |  None | 23168.695374513893 |  None  |\n",
      "|   sqft_living    |  None | 37.88852418834703  |  None  |\n",
      "| sqft_living_sqrt |  None | 1026.7097000497113 |  None  |\n",
      "|  sqft_lot_sqrt   |  None | 60.071989298528294 |  None  |\n",
      "|      floors      |  None | 15213.029269733372 |  None  |\n",
      "|  floors_square   |  None | 7778.835489769337  |  None  |\n",
      "|    waterfront    |  None | 217190.0424222337  |  None  |\n",
      "|       view       |  None | 66808.74385559114  |  None  |\n",
      "+------------------+-------+--------------------+--------+\n",
      "[? rows x 4 columns]\n",
      "Note: Only the head of the SFrame is printed. This SFrame is lazily evaluated.\n",
      "You can use sf.materialize() to force materialization.,\n",
      " 1438449888.2876658: Columns:\n",
      "\tname\tstr\n",
      "\tindex\tstr\n",
      "\tvalue\tfloat\n",
      "\tstderr\tfloat\n",
      "\n",
      "Rows: Unknown\n",
      "\n",
      "Data:\n",
      "+------------------+-------+--------------------+--------+\n",
      "|       name       | index |       value        | stderr |\n",
      "+------------------+-------+--------------------+--------+\n",
      "|   (intercept)    |  None | 105843.79919905169 |  None  |\n",
      "|     bedrooms     |  None | 5589.8539291651405 |  None  |\n",
      "|    bathrooms     |  None | 22460.656024265136 |  None  |\n",
      "|   sqft_living    |  None | 37.448455950069544 |  None  |\n",
      "| sqft_living_sqrt |  None | 995.1398163295396  |  None  |\n",
      "|  sqft_lot_sqrt   |  None | 29.061526012483803 |  None  |\n",
      "|      floors      |  None | 13469.24893968186  |  None  |\n",
      "|  floors_square   |  None | 6335.0368378583435 |  None  |\n",
      "|    waterfront    |  None | 108231.29315365701 |  None  |\n",
      "|       view       |  None | 59040.05315299387  |  None  |\n",
      "+------------------+-------+--------------------+--------+\n",
      "[? rows x 4 columns]\n",
      "Note: Only the head of the SFrame is printed. This SFrame is lazily evaluated.\n",
      "You can use sf.materialize() to force materialization.,\n",
      " 1832980710.8324375: Columns:\n",
      "\tname\tstr\n",
      "\tindex\tstr\n",
      "\tvalue\tfloat\n",
      "\tstderr\tfloat\n",
      "\n",
      "Rows: Unknown\n",
      "\n",
      "Data:\n",
      "+------------------+-------+--------------------+--------+\n",
      "|       name       | index |       value        | stderr |\n",
      "+------------------+-------+--------------------+--------+\n",
      "|   (intercept)    |  None | 129178.71340674357 |  None  |\n",
      "|     bedrooms     |  None | 4784.470726641938  |  None  |\n",
      "|    bathrooms     |  None | 21417.822563601363 |  None  |\n",
      "|   sqft_living    |  None | 36.746069997134484 |  None  |\n",
      "| sqft_living_sqrt |  None | 947.9643283417952  |  None  |\n",
      "|      floors      |  None | 11067.154014226822 |  None  |\n",
      "|  floors_square   |  None | 4415.509148295549  |  None  |\n",
      "|       view       |  None | 48905.920205259754 |  None  |\n",
      "|    condition     |  None | 1667.8405931194702 |  None  |\n",
      "|      grade       |  None | 4746.515930821464  |  None  |\n",
      "+------------------+-------+--------------------+--------+\n",
      "[? rows x 4 columns]\n",
      "Note: Only the head of the SFrame is printed. This SFrame is lazily evaluated.\n",
      "You can use sf.materialize() to force materialization.,\n",
      " 2335721469.0901213: Columns:\n",
      "\tname\tstr\n",
      "\tindex\tstr\n",
      "\tvalue\tfloat\n",
      "\tstderr\tfloat\n",
      "\n",
      "Rows: Unknown\n",
      "\n",
      "Data:\n",
      "+------------------+-------+--------------------+--------+\n",
      "|       name       | index |       value        | stderr |\n",
      "+------------------+-------+--------------------+--------+\n",
      "|   (intercept)    |  None | 158796.20013042132 |  None  |\n",
      "|     bedrooms     |  None | 3707.1394685152213 |  None  |\n",
      "|    bathrooms     |  None | 19985.997946387437 |  None  |\n",
      "|   sqft_living    |  None | 35.697398464866126 |  None  |\n",
      "| sqft_living_sqrt |  None | 882.7889040781248  |  None  |\n",
      "|      floors      |  None | 7920.125105886052  |  None  |\n",
      "|  floors_square   |  None | 1926.930626071766  |  None  |\n",
      "|       view       |  None | 32825.30208751896  |  None  |\n",
      "|    condition     |  None | 150.01410090453535 |  None  |\n",
      "|      grade       |  None |  4258.66301896444  |  None  |\n",
      "+------------------+-------+--------------------+--------+\n",
      "[? rows x 4 columns]\n",
      "Note: Only the head of the SFrame is printed. This SFrame is lazily evaluated.\n",
      "You can use sf.materialize() to force materialization.,\n",
      " 2976351441.6313133: Columns:\n",
      "\tname\tstr\n",
      "\tindex\tstr\n",
      "\tvalue\tfloat\n",
      "\tstderr\tfloat\n",
      "\n",
      "Rows: Unknown\n",
      "\n",
      "Data:\n",
      "+------------------+-------+--------------------+--------+\n",
      "|       name       | index |       value        | stderr |\n",
      "+------------------+-------+--------------------+--------+\n",
      "|   (intercept)    |  None | 196100.93696050817 |  None  |\n",
      "|     bedrooms     |  None | 2181.574140627915  |  None  |\n",
      "|    bathrooms     |  None | 17962.696740340496 |  None  |\n",
      "|   sqft_living    |  None |  34.1424662168382  |  None  |\n",
      "| sqft_living_sqrt |  None | 789.3197888302575  |  None  |\n",
      "|      floors      |  None | 3665.930642984509  |  None  |\n",
      "|       view       |  None | 11333.845223950066 |  None  |\n",
      "|      grade       |  None | 3578.9003879531624 |  None  |\n",
      "|    sqft_above    |  None | 32.74320202780431  |  None  |\n",
      "|  sqft_basement   |  None | 12.795382487525364 |  None  |\n",
      "+------------------+-------+--------------------+--------+\n",
      "[? rows x 4 columns]\n",
      "Note: Only the head of the SFrame is printed. This SFrame is lazily evaluated.\n",
      "You can use sf.materialize() to force materialization.,\n",
      " 3792690190.7322536: Columns:\n",
      "\tname\tstr\n",
      "\tindex\tstr\n",
      "\tvalue\tfloat\n",
      "\tstderr\tfloat\n",
      "\n",
      "Rows: Unknown\n",
      "\n",
      "Data:\n",
      "+------------------+-------+--------------------+--------+\n",
      "|       name       | index |       value        | stderr |\n",
      "+------------------+-------+--------------------+--------+\n",
      "|   (intercept)    |  None | 240309.7585683489  |  None  |\n",
      "|    bathrooms     |  None | 13840.640115575143 |  None  |\n",
      "|   sqft_living    |  None | 30.558359509071266 |  None  |\n",
      "| sqft_living_sqrt |  None | 592.1994728390357  |  None  |\n",
      "|      grade       |  None | 2265.120532181479  |  None  |\n",
      "|    sqft_above    |  None | 27.487873397481497 |  None  |\n",
      "+------------------+-------+--------------------+--------+\n",
      "[? rows x 4 columns]\n",
      "Note: Only the head of the SFrame is printed. This SFrame is lazily evaluated.\n",
      "You can use sf.materialize() to force materialization.,\n",
      " 4832930238.571753: Columns:\n",
      "\tname\tstr\n",
      "\tindex\tstr\n",
      "\tvalue\tfloat\n",
      "\tstderr\tfloat\n",
      "\n",
      "Rows: Unknown\n",
      "\n",
      "Data:\n",
      "+------------------+-------+--------------------+--------+\n",
      "|       name       | index |       value        | stderr |\n",
      "+------------------+-------+--------------------+--------+\n",
      "|   (intercept)    |  None | 291783.6771644768  |  None  |\n",
      "|    bathrooms     |  None | 6104.3258805712185 |  None  |\n",
      "|   sqft_living    |  None | 23.170124959864328 |  None  |\n",
      "| sqft_living_sqrt |  None | 215.0309357435594  |  None  |\n",
      "|    sqft_above    |  None | 18.407474697215868 |  None  |\n",
      "+------------------+-------+--------------------+--------+\n",
      "[? rows x 4 columns]\n",
      "Note: Only the head of the SFrame is printed. This SFrame is lazily evaluated.\n",
      "You can use sf.materialize() to force materialization.,\n",
      " 6158482110.6602545: Columns:\n",
      "\tname\tstr\n",
      "\tindex\tstr\n",
      "\tvalue\tfloat\n",
      "\tstderr\tfloat\n",
      "\n",
      "Rows: Unknown\n",
      "\n",
      "Data:\n",
      "+-------------+-------+--------------------+--------+\n",
      "|     name    | index |       value        | stderr |\n",
      "+-------------+-------+--------------------+--------+\n",
      "| (intercept) |  None | 352383.2194909537  |  None  |\n",
      "| sqft_living |  None | 11.508826451906332 |  None  |\n",
      "|  sqft_above |  None | 4.663435723301556  |  None  |\n",
      "+-------------+-------+--------------------+--------+\n",
      "[? rows x 4 columns]\n",
      "Note: Only the head of the SFrame is printed. This SFrame is lazily evaluated.\n",
      "You can use sf.materialize() to force materialization.,\n",
      " 7847599703.514623: Columns:\n",
      "\tname\tstr\n",
      "\tindex\tstr\n",
      "\tvalue\tfloat\n",
      "\tstderr\tfloat\n",
      "\n",
      "Rows: Unknown\n",
      "\n",
      "Data:\n",
      "+-------------+-------+-------------------+--------+\n",
      "|     name    | index |       value       | stderr |\n",
      "+-------------+-------+-------------------+--------+\n",
      "| (intercept) |  None | 507987.9630375925 |  None  |\n",
      "+-------------+-------+-------------------+--------+\n",
      "[? rows x 4 columns]\n",
      "Note: Only the head of the SFrame is printed. This SFrame is lazily evaluated.\n",
      "You can use sf.materialize() to force materialization.,\n",
      " 10000000000.0: Columns:\n",
      "\tname\tstr\n",
      "\tindex\tstr\n",
      "\tvalue\tfloat\n",
      "\tstderr\tfloat\n",
      "\n",
      "Rows: Unknown\n",
      "\n",
      "Data:\n",
      "+-------------+-------+-------------------+--------+\n",
      "|     name    | index |       value       | stderr |\n",
      "+-------------+-------+-------------------+--------+\n",
      "| (intercept) |  None | 564482.1378479361 |  None  |\n",
      "+-------------+-------+-------------------+--------+\n",
      "[? rows x 4 columns]\n",
      "Note: Only the head of the SFrame is printed. This SFrame is lazily evaluated.\n",
      "You can use sf.materialize() to force materialization.}\n"
     ]
    }
   ],
   "source": [
    "pprint.pprint(coef_dict)"
   ]
  },
  {
   "cell_type": "markdown",
   "metadata": {},
   "source": [
    "Out of this large range, we want to find the two ends of our desired narrow range of `l1_penalty`.  At one end, we will have `l1_penalty` values that have too few non-zeros, and at the other end, we will have an `l1_penalty` that has too many non-zeros.  \n",
    "\n",
    "More formally, find:\n",
    "* The largest `l1_penalty` that has more non-zeros than `max_nonzero` (if we pick a penalty smaller than this value, we will definitely have too many non-zero weights)\n",
    "    * Store this value in the variable `l1_penalty_min` (we will use it later)\n",
    "* The smallest `l1_penalty` that has fewer non-zeros than `max_nonzero` (if we pick a penalty larger than this value, we will definitely have too few non-zero weights)\n",
    "    * Store this value in the variable `l1_penalty_max` (we will use it later)\n",
    "\n",
    "\n",
    "*Hint: there are many ways to do this, e.g.:*\n",
    "* Programmatically within the loop above\n",
    "* Creating a list with the number of non-zeros for each value of `l1_penalty` and inspecting it to find the appropriate boundaries."
   ]
  },
  {
   "cell_type": "code",
   "execution_count": 65,
   "metadata": {},
   "outputs": [],
   "source": [
    "l1_penalty_min = 2976351441.6313128\n",
    "l1_penalty_max = 3792690190.7322536"
   ]
  },
  {
   "cell_type": "markdown",
   "metadata": {},
   "source": [
    "***QUIZ QUESTIONS***\n",
    "\n",
    "What values did you find for `l1_penalty_min` and`l1_penalty_max`? "
   ]
  },
  {
   "cell_type": "markdown",
   "metadata": {},
   "source": [
    "## Exploring the narrow range of values to find the solution with the right number of non-zeros that has lowest RSS on the validation set \n",
    "\n",
    "We will now explore the narrow region of `l1_penalty` values we found:"
   ]
  },
  {
   "cell_type": "code",
   "execution_count": 66,
   "metadata": {},
   "outputs": [],
   "source": [
    "l1_penalty_values = np.linspace(l1_penalty_min,l1_penalty_max,20)"
   ]
  },
  {
   "cell_type": "markdown",
   "metadata": {},
   "source": [
    "* For `l1_penalty` in `np.linspace(l1_penalty_min,l1_penalty_max,20)`:\n",
    "    * Fit a regression model with a given `l1_penalty` on TRAIN data. Specify `l1_penalty=l1_penalty` and `l2_penalty=0.` in the parameter list. When you call `linear_regression.create()` make sure you set `validation_set = None`\n",
    "    * Measure the RSS of the learned model on the VALIDATION set\n",
    "\n",
    "Find the model that the lowest RSS on the VALIDATION set and has sparsity *equal* to `max_nonzero`."
   ]
  },
  {
   "cell_type": "code",
   "execution_count": 74,
   "metadata": {},
   "outputs": [],
   "source": [
    "validation_rss = {}\n",
    "for l1_penalty in l1_penalty_values:\n",
    "    model = turicreate.linear_regression.create(training, target='price', features=all_features,\n",
    "                                              validation_set=None, verbose = False,\n",
    "                                              l2_penalty=0., l1_penalty=l1_penalty)\n",
    "    predictions = model.predict(validation)\n",
    "    residuals = validation['price'] - predictions\n",
    "    rss = sum(residuals**2)\n",
    "    model_coef = model.coefficients\n",
    "    model_coef = model_coef['value']\n",
    "    validation_rss[l1_penalty] = rss, model_coef\n",
    "    "
   ]
  },
  {
   "cell_type": "markdown",
   "metadata": {},
   "source": [
    "***QUIZ QUESTIONS***\n",
    "1. What value of `l1_penalty` in our narrow range has the lowest RSS on the VALIDATION set and has sparsity *equal* to `max_nonzeros`?\n",
    "2. What features in this model have non-zero coefficients?"
   ]
  },
  {
   "cell_type": "code",
   "execution_count": 95,
   "metadata": {},
   "outputs": [],
   "source": [
    "model = turicreate.linear_regression.create(training, target='price', features=all_features,\n",
    "                                              validation_set=None, verbose = False,\n",
    "                                              l2_penalty=0., l1_penalty=3448968612.16)"
   ]
  },
  {
   "cell_type": "code",
   "execution_count": 99,
   "metadata": {},
   "outputs": [
    {
     "name": "stdout",
     "output_type": "stream",
     "text": [
      "+------------------+-------+--------------------+--------+\n",
      "|       name       | index |       value        | stderr |\n",
      "+------------------+-------+--------------------+--------+\n",
      "|   (intercept)    |  None | 222253.19177946472 |  None  |\n",
      "|     bedrooms     |  None | 661.7225625501316  |  None  |\n",
      "|    bathrooms     |  None | 15873.957390454756 |  None  |\n",
      "|   sqft_living    |  None | 32.41022208406935  |  None  |\n",
      "| sqft_living_sqrt |  None | 690.1147756379333  |  None  |\n",
      "|      grade       |  None | 2899.420271124415  |  None  |\n",
      "|    sqft_above    |  None | 30.011576020981668 |  None  |\n",
      "+------------------+-------+--------------------+--------+\n",
      "[7 rows x 4 columns]\n",
      "\n"
     ]
    }
   ],
   "source": [
    "non_zero_weight_test = model.coefficients\n",
    "non_zero_weight_test = non_zero_weight_test[non_zero_weight_test['value'] > 0]\n",
    "non_zero_weight_test.print_rows(num_rows=8)"
   ]
  }
 ],
 "metadata": {
  "kernelspec": {
   "display_name": "Python 3",
   "language": "python",
   "name": "python3"
  },
  "language_info": {
   "codemirror_mode": {
    "name": "ipython",
    "version": 3
   },
   "file_extension": ".py",
   "mimetype": "text/x-python",
   "name": "python",
   "nbconvert_exporter": "python",
   "pygments_lexer": "ipython3",
   "version": "3.6.9"
  }
 },
 "nbformat": 4,
 "nbformat_minor": 1
}
