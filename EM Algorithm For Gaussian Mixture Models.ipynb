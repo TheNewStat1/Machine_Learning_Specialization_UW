{
 "cells": [
  {
   "cell_type": "markdown",
   "metadata": {},
   "source": [
    "# Fitting Gaussian Mixture Models with EM Algorithm\n",
    "\n",
    "Goals\n",
    "* implement the (Expectation Maximization) EM algorithm for a Gaussian mixture model\n",
    "* apply your implementation to cluster images\n",
    "* explore clustering results and interpret the output of the EM algorithm  "
   ]
  },
  {
   "cell_type": "code",
   "execution_count": 218,
   "metadata": {
    "scrolled": true
   },
   "outputs": [],
   "source": [
    "## Import necessary packages\n",
    "import pandas as pd\n",
    "import numpy as np\n",
    "import matplotlib.pyplot as plt \n",
    "\n",
    "\n",
    "\n",
    "from sklearn.mixture import GaussianMixture\n",
    "\n",
    "from sklearn.feature_extraction.text import CountVectorizer\n",
    "from sklearn.preprocessing import normalize\n",
    "from scipy.stats import multivariate_normal"
   ]
  },
  {
   "cell_type": "code",
   "execution_count": 219,
   "metadata": {},
   "outputs": [],
   "source": [
    "## Implementing the EM algorithm for Gaussian mixture models\n",
    "def generate_MoG_data(num_data, means, covariances, weights):\n",
    "    \"\"\" Creates a list of data points \"\"\"\n",
    "    num_clusters = len(weights)\n",
    "    data = []\n",
    "    for i in range(num_data):\n",
    "        #  Use np.random.choice and weights to pick a cluster id greater than or equal to 0 and less than num_clusters.\n",
    "        k = np.random.choice(len(weights), 1, p=weights)[0]\n",
    "\n",
    "        # Use np.random.multivariate_normal to create data from this cluster\n",
    "        x = np.random.multivariate_normal(means[k], covariances[k])\n",
    "\n",
    "        data.append(x)\n",
    "    return data"
   ]
  },
  {
   "cell_type": "markdown",
   "metadata": {},
   "source": [
    "After specifying a particular set of clusters (so that the results are reproducible across assignments), we use the above function to generate a dataset."
   ]
  },
  {
   "cell_type": "code",
   "execution_count": 220,
   "metadata": {},
   "outputs": [],
   "source": [
    "# Model parameters\n",
    "init_means = [\n",
    "    [5, 0], # mean of cluster 1\n",
    "    [1, 1], # mean of cluster 2\n",
    "    [0, 5]  # mean of cluster 3\n",
    "]\n",
    "init_covariances = [\n",
    "    [[.5, 0.], [0, .5]], # covariance of cluster 1\n",
    "    [[.92, .38], [.38, .91]], # covariance of cluster 2\n",
    "    [[.5, 0.], [0, .5]]  # covariance of cluster 3\n",
    "]\n",
    "init_weights = [1/4., 1/2., 1/4.]  # weights of each cluster\n",
    "\n",
    "# Generate data\n",
    "np.random.seed(4)\n",
    "data = generate_MoG_data(100, init_means, init_covariances, init_weights)"
   ]
  },
  {
   "cell_type": "markdown",
   "metadata": {},
   "source": [
    "Now plot the data you created above. The plot should be a scatterplot with 100 points that appear to roughly fall into three clusters."
   ]
  },
  {
   "cell_type": "code",
   "execution_count": 221,
   "metadata": {},
   "outputs": [
    {
     "data": {
      "image/png": "[encoded data removed]",
      "text/plain": [
       "<Figure size 432x288 with 1 Axes>"
      ]
     },
     "metadata": {
      "needs_background": "light"
     },
     "output_type": "display_data"
    }
   ],
   "source": [
    "plt.figure()\n",
    "d = np.vstack(data)\n",
    "plt.plot(d[:,0], d[:,1],'ko')\n",
    "plt.rcParams.update({'font.size':16})\n",
    "plt.tight_layout()"
   ]
  },
  {
   "cell_type": "markdown",
   "metadata": {},
   "source": [
    "Now time to bring in some actual data. "
   ]
  },
  {
   "cell_type": "code",
   "execution_count": 222,
   "metadata": {},
   "outputs": [],
   "source": [
    "# Now lets bring in outside data \n",
    "amazon = pd.read_csv(\"amazon_baby.csv\")"
   ]
  },
  {
   "cell_type": "code",
   "execution_count": 223,
   "metadata": {},
   "outputs": [],
   "source": [
    "# Remove missing values\n",
    "amazon = amazon.dropna()"
   ]
  },
  {
   "cell_type": "code",
   "execution_count": 224,
   "metadata": {},
   "outputs": [],
   "source": [
    "review = amazon['review']"
   ]
  },
  {
   "cell_type": "code",
   "execution_count": 225,
   "metadata": {},
   "outputs": [],
   "source": [
    "# Create Count Vectorizer\n",
    "\n",
    "## Create Vectorizer object\n",
    "vectorizer = CountVectorizer()\n",
    "\n",
    "# create vector and convert it into a Matrix\n",
    "feature_obj = vectorizer.fit_transform(review)\n",
    "review_matrix = feature_obj.toarray()\n",
    "\n",
    "# create word feature matrix\n",
    "review_matrix = normalize(review_matrix)\n",
    "review_features = pd.DataFrame(review_matrix, columns = vectorizer.get_feature_names())"
   ]
  },
  {
   "cell_type": "code",
   "execution_count": 226,
   "metadata": {},
   "outputs": [],
   "source": [
    "# Code used to create a smaller sample review martix for model building efficieny\n",
    "np.random.seed(1)\n",
    "random_columns = np.random.sample(len(review_features.columns))\n",
    "columns_random = np.array([np.array(review_features.columns), random_columns])\n",
    "select_vars = columns_random[1] <= 0.02\n",
    "keep_vars = columns_random[0][select_vars]\n",
    "\n",
    "sample_review_features = review_features[keep_vars]"
   ]
  },
  {
   "cell_type": "code",
   "execution_count": 227,
   "metadata": {},
   "outputs": [
    {
     "name": "stdout",
     "output_type": "stream",
     "text": [
      "Initialization 0\n",
      "  Iteration 10\n",
      "Initialization converged: True\n"
     ]
    }
   ],
   "source": [
    "# Now we Create a Gaussian Mixture Model and evaluate the results for product popularity\n",
    "guassian_mixture_model = GaussianMixture(n_components=2, max_iter=20, verbose = 1, init_params ='random')\n",
    "amazon_review_mixture_model = guassian_mixture_model.fit(sample_review_features)"
   ]
  },
  {
   "cell_type": "code",
   "execution_count": 228,
   "metadata": {},
   "outputs": [],
   "source": [
    "# Create a prediction for popularity\n",
    "predicted_comp = amazon_review_mixture_model.predict(sample_review_features)\n",
    "amazon['predicted_comp'] = predicted_comp"
   ]
  },
  {
   "cell_type": "code",
   "execution_count": 229,
   "metadata": {},
   "outputs": [
    {
     "data": {
      "text/html": [
       "<div>\n",
       "<style scoped>\n",
       "    .dataframe tbody tr th:only-of-type {\n",
       "        vertical-align: middle;\n",
       "    }\n",
       "\n",
       "    .dataframe tbody tr th {\n",
       "        vertical-align: top;\n",
       "    }\n",
       "\n",
       "    .dataframe thead th {\n",
       "        text-align: right;\n",
       "    }\n",
       "</style>\n",
       "<table border=\"1\" class=\"dataframe\">\n",
       "  <thead>\n",
       "    <tr style=\"text-align: right;\">\n",
       "      <th></th>\n",
       "      <th>name</th>\n",
       "      <th>review</th>\n",
       "      <th>rating</th>\n",
       "      <th>predicted_comp</th>\n",
       "    </tr>\n",
       "  </thead>\n",
       "  <tbody>\n",
       "    <tr>\n",
       "      <th>14866</th>\n",
       "      <td>Spongebob Squarepants Cuddle Pillow</td>\n",
       "      <td>My son said give it 5 stars so thats all that ...</td>\n",
       "      <td>5</td>\n",
       "      <td>1</td>\n",
       "    </tr>\n",
       "    <tr>\n",
       "      <th>14867</th>\n",
       "      <td>Spongebob Squarepants Cuddle Pillow</td>\n",
       "      <td>This is fairly big and the price is awesome co...</td>\n",
       "      <td>5</td>\n",
       "      <td>1</td>\n",
       "    </tr>\n",
       "    <tr>\n",
       "      <th>14868</th>\n",
       "      <td>Spongebob Squarepants Cuddle Pillow</td>\n",
       "      <td>This was a great purchase for my 2 year old ni...</td>\n",
       "      <td>5</td>\n",
       "      <td>1</td>\n",
       "    </tr>\n",
       "    <tr>\n",
       "      <th>14869</th>\n",
       "      <td>Spongebob Squarepants Cuddle Pillow</td>\n",
       "      <td>Most of the reviews I read before buying the p...</td>\n",
       "      <td>5</td>\n",
       "      <td>1</td>\n",
       "    </tr>\n",
       "    <tr>\n",
       "      <th>14870</th>\n",
       "      <td>Spongebob Squarepants Cuddle Pillow</td>\n",
       "      <td>This Spongebob pillow is awesome.  It's very l...</td>\n",
       "      <td>5</td>\n",
       "      <td>1</td>\n",
       "    </tr>\n",
       "  </tbody>\n",
       "</table>\n",
       "</div>"
      ],
      "text/plain": [
       "                                      name  \\\n",
       "14866  Spongebob Squarepants Cuddle Pillow   \n",
       "14867  Spongebob Squarepants Cuddle Pillow   \n",
       "14868  Spongebob Squarepants Cuddle Pillow   \n",
       "14869  Spongebob Squarepants Cuddle Pillow   \n",
       "14870  Spongebob Squarepants Cuddle Pillow   \n",
       "\n",
       "                                                  review  rating  \\\n",
       "14866  My son said give it 5 stars so thats all that ...       5   \n",
       "14867  This is fairly big and the price is awesome co...       5   \n",
       "14868  This was a great purchase for my 2 year old ni...       5   \n",
       "14869  Most of the reviews I read before buying the p...       5   \n",
       "14870  This Spongebob pillow is awesome.  It's very l...       5   \n",
       "\n",
       "       predicted_comp  \n",
       "14866               1  \n",
       "14867               1  \n",
       "14868               1  \n",
       "14869               1  \n",
       "14870               1  "
      ]
     },
     "execution_count": 229,
     "metadata": {},
     "output_type": "execute_result"
    }
   ],
   "source": [
    "# lets see how the model did on a popular item\n",
    "amazon.loc[amazon['name'] == 'Spongebob Squarepants Cuddle Pillow']"
   ]
  },
  {
   "cell_type": "code",
   "execution_count": 230,
   "metadata": {},
   "outputs": [
    {
     "data": {
      "text/html": [
       "<div>\n",
       "<style scoped>\n",
       "    .dataframe tbody tr th:only-of-type {\n",
       "        vertical-align: middle;\n",
       "    }\n",
       "\n",
       "    .dataframe tbody tr th {\n",
       "        vertical-align: top;\n",
       "    }\n",
       "\n",
       "    .dataframe thead th {\n",
       "        text-align: right;\n",
       "    }\n",
       "</style>\n",
       "<table border=\"1\" class=\"dataframe\">\n",
       "  <thead>\n",
       "    <tr style=\"text-align: right;\">\n",
       "      <th></th>\n",
       "      <th>name</th>\n",
       "      <th>review</th>\n",
       "      <th>rating</th>\n",
       "      <th>predicted_comp</th>\n",
       "    </tr>\n",
       "  </thead>\n",
       "  <tbody>\n",
       "    <tr>\n",
       "      <th>11738</th>\n",
       "      <td>American Red Cross - Rapid Read Ear Thermometer</td>\n",
       "      <td>Got this thermometer as a baby gift. Worked we...</td>\n",
       "      <td>1</td>\n",
       "      <td>1</td>\n",
       "    </tr>\n",
       "    <tr>\n",
       "      <th>11739</th>\n",
       "      <td>American Red Cross - Rapid Read Ear Thermometer</td>\n",
       "      <td>My first baby is just 4 months old and has bee...</td>\n",
       "      <td>1</td>\n",
       "      <td>0</td>\n",
       "    </tr>\n",
       "  </tbody>\n",
       "</table>\n",
       "</div>"
      ],
      "text/plain": [
       "                                                  name  \\\n",
       "11738  American Red Cross - Rapid Read Ear Thermometer   \n",
       "11739  American Red Cross - Rapid Read Ear Thermometer   \n",
       "\n",
       "                                                  review  rating  \\\n",
       "11738  Got this thermometer as a baby gift. Worked we...       1   \n",
       "11739  My first baby is just 4 months old and has bee...       1   \n",
       "\n",
       "       predicted_comp  \n",
       "11738               1  \n",
       "11739               0  "
      ]
     },
     "execution_count": 230,
     "metadata": {},
     "output_type": "execute_result"
    }
   ],
   "source": [
    "# what about a non popular item\n",
    "not_popular = amazon.loc[amazon['name'] == 'American Red Cross - Rapid Read Ear Thermometer']\n",
    "not_popular"
   ]
  },
  {
   "cell_type": "code",
   "execution_count": null,
   "metadata": {},
   "outputs": [],
   "source": []
  }
 ],
 "metadata": {
  "kernelspec": {
   "display_name": "Python 3",
   "language": "python",
   "name": "python3"
  },
  "language_info": {
   "codemirror_mode": {
    "name": "ipython",
    "version": 3
   },
   "file_extension": ".py",
   "mimetype": "text/x-python",
   "name": "python",
   "nbconvert_exporter": "python",
   "pygments_lexer": "ipython3",
   "version": "3.7.7"
  },
  "toc": {
   "toc_cell": false,
   "toc_number_sections": false,
   "toc_threshold": "8",
   "toc_window_display": false
  }
 },
 "nbformat": 4,
 "nbformat_minor": 1
}
