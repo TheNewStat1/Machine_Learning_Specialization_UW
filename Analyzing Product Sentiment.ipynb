{
 "cells": [
  {
   "cell_type": "code",
   "execution_count": 41,
   "metadata": {},
   "outputs": [],
   "source": [
    "# Import Required Data Science Packages\n",
    "import pandas as pd\n",
    "import numpy as np\n",
    "from sklearn.linear_model import LogisticRegression\n",
    "from sklearn.feature_extraction.text import CountVectorizer\n",
    "from sklearn.model_selection import train_test_split\n",
    "from sklearn.metrics import classification_report, plot_roc_curve\n",
    "\n",
    "import warnings\n",
    "#warnings.filterwarnings(\"ignore\")"
   ]
  },
  {
   "cell_type": "code",
   "execution_count": 2,
   "metadata": {},
   "outputs": [],
   "source": [
    "# Upload the dataset\n",
    "products = pd.read_csv('amazon_baby.csv').fillna('')"
   ]
  },
  {
   "cell_type": "code",
   "execution_count": 3,
   "metadata": {},
   "outputs": [
    {
     "data": {
      "text/html": [
       "<div>\n",
       "<style scoped>\n",
       "    .dataframe tbody tr th:only-of-type {\n",
       "        vertical-align: middle;\n",
       "    }\n",
       "\n",
       "    .dataframe tbody tr th {\n",
       "        vertical-align: top;\n",
       "    }\n",
       "\n",
       "    .dataframe thead th {\n",
       "        text-align: right;\n",
       "    }\n",
       "</style>\n",
       "<table border=\"1\" class=\"dataframe\">\n",
       "  <thead>\n",
       "    <tr style=\"text-align: right;\">\n",
       "      <th></th>\n",
       "      <th>name</th>\n",
       "      <th>review</th>\n",
       "      <th>rating</th>\n",
       "    </tr>\n",
       "  </thead>\n",
       "  <tbody>\n",
       "    <tr>\n",
       "      <th>0</th>\n",
       "      <td>Pigeon Baby Nose Cleaning Tweezers Pigeon (Mad...</td>\n",
       "      <td>This is a safe product used to clean the airwa...</td>\n",
       "      <td>4</td>\n",
       "    </tr>\n",
       "    <tr>\n",
       "      <th>1</th>\n",
       "      <td>Pigeon Baby Nose Cleaning Tweezers Pigeon (Mad...</td>\n",
       "      <td>I purchased this item after reading rave revie...</td>\n",
       "      <td>4</td>\n",
       "    </tr>\n",
       "    <tr>\n",
       "      <th>2</th>\n",
       "      <td>Pigeon Baby Nose Cleaning Tweezers Pigeon (Mad...</td>\n",
       "      <td>Honestly, this product is not worth the $7.45 ...</td>\n",
       "      <td>1</td>\n",
       "    </tr>\n",
       "    <tr>\n",
       "      <th>3</th>\n",
       "      <td>Pigeon Baby Nose Cleaning Tweezers Pigeon (Mad...</td>\n",
       "      <td>My wife has a nightly ritual of cleaning my da...</td>\n",
       "      <td>4</td>\n",
       "    </tr>\n",
       "    <tr>\n",
       "      <th>4</th>\n",
       "      <td>Pigeon Baby Nose Cleaning Tweezers Pigeon (Mad...</td>\n",
       "      <td>Very useful tool. Highly recommand it! I am us...</td>\n",
       "      <td>5</td>\n",
       "    </tr>\n",
       "  </tbody>\n",
       "</table>\n",
       "</div>"
      ],
      "text/plain": [
       "                                                name  \\\n",
       "0  Pigeon Baby Nose Cleaning Tweezers Pigeon (Mad...   \n",
       "1  Pigeon Baby Nose Cleaning Tweezers Pigeon (Mad...   \n",
       "2  Pigeon Baby Nose Cleaning Tweezers Pigeon (Mad...   \n",
       "3  Pigeon Baby Nose Cleaning Tweezers Pigeon (Mad...   \n",
       "4  Pigeon Baby Nose Cleaning Tweezers Pigeon (Mad...   \n",
       "\n",
       "                                              review  rating  \n",
       "0  This is a safe product used to clean the airwa...       4  \n",
       "1  I purchased this item after reading rave revie...       4  \n",
       "2  Honestly, this product is not worth the $7.45 ...       1  \n",
       "3  My wife has a nightly ritual of cleaning my da...       4  \n",
       "4  Very useful tool. Highly recommand it! I am us...       5  "
      ]
     },
     "execution_count": 3,
     "metadata": {},
     "output_type": "execute_result"
    }
   ],
   "source": [
    "# View Head of the dataset\n",
    "products.head()"
   ]
  },
  {
   "cell_type": "code",
   "execution_count": 4,
   "metadata": {},
   "outputs": [
    {
     "data": {
      "text/html": [
       "<div>\n",
       "<style scoped>\n",
       "    .dataframe tbody tr th:only-of-type {\n",
       "        vertical-align: middle;\n",
       "    }\n",
       "\n",
       "    .dataframe tbody tr th {\n",
       "        vertical-align: top;\n",
       "    }\n",
       "\n",
       "    .dataframe thead th {\n",
       "        text-align: right;\n",
       "    }\n",
       "</style>\n",
       "<table border=\"1\" class=\"dataframe\">\n",
       "  <thead>\n",
       "    <tr style=\"text-align: right;\">\n",
       "      <th></th>\n",
       "      <th>review</th>\n",
       "      <th>rating</th>\n",
       "    </tr>\n",
       "    <tr>\n",
       "      <th>name</th>\n",
       "      <th></th>\n",
       "      <th></th>\n",
       "    </tr>\n",
       "  </thead>\n",
       "  <tbody>\n",
       "    <tr>\n",
       "      <th></th>\n",
       "      <td>36</td>\n",
       "      <td>36</td>\n",
       "    </tr>\n",
       "    <tr>\n",
       "      <th>&amp;quot;The Custodian.&amp;quot; 2.5&amp;quot; Wireless Monitor with 1 Tilt and Pan Camera From Safe Baby. Includes Free Power Pack Valued At $24.95</th>\n",
       "      <td>2</td>\n",
       "      <td>2</td>\n",
       "    </tr>\n",
       "    <tr>\n",
       "      <th>&amp;quot;The Sentinel&amp;quot; 3.5&amp;quot; Portable Two Camera Monitor System From Safe Baby</th>\n",
       "      <td>1</td>\n",
       "      <td>1</td>\n",
       "    </tr>\n",
       "    <tr>\n",
       "      <th>(1) Cresci Products Window Wedge (2 Per Pack) WHITE color</th>\n",
       "      <td>25</td>\n",
       "      <td>25</td>\n",
       "    </tr>\n",
       "    <tr>\n",
       "      <th>100% Lana Organic Red/Saffron Goose, Large - 12&amp;quot;</th>\n",
       "      <td>1</td>\n",
       "      <td>1</td>\n",
       "    </tr>\n",
       "    <tr>\n",
       "      <th>...</th>\n",
       "      <td>...</td>\n",
       "      <td>...</td>\n",
       "    </tr>\n",
       "    <tr>\n",
       "      <th>eeBoo Fairies of the Field Lacing Cards</th>\n",
       "      <td>1</td>\n",
       "      <td>1</td>\n",
       "    </tr>\n",
       "    <tr>\n",
       "      <th>i Play Soft And Snuggly Blanket, Pink</th>\n",
       "      <td>1</td>\n",
       "      <td>1</td>\n",
       "    </tr>\n",
       "    <tr>\n",
       "      <th>iPlay Tan Jungle Chichi Blankie</th>\n",
       "      <td>1</td>\n",
       "      <td>1</td>\n",
       "    </tr>\n",
       "    <tr>\n",
       "      <th>medibag 117 Piece Kid Friendly First Aid Kit for the Whole Family</th>\n",
       "      <td>14</td>\n",
       "      <td>14</td>\n",
       "    </tr>\n",
       "    <tr>\n",
       "      <th>phil&amp;amp;teds Sport 2nd Toddler Seat Attachment - Apple (Green)</th>\n",
       "      <td>1</td>\n",
       "      <td>1</td>\n",
       "    </tr>\n",
       "  </tbody>\n",
       "</table>\n",
       "<p>1799 rows × 2 columns</p>\n",
       "</div>"
      ],
      "text/plain": [
       "                                                    review  rating\n",
       "name                                                              \n",
       "                                                        36      36\n",
       "&quot;The Custodian.&quot; 2.5&quot; Wireless M...       2       2\n",
       "&quot;The Sentinel&quot; 3.5&quot; Portable Two...       1       1\n",
       "(1) Cresci Products Window Wedge (2 Per Pack) W...      25      25\n",
       "100% Lana Organic Red/Saffron Goose, Large - 12...       1       1\n",
       "...                                                    ...     ...\n",
       "eeBoo Fairies of the Field Lacing Cards                  1       1\n",
       "i Play Soft And Snuggly Blanket, Pink                    1       1\n",
       "iPlay Tan Jungle Chichi Blankie                          1       1\n",
       "medibag 117 Piece Kid Friendly First Aid Kit fo...      14      14\n",
       "phil&amp;teds Sport 2nd Toddler Seat Attachment...       1       1\n",
       "\n",
       "[1799 rows x 2 columns]"
      ]
     },
     "execution_count": 4,
     "metadata": {},
     "output_type": "execute_result"
    }
   ],
   "source": [
    "# Calculate number or reviews for each product\n",
    "# The table is also .sort() for most reviewed product\n",
    "products.groupby('name').count()"
   ]
  },
  {
   "cell_type": "code",
   "execution_count": 5,
   "metadata": {},
   "outputs": [],
   "source": [
    "## Explore a specific Product\n",
    "# Filter data for the most review product\n",
    "giraffe_reviews = products[products['name']=='Vulli Sophie the Giraffe Teether']"
   ]
  },
  {
   "cell_type": "code",
   "execution_count": 6,
   "metadata": {},
   "outputs": [
    {
     "data": {
      "text/html": [
       "<div>\n",
       "<style scoped>\n",
       "    .dataframe tbody tr th:only-of-type {\n",
       "        vertical-align: middle;\n",
       "    }\n",
       "\n",
       "    .dataframe tbody tr th {\n",
       "        vertical-align: top;\n",
       "    }\n",
       "\n",
       "    .dataframe thead th {\n",
       "        text-align: right;\n",
       "    }\n",
       "</style>\n",
       "<table border=\"1\" class=\"dataframe\">\n",
       "  <thead>\n",
       "    <tr style=\"text-align: right;\">\n",
       "      <th></th>\n",
       "      <th>name</th>\n",
       "      <th>review</th>\n",
       "      <th>rating</th>\n",
       "    </tr>\n",
       "  </thead>\n",
       "  <tbody>\n",
       "    <tr>\n",
       "      <th>6475</th>\n",
       "      <td>Vulli Sophie the Giraffe Teether</td>\n",
       "      <td>He likes chewing on all the parts especially t...</td>\n",
       "      <td>5</td>\n",
       "    </tr>\n",
       "    <tr>\n",
       "      <th>6476</th>\n",
       "      <td>Vulli Sophie the Giraffe Teether</td>\n",
       "      <td>My son loves this toy and fits great in the di...</td>\n",
       "      <td>5</td>\n",
       "    </tr>\n",
       "    <tr>\n",
       "      <th>6477</th>\n",
       "      <td>Vulli Sophie the Giraffe Teether</td>\n",
       "      <td>There really should be a large warning on the ...</td>\n",
       "      <td>1</td>\n",
       "    </tr>\n",
       "    <tr>\n",
       "      <th>6478</th>\n",
       "      <td>Vulli Sophie the Giraffe Teether</td>\n",
       "      <td>All the moms in my moms' group got Sophie for ...</td>\n",
       "      <td>5</td>\n",
       "    </tr>\n",
       "    <tr>\n",
       "      <th>6479</th>\n",
       "      <td>Vulli Sophie the Giraffe Teether</td>\n",
       "      <td>I was a little skeptical on whether Sophie was...</td>\n",
       "      <td>5</td>\n",
       "    </tr>\n",
       "  </tbody>\n",
       "</table>\n",
       "</div>"
      ],
      "text/plain": [
       "                                  name  \\\n",
       "6475  Vulli Sophie the Giraffe Teether   \n",
       "6476  Vulli Sophie the Giraffe Teether   \n",
       "6477  Vulli Sophie the Giraffe Teether   \n",
       "6478  Vulli Sophie the Giraffe Teether   \n",
       "6479  Vulli Sophie the Giraffe Teether   \n",
       "\n",
       "                                                 review  rating  \n",
       "6475  He likes chewing on all the parts especially t...       5  \n",
       "6476  My son loves this toy and fits great in the di...       5  \n",
       "6477  There really should be a large warning on the ...       1  \n",
       "6478  All the moms in my moms' group got Sophie for ...       5  \n",
       "6479  I was a little skeptical on whether Sophie was...       5  "
      ]
     },
     "execution_count": 6,
     "metadata": {},
     "output_type": "execute_result"
    }
   ],
   "source": [
    "# Print our the head()\n",
    "giraffe_reviews.head()"
   ]
  },
  {
   "cell_type": "code",
   "execution_count": 7,
   "metadata": {},
   "outputs": [
    {
     "data": {
      "text/plain": [
       "774"
      ]
     },
     "execution_count": 7,
     "metadata": {},
     "output_type": "execute_result"
    }
   ],
   "source": [
    "# Get length (number) of the filtered dataset\n",
    "len(giraffe_reviews)"
   ]
  },
  {
   "cell_type": "code",
   "execution_count": 8,
   "metadata": {},
   "outputs": [
    {
     "data": {
      "text/plain": [
       "count    774.000000\n",
       "mean       4.294574\n",
       "std        1.222280\n",
       "min        1.000000\n",
       "25%        4.000000\n",
       "50%        5.000000\n",
       "75%        5.000000\n",
       "max        5.000000\n",
       "Name: rating, dtype: float64"
      ]
     },
     "execution_count": 8,
     "metadata": {},
     "output_type": "execute_result"
    }
   ],
   "source": [
    "# summarize the variable 'rating'\n",
    "giraffe_reviews['rating'].describe()"
   ]
  },
  {
   "cell_type": "code",
   "execution_count": 9,
   "metadata": {},
   "outputs": [],
   "source": [
    "# create filter for products with missing review\n",
    "products = products[(products['review'] != '') | (products['rating'].isna() == False)]\n",
    "# create filter and ignore all 3*  reviews\n",
    "products = products[products['rating']!= 3]"
   ]
  },
  {
   "cell_type": "code",
   "execution_count": 10,
   "metadata": {},
   "outputs": [
    {
     "data": {
      "text/plain": [
       "(13423, 3)"
      ]
     },
     "execution_count": 10,
     "metadata": {},
     "output_type": "execute_result"
    }
   ],
   "source": [
    "products.shape"
   ]
  },
  {
   "cell_type": "code",
   "execution_count": 11,
   "metadata": {},
   "outputs": [],
   "source": [
    "## Building a sentiment classifier and Build word count vectors\n",
    "\n",
    "# Creates vectorized count for the words in the 'review' column\n",
    "Vectorizer = CountVectorizer(analyzer='word')\n",
    "\n",
    "# Create a list of the reviews as a list of character strings\n",
    "records = list()\n",
    "for i in products['review']:\n",
    "    records.append(i)\n",
    "\n",
    "# Apply the transform records to vectorized word count & create an array\n",
    "records_vector = Vectorizer.fit_transform(records)\n",
    "records_data = records_vector.toarray()"
   ]
  },
  {
   "cell_type": "code",
   "execution_count": 12,
   "metadata": {},
   "outputs": [],
   "source": [
    "# Create a data from of word features for each record\n",
    "records_data = pd.DataFrame(records_data, columns = Vectorizer.get_feature_names())"
   ]
  },
  {
   "cell_type": "code",
   "execution_count": 13,
   "metadata": {},
   "outputs": [
    {
     "data": {
      "text/plain": [
       "count    13423.000000\n",
       "mean         4.234076\n",
       "std          1.292855\n",
       "min          1.000000\n",
       "25%          4.000000\n",
       "50%          5.000000\n",
       "75%          5.000000\n",
       "max          5.000000\n",
       "Name: rating, dtype: float64"
      ]
     },
     "execution_count": 13,
     "metadata": {},
     "output_type": "execute_result"
    }
   ],
   "source": [
    "## Define what is positive and negative sentiment (Essential in sentiment analysis)\n",
    "# look at ratings for all products\n",
    "products['rating'].describe()"
   ]
  },
  {
   "cell_type": "code",
   "execution_count": 14,
   "metadata": {},
   "outputs": [],
   "source": [
    "#positive sentiment = 4-star or 5-star reviews\n",
    "# Create sentiment column with 1 and 0 for criteria specificed\n",
    "products['sentiment'] = products['rating'] >= 4"
   ]
  },
  {
   "cell_type": "code",
   "execution_count": 15,
   "metadata": {},
   "outputs": [
    {
     "data": {
      "text/html": [
       "<div>\n",
       "<style scoped>\n",
       "    .dataframe tbody tr th:only-of-type {\n",
       "        vertical-align: middle;\n",
       "    }\n",
       "\n",
       "    .dataframe tbody tr th {\n",
       "        vertical-align: top;\n",
       "    }\n",
       "\n",
       "    .dataframe thead th {\n",
       "        text-align: right;\n",
       "    }\n",
       "</style>\n",
       "<table border=\"1\" class=\"dataframe\">\n",
       "  <thead>\n",
       "    <tr style=\"text-align: right;\">\n",
       "      <th></th>\n",
       "      <th>name</th>\n",
       "      <th>review</th>\n",
       "      <th>rating</th>\n",
       "      <th>sentiment</th>\n",
       "    </tr>\n",
       "  </thead>\n",
       "  <tbody>\n",
       "    <tr>\n",
       "      <th>0</th>\n",
       "      <td>Pigeon Baby Nose Cleaning Tweezers Pigeon (Mad...</td>\n",
       "      <td>This is a safe product used to clean the airwa...</td>\n",
       "      <td>4</td>\n",
       "      <td>True</td>\n",
       "    </tr>\n",
       "    <tr>\n",
       "      <th>1</th>\n",
       "      <td>Pigeon Baby Nose Cleaning Tweezers Pigeon (Mad...</td>\n",
       "      <td>I purchased this item after reading rave revie...</td>\n",
       "      <td>4</td>\n",
       "      <td>True</td>\n",
       "    </tr>\n",
       "    <tr>\n",
       "      <th>2</th>\n",
       "      <td>Pigeon Baby Nose Cleaning Tweezers Pigeon (Mad...</td>\n",
       "      <td>Honestly, this product is not worth the $7.45 ...</td>\n",
       "      <td>1</td>\n",
       "      <td>False</td>\n",
       "    </tr>\n",
       "    <tr>\n",
       "      <th>3</th>\n",
       "      <td>Pigeon Baby Nose Cleaning Tweezers Pigeon (Mad...</td>\n",
       "      <td>My wife has a nightly ritual of cleaning my da...</td>\n",
       "      <td>4</td>\n",
       "      <td>True</td>\n",
       "    </tr>\n",
       "    <tr>\n",
       "      <th>4</th>\n",
       "      <td>Pigeon Baby Nose Cleaning Tweezers Pigeon (Mad...</td>\n",
       "      <td>Very useful tool. Highly recommand it! I am us...</td>\n",
       "      <td>5</td>\n",
       "      <td>True</td>\n",
       "    </tr>\n",
       "    <tr>\n",
       "      <th>...</th>\n",
       "      <td>...</td>\n",
       "      <td>...</td>\n",
       "      <td>...</td>\n",
       "      <td>...</td>\n",
       "    </tr>\n",
       "    <tr>\n",
       "      <th>14866</th>\n",
       "      <td>Spongebob Squarepants Cuddle Pillow</td>\n",
       "      <td>My son said give it 5 stars so thats all that ...</td>\n",
       "      <td>5</td>\n",
       "      <td>True</td>\n",
       "    </tr>\n",
       "    <tr>\n",
       "      <th>14867</th>\n",
       "      <td>Spongebob Squarepants Cuddle Pillow</td>\n",
       "      <td>This is fairly big and the price is awesome co...</td>\n",
       "      <td>5</td>\n",
       "      <td>True</td>\n",
       "    </tr>\n",
       "    <tr>\n",
       "      <th>14868</th>\n",
       "      <td>Spongebob Squarepants Cuddle Pillow</td>\n",
       "      <td>This was a great purchase for my 2 year old ni...</td>\n",
       "      <td>5</td>\n",
       "      <td>True</td>\n",
       "    </tr>\n",
       "    <tr>\n",
       "      <th>14869</th>\n",
       "      <td>Spongebob Squarepants Cuddle Pillow</td>\n",
       "      <td>Most of the reviews I read before buying the p...</td>\n",
       "      <td>5</td>\n",
       "      <td>True</td>\n",
       "    </tr>\n",
       "    <tr>\n",
       "      <th>14870</th>\n",
       "      <td>Spongebob Squarepants Cuddle Pillow</td>\n",
       "      <td>This Spongebob pillow is awesome.  It's very l...</td>\n",
       "      <td>5</td>\n",
       "      <td>True</td>\n",
       "    </tr>\n",
       "  </tbody>\n",
       "</table>\n",
       "<p>13423 rows × 4 columns</p>\n",
       "</div>"
      ],
      "text/plain": [
       "                                                    name  \\\n",
       "0      Pigeon Baby Nose Cleaning Tweezers Pigeon (Mad...   \n",
       "1      Pigeon Baby Nose Cleaning Tweezers Pigeon (Mad...   \n",
       "2      Pigeon Baby Nose Cleaning Tweezers Pigeon (Mad...   \n",
       "3      Pigeon Baby Nose Cleaning Tweezers Pigeon (Mad...   \n",
       "4      Pigeon Baby Nose Cleaning Tweezers Pigeon (Mad...   \n",
       "...                                                  ...   \n",
       "14866                Spongebob Squarepants Cuddle Pillow   \n",
       "14867                Spongebob Squarepants Cuddle Pillow   \n",
       "14868                Spongebob Squarepants Cuddle Pillow   \n",
       "14869                Spongebob Squarepants Cuddle Pillow   \n",
       "14870                Spongebob Squarepants Cuddle Pillow   \n",
       "\n",
       "                                                  review  rating  sentiment  \n",
       "0      This is a safe product used to clean the airwa...       4       True  \n",
       "1      I purchased this item after reading rave revie...       4       True  \n",
       "2      Honestly, this product is not worth the $7.45 ...       1      False  \n",
       "3      My wife has a nightly ritual of cleaning my da...       4       True  \n",
       "4      Very useful tool. Highly recommand it! I am us...       5       True  \n",
       "...                                                  ...     ...        ...  \n",
       "14866  My son said give it 5 stars so thats all that ...       5       True  \n",
       "14867  This is fairly big and the price is awesome co...       5       True  \n",
       "14868  This was a great purchase for my 2 year old ni...       5       True  \n",
       "14869  Most of the reviews I read before buying the p...       5       True  \n",
       "14870  This Spongebob pillow is awesome.  It's very l...       5       True  \n",
       "\n",
       "[13423 rows x 4 columns]"
      ]
     },
     "execution_count": 15,
     "metadata": {},
     "output_type": "execute_result"
    }
   ],
   "source": [
    "# print products dataset\n",
    "products"
   ]
  },
  {
   "cell_type": "code",
   "execution_count": 16,
   "metadata": {},
   "outputs": [
    {
     "data": {
      "text/plain": [
       "0"
      ]
     },
     "execution_count": 16,
     "metadata": {},
     "output_type": "execute_result"
    }
   ],
   "source": [
    "# See breakdown of postive and negative sentiments\n",
    "products['sentiment'].isna().sum()"
   ]
  },
  {
   "cell_type": "code",
   "execution_count": 17,
   "metadata": {},
   "outputs": [
    {
     "name": "stdout",
     "output_type": "stream",
     "text": [
      "(13423, 18830)\n",
      "(13423, 4)\n"
     ]
    }
   ],
   "source": [
    "# Check to see if the shape of the datasets are similar before concatinating them\n",
    "print(records_data.shape)\n",
    "print(products.shape)\n",
    "\n",
    "# Reset the index so that concatination can happen row-wise\n",
    "products = products.reset_index()\n",
    "records_data = records_data.reset_index()"
   ]
  },
  {
   "cell_type": "code",
   "execution_count": 18,
   "metadata": {},
   "outputs": [],
   "source": [
    "# concatinate the products sentiment series with the records DataFrame\n",
    "products['item_name'] = products['name']\n",
    "products_ = pd.concat([products['item_name'], products['sentiment'], records_data], axis = 1)"
   ]
  },
  {
   "cell_type": "code",
   "execution_count": 19,
   "metadata": {},
   "outputs": [],
   "source": [
    "## Train our sentiment classifier\n",
    "# Create first sentiment claddifier, and split data into test and training set\n",
    "train_data, test_data = train_test_split(products_, test_size=0.8, random_state=0)"
   ]
  },
  {
   "cell_type": "code",
   "execution_count": 20,
   "metadata": {},
   "outputs": [],
   "source": [
    "# create model matracies\n",
    "x_train = train_data.drop(columns = ['sentiment', 'item_name'])\n",
    "y_train = np.array(train_data['sentiment'])\n",
    "\n",
    "x_test = test_data.drop(columns = ['sentiment', 'item_name'])\n",
    "y_test = np.array(test_data['sentiment'])"
   ]
  },
  {
   "cell_type": "code",
   "execution_count": 21,
   "metadata": {},
   "outputs": [
    {
     "name": "stderr",
     "output_type": "stream",
     "text": [
      "C:\\Users\\Pratik\\Anaconda3\\lib\\site-packages\\sklearn\\linear_model\\_logistic.py:940: ConvergenceWarning: lbfgs failed to converge (status=1):\n",
      "STOP: TOTAL NO. of ITERATIONS REACHED LIMIT.\n",
      "\n",
      "Increase the number of iterations (max_iter) or scale the data as shown in:\n",
      "    https://scikit-learn.org/stable/modules/preprocessing.html\n",
      "Please also refer to the documentation for alternative solver options:\n",
      "    https://scikit-learn.org/stable/modules/linear_model.html#logistic-regression\n",
      "  extra_warning_msg=_LOGISTIC_SOLVER_CONVERGENCE_MSG)\n"
     ]
    }
   ],
   "source": [
    "# Run sentiment classification model\n",
    "logit_model = LogisticRegression(penalty = 'none', max_iter = 200)\n",
    "sentiment_model = logit_model.fit(x_train, y_train)"
   ]
  },
  {
   "cell_type": "code",
   "execution_count": 22,
   "metadata": {},
   "outputs": [
    {
     "name": "stderr",
     "output_type": "stream",
     "text": [
      "C:\\Users\\Pratik\\Anaconda3\\lib\\site-packages\\ipykernel_launcher.py:2: SettingWithCopyWarning: \n",
      "A value is trying to be set on a copy of a slice from a DataFrame.\n",
      "Try using .loc[row_indexer,col_indexer] = value instead\n",
      "\n",
      "See the caveats in the documentation: https://pandas.pydata.org/pandas-docs/stable/user_guide/indexing.html#returning-a-view-versus-a-copy\n",
      "  \n",
      "C:\\Users\\Pratik\\Anaconda3\\lib\\site-packages\\ipykernel_launcher.py:5: SettingWithCopyWarning: \n",
      "A value is trying to be set on a copy of a slice from a DataFrame.\n",
      "Try using .loc[row_indexer,col_indexer] = value instead\n",
      "\n",
      "See the caveats in the documentation: https://pandas.pydata.org/pandas-docs/stable/user_guide/indexing.html#returning-a-view-versus-a-copy\n",
      "  \"\"\"\n"
     ]
    }
   ],
   "source": [
    "# Predict the sentiment from the training data\n",
    "train_data['predicted_sentiment'] = sentiment_model.predict(x_train)\n",
    "\n",
    "# Predict the sentiment from the test data\n",
    "test_data['predicted_sentiment'] = sentiment_model.predict(x_test)"
   ]
  },
  {
   "cell_type": "code",
   "execution_count": 23,
   "metadata": {},
   "outputs": [
    {
     "name": "stdout",
     "output_type": "stream",
     "text": [
      "              precision    recall  f1-score   support\n",
      "\n",
      "       False       0.88      0.73      0.80       429\n",
      "        True       0.95      0.98      0.97      2255\n",
      "\n",
      "    accuracy                           0.94      2684\n",
      "   macro avg       0.91      0.86      0.88      2684\n",
      "weighted avg       0.94      0.94      0.94      2684\n",
      "\n"
     ]
    }
   ],
   "source": [
    "# See how the model does agianst in the training set\n",
    "print(classification_report(train_data['sentiment'], train_data['predicted_sentiment']))"
   ]
  },
  {
   "cell_type": "code",
   "execution_count": 24,
   "metadata": {},
   "outputs": [
    {
     "name": "stdout",
     "output_type": "stream",
     "text": [
      "              precision    recall  f1-score   support\n",
      "\n",
      "       False       0.68      0.50      0.58      1706\n",
      "        True       0.91      0.96      0.93      9033\n",
      "\n",
      "    accuracy                           0.88     10739\n",
      "   macro avg       0.79      0.73      0.75     10739\n",
      "weighted avg       0.87      0.88      0.88     10739\n",
      "\n"
     ]
    }
   ],
   "source": [
    "# See how the model does agianst in the test set\n",
    "print(classification_report(test_data['sentiment'], test_data['predicted_sentiment']))"
   ]
  },
  {
   "cell_type": "code",
   "execution_count": 25,
   "metadata": {},
   "outputs": [],
   "source": [
    "# Predict sentiment as a probability \n",
    "full_prediction_set = products_.drop(columns = ['item_name', 'sentiment'])\n",
    "products_['predicted_sentiment_Pos'] = sentiment_model.predict_proba(full_prediction_set)[:,1]"
   ]
  },
  {
   "cell_type": "code",
   "execution_count": 26,
   "metadata": {},
   "outputs": [],
   "source": [
    "# Combine the review back into the dataset\n",
    "products['review_of_item'] = products['review']\n",
    "products_ = pd.concat([products_, products['review_of_item']], axis = 1)"
   ]
  },
  {
   "cell_type": "code",
   "execution_count": 27,
   "metadata": {},
   "outputs": [],
   "source": [
    "# filter for desired product\n",
    "giraffe_reviews = products_[products_['item_name']== 'Vulli Sophie the Giraffe Teether']"
   ]
  },
  {
   "cell_type": "code",
   "execution_count": 28,
   "metadata": {},
   "outputs": [
    {
     "data": {
      "text/html": [
       "<div>\n",
       "<style scoped>\n",
       "    .dataframe tbody tr th:only-of-type {\n",
       "        vertical-align: middle;\n",
       "    }\n",
       "\n",
       "    .dataframe tbody tr th {\n",
       "        vertical-align: top;\n",
       "    }\n",
       "\n",
       "    .dataframe thead th {\n",
       "        text-align: right;\n",
       "    }\n",
       "</style>\n",
       "<table border=\"1\" class=\"dataframe\">\n",
       "  <thead>\n",
       "    <tr style=\"text-align: right;\">\n",
       "      <th></th>\n",
       "      <th>item_name</th>\n",
       "      <th>sentiment</th>\n",
       "      <th>level_0</th>\n",
       "      <th>00</th>\n",
       "      <th>000</th>\n",
       "      <th>01</th>\n",
       "      <th>02</th>\n",
       "      <th>03</th>\n",
       "      <th>04</th>\n",
       "      <th>05</th>\n",
       "      <th>...</th>\n",
       "      <th>zoom</th>\n",
       "      <th>zooming</th>\n",
       "      <th>zooms</th>\n",
       "      <th>zooper</th>\n",
       "      <th>zt</th>\n",
       "      <th>zumba</th>\n",
       "      <th>zurich</th>\n",
       "      <th>zzz</th>\n",
       "      <th>predicted_sentiment_Pos</th>\n",
       "      <th>review_of_item</th>\n",
       "    </tr>\n",
       "  </thead>\n",
       "  <tbody>\n",
       "    <tr>\n",
       "      <th>5853</th>\n",
       "      <td>Vulli Sophie the Giraffe Teether</td>\n",
       "      <td>True</td>\n",
       "      <td>5853</td>\n",
       "      <td>0</td>\n",
       "      <td>0</td>\n",
       "      <td>0</td>\n",
       "      <td>0</td>\n",
       "      <td>0</td>\n",
       "      <td>0</td>\n",
       "      <td>0</td>\n",
       "      <td>...</td>\n",
       "      <td>0</td>\n",
       "      <td>0</td>\n",
       "      <td>0</td>\n",
       "      <td>0</td>\n",
       "      <td>0</td>\n",
       "      <td>0</td>\n",
       "      <td>0</td>\n",
       "      <td>0</td>\n",
       "      <td>0.990888</td>\n",
       "      <td>He likes chewing on all the parts especially t...</td>\n",
       "    </tr>\n",
       "    <tr>\n",
       "      <th>5854</th>\n",
       "      <td>Vulli Sophie the Giraffe Teether</td>\n",
       "      <td>True</td>\n",
       "      <td>5854</td>\n",
       "      <td>0</td>\n",
       "      <td>0</td>\n",
       "      <td>0</td>\n",
       "      <td>0</td>\n",
       "      <td>0</td>\n",
       "      <td>0</td>\n",
       "      <td>0</td>\n",
       "      <td>...</td>\n",
       "      <td>0</td>\n",
       "      <td>0</td>\n",
       "      <td>0</td>\n",
       "      <td>0</td>\n",
       "      <td>0</td>\n",
       "      <td>0</td>\n",
       "      <td>0</td>\n",
       "      <td>0</td>\n",
       "      <td>0.999640</td>\n",
       "      <td>My son loves this toy and fits great in the di...</td>\n",
       "    </tr>\n",
       "    <tr>\n",
       "      <th>5855</th>\n",
       "      <td>Vulli Sophie the Giraffe Teether</td>\n",
       "      <td>False</td>\n",
       "      <td>5855</td>\n",
       "      <td>0</td>\n",
       "      <td>0</td>\n",
       "      <td>0</td>\n",
       "      <td>0</td>\n",
       "      <td>0</td>\n",
       "      <td>0</td>\n",
       "      <td>0</td>\n",
       "      <td>...</td>\n",
       "      <td>0</td>\n",
       "      <td>0</td>\n",
       "      <td>0</td>\n",
       "      <td>0</td>\n",
       "      <td>0</td>\n",
       "      <td>0</td>\n",
       "      <td>0</td>\n",
       "      <td>0</td>\n",
       "      <td>0.996109</td>\n",
       "      <td>There really should be a large warning on the ...</td>\n",
       "    </tr>\n",
       "    <tr>\n",
       "      <th>5856</th>\n",
       "      <td>Vulli Sophie the Giraffe Teether</td>\n",
       "      <td>True</td>\n",
       "      <td>5856</td>\n",
       "      <td>0</td>\n",
       "      <td>0</td>\n",
       "      <td>0</td>\n",
       "      <td>0</td>\n",
       "      <td>0</td>\n",
       "      <td>0</td>\n",
       "      <td>0</td>\n",
       "      <td>...</td>\n",
       "      <td>0</td>\n",
       "      <td>0</td>\n",
       "      <td>0</td>\n",
       "      <td>0</td>\n",
       "      <td>0</td>\n",
       "      <td>0</td>\n",
       "      <td>0</td>\n",
       "      <td>0</td>\n",
       "      <td>0.956139</td>\n",
       "      <td>All the moms in my moms' group got Sophie for ...</td>\n",
       "    </tr>\n",
       "    <tr>\n",
       "      <th>5857</th>\n",
       "      <td>Vulli Sophie the Giraffe Teether</td>\n",
       "      <td>True</td>\n",
       "      <td>5857</td>\n",
       "      <td>0</td>\n",
       "      <td>0</td>\n",
       "      <td>0</td>\n",
       "      <td>0</td>\n",
       "      <td>0</td>\n",
       "      <td>0</td>\n",
       "      <td>0</td>\n",
       "      <td>...</td>\n",
       "      <td>0</td>\n",
       "      <td>0</td>\n",
       "      <td>0</td>\n",
       "      <td>0</td>\n",
       "      <td>0</td>\n",
       "      <td>0</td>\n",
       "      <td>0</td>\n",
       "      <td>0</td>\n",
       "      <td>0.129746</td>\n",
       "      <td>I was a little skeptical on whether Sophie was...</td>\n",
       "    </tr>\n",
       "    <tr>\n",
       "      <th>...</th>\n",
       "      <td>...</td>\n",
       "      <td>...</td>\n",
       "      <td>...</td>\n",
       "      <td>...</td>\n",
       "      <td>...</td>\n",
       "      <td>...</td>\n",
       "      <td>...</td>\n",
       "      <td>...</td>\n",
       "      <td>...</td>\n",
       "      <td>...</td>\n",
       "      <td>...</td>\n",
       "      <td>...</td>\n",
       "      <td>...</td>\n",
       "      <td>...</td>\n",
       "      <td>...</td>\n",
       "      <td>...</td>\n",
       "      <td>...</td>\n",
       "      <td>...</td>\n",
       "      <td>...</td>\n",
       "      <td>...</td>\n",
       "      <td>...</td>\n",
       "    </tr>\n",
       "    <tr>\n",
       "      <th>6560</th>\n",
       "      <td>Vulli Sophie the Giraffe Teether</td>\n",
       "      <td>True</td>\n",
       "      <td>6560</td>\n",
       "      <td>0</td>\n",
       "      <td>0</td>\n",
       "      <td>0</td>\n",
       "      <td>0</td>\n",
       "      <td>0</td>\n",
       "      <td>0</td>\n",
       "      <td>0</td>\n",
       "      <td>...</td>\n",
       "      <td>0</td>\n",
       "      <td>0</td>\n",
       "      <td>0</td>\n",
       "      <td>0</td>\n",
       "      <td>0</td>\n",
       "      <td>0</td>\n",
       "      <td>0</td>\n",
       "      <td>0</td>\n",
       "      <td>0.881362</td>\n",
       "      <td>My baby looooves this teether!  I think she li...</td>\n",
       "    </tr>\n",
       "    <tr>\n",
       "      <th>6561</th>\n",
       "      <td>Vulli Sophie the Giraffe Teether</td>\n",
       "      <td>True</td>\n",
       "      <td>6561</td>\n",
       "      <td>0</td>\n",
       "      <td>0</td>\n",
       "      <td>0</td>\n",
       "      <td>0</td>\n",
       "      <td>0</td>\n",
       "      <td>0</td>\n",
       "      <td>0</td>\n",
       "      <td>...</td>\n",
       "      <td>0</td>\n",
       "      <td>0</td>\n",
       "      <td>0</td>\n",
       "      <td>0</td>\n",
       "      <td>0</td>\n",
       "      <td>0</td>\n",
       "      <td>0</td>\n",
       "      <td>0</td>\n",
       "      <td>0.998665</td>\n",
       "      <td>My 5 month old baby loves it. Easy to hold and...</td>\n",
       "    </tr>\n",
       "    <tr>\n",
       "      <th>6562</th>\n",
       "      <td>Vulli Sophie the Giraffe Teether</td>\n",
       "      <td>True</td>\n",
       "      <td>6562</td>\n",
       "      <td>0</td>\n",
       "      <td>0</td>\n",
       "      <td>0</td>\n",
       "      <td>0</td>\n",
       "      <td>0</td>\n",
       "      <td>0</td>\n",
       "      <td>0</td>\n",
       "      <td>...</td>\n",
       "      <td>0</td>\n",
       "      <td>0</td>\n",
       "      <td>0</td>\n",
       "      <td>0</td>\n",
       "      <td>0</td>\n",
       "      <td>0</td>\n",
       "      <td>0</td>\n",
       "      <td>0</td>\n",
       "      <td>0.999057</td>\n",
       "      <td>My daughter has had this giraffe since she was...</td>\n",
       "    </tr>\n",
       "    <tr>\n",
       "      <th>6563</th>\n",
       "      <td>Vulli Sophie the Giraffe Teether</td>\n",
       "      <td>True</td>\n",
       "      <td>6563</td>\n",
       "      <td>0</td>\n",
       "      <td>0</td>\n",
       "      <td>0</td>\n",
       "      <td>0</td>\n",
       "      <td>0</td>\n",
       "      <td>0</td>\n",
       "      <td>0</td>\n",
       "      <td>...</td>\n",
       "      <td>0</td>\n",
       "      <td>0</td>\n",
       "      <td>0</td>\n",
       "      <td>0</td>\n",
       "      <td>0</td>\n",
       "      <td>0</td>\n",
       "      <td>0</td>\n",
       "      <td>0</td>\n",
       "      <td>0.997308</td>\n",
       "      <td>My Grandson loves his Sophie.  Would recommend...</td>\n",
       "    </tr>\n",
       "    <tr>\n",
       "      <th>6564</th>\n",
       "      <td>Vulli Sophie the Giraffe Teether</td>\n",
       "      <td>False</td>\n",
       "      <td>6564</td>\n",
       "      <td>0</td>\n",
       "      <td>0</td>\n",
       "      <td>0</td>\n",
       "      <td>0</td>\n",
       "      <td>0</td>\n",
       "      <td>0</td>\n",
       "      <td>0</td>\n",
       "      <td>...</td>\n",
       "      <td>0</td>\n",
       "      <td>0</td>\n",
       "      <td>0</td>\n",
       "      <td>0</td>\n",
       "      <td>0</td>\n",
       "      <td>0</td>\n",
       "      <td>0</td>\n",
       "      <td>0</td>\n",
       "      <td>0.187365</td>\n",
       "      <td>Maybe I got defective one.  Baby was chewing o...</td>\n",
       "    </tr>\n",
       "  </tbody>\n",
       "</table>\n",
       "<p>712 rows × 18835 columns</p>\n",
       "</div>"
      ],
      "text/plain": [
       "                             item_name  sentiment  level_0  00  000  01  02  \\\n",
       "5853  Vulli Sophie the Giraffe Teether       True     5853   0    0   0   0   \n",
       "5854  Vulli Sophie the Giraffe Teether       True     5854   0    0   0   0   \n",
       "5855  Vulli Sophie the Giraffe Teether      False     5855   0    0   0   0   \n",
       "5856  Vulli Sophie the Giraffe Teether       True     5856   0    0   0   0   \n",
       "5857  Vulli Sophie the Giraffe Teether       True     5857   0    0   0   0   \n",
       "...                                ...        ...      ...  ..  ...  ..  ..   \n",
       "6560  Vulli Sophie the Giraffe Teether       True     6560   0    0   0   0   \n",
       "6561  Vulli Sophie the Giraffe Teether       True     6561   0    0   0   0   \n",
       "6562  Vulli Sophie the Giraffe Teether       True     6562   0    0   0   0   \n",
       "6563  Vulli Sophie the Giraffe Teether       True     6563   0    0   0   0   \n",
       "6564  Vulli Sophie the Giraffe Teether      False     6564   0    0   0   0   \n",
       "\n",
       "      03  04  05  ...  zoom  zooming  zooms  zooper  zt  zumba  zurich  zzz  \\\n",
       "5853   0   0   0  ...     0        0      0       0   0      0       0    0   \n",
       "5854   0   0   0  ...     0        0      0       0   0      0       0    0   \n",
       "5855   0   0   0  ...     0        0      0       0   0      0       0    0   \n",
       "5856   0   0   0  ...     0        0      0       0   0      0       0    0   \n",
       "5857   0   0   0  ...     0        0      0       0   0      0       0    0   \n",
       "...   ..  ..  ..  ...   ...      ...    ...     ...  ..    ...     ...  ...   \n",
       "6560   0   0   0  ...     0        0      0       0   0      0       0    0   \n",
       "6561   0   0   0  ...     0        0      0       0   0      0       0    0   \n",
       "6562   0   0   0  ...     0        0      0       0   0      0       0    0   \n",
       "6563   0   0   0  ...     0        0      0       0   0      0       0    0   \n",
       "6564   0   0   0  ...     0        0      0       0   0      0       0    0   \n",
       "\n",
       "      predicted_sentiment_Pos  \\\n",
       "5853                 0.990888   \n",
       "5854                 0.999640   \n",
       "5855                 0.996109   \n",
       "5856                 0.956139   \n",
       "5857                 0.129746   \n",
       "...                       ...   \n",
       "6560                 0.881362   \n",
       "6561                 0.998665   \n",
       "6562                 0.999057   \n",
       "6563                 0.997308   \n",
       "6564                 0.187365   \n",
       "\n",
       "                                         review_of_item  \n",
       "5853  He likes chewing on all the parts especially t...  \n",
       "5854  My son loves this toy and fits great in the di...  \n",
       "5855  There really should be a large warning on the ...  \n",
       "5856  All the moms in my moms' group got Sophie for ...  \n",
       "5857  I was a little skeptical on whether Sophie was...  \n",
       "...                                                 ...  \n",
       "6560  My baby looooves this teether!  I think she li...  \n",
       "6561  My 5 month old baby loves it. Easy to hold and...  \n",
       "6562  My daughter has had this giraffe since she was...  \n",
       "6563  My Grandson loves his Sophie.  Would recommend...  \n",
       "6564  Maybe I got defective one.  Baby was chewing o...  \n",
       "\n",
       "[712 rows x 18835 columns]"
      ]
     },
     "execution_count": 28,
     "metadata": {},
     "output_type": "execute_result"
    }
   ],
   "source": [
    "# Print dataset of desired product\n",
    "giraffe_reviews"
   ]
  },
  {
   "cell_type": "code",
   "execution_count": 29,
   "metadata": {},
   "outputs": [],
   "source": [
    "#Sort the Giraffe reviews according to predicted sentiment\n",
    "giraffe_reviews = giraffe_reviews.sort_values(['predicted_sentiment_Pos'], ascending=False)"
   ]
  },
  {
   "cell_type": "code",
   "execution_count": null,
   "metadata": {},
   "outputs": [],
   "source": []
  },
  {
   "cell_type": "code",
   "execution_count": 38,
   "metadata": {},
   "outputs": [
    {
     "name": "stdout",
     "output_type": "stream",
     "text": [
      "Predicted Positive Sentiment 0.9999999999947886\n",
      "Sophie, oh Sophie, your time has come. My granddaughter, Violet is 5 months old and starting to teeth. What joy little Sophie brings to Violet. Sophie is made of a very pliable rubber that is sturdy but not tough. It is quite easy for Violet to twist Sophie into unheard of positions to get Sophie into her mouth. The little nose and hooves fit perfectly into small mouths, and the drooling has purpose. The paint on Sophie is food quality.Sophie was born in 1961 in France. The maker had wondered why there was nothing available for babies and made Sophie from the finest rubber, phthalate-free on St Sophie's Day, thus the name was born. Since that time millions of Sophie's populate the world. She is soft and for babies little hands easy to grasp. Violet especially loves the bumpy head and horns of Sophie. Sophie has a long neck that easy to grasp and twist. She has lovely, sizable spots that attract Violet's attention. Sophie has happy little squeaks that bring squeals of delight from Violet. She is able to make Sophie squeak and that brings much joy. Sophie's smooth skin is soothing to Violet's little gums. Sophie is 7 inches tall and is the exact correct size for babies to hold and love.As you well know the first thing babies grasp, goes into their mouths- how wonderful to have a toy that stimulates all of the senses and helps with the issue of teething. Sophie is small enough to fit into any size pocket or bag. Sophie is the perfect find for babies from a few months to a year old. How wonderful to hear the giggles and laughs that emanate from babies who find Sophie irresistible. Viva La Sophie!Highly Recommended.  prisrob 12-11-09\n"
     ]
    }
   ],
   "source": [
    "# print sorted sentiments\n",
    "first_review = np.array(giraffe_reviews['review_of_item'])[0]\n",
    "print('Predicted Positive Sentiment', np.array(giraffe_reviews['predicted_sentiment_Pos'])[0])\n",
    "print(first_review)"
   ]
  },
  {
   "cell_type": "code",
   "execution_count": 37,
   "metadata": {},
   "outputs": [
    {
     "name": "stdout",
     "output_type": "stream",
     "text": [
      "Predicted Positive Sentiment 0.000480259336881877\n",
      "After reading endless reviews on this thing, I finally decided to dish out the money for this toy. Once I got it in the mail, I was already a little disappointed - it looks just like a rubber dog toy you buy from petsmart, squeaks like one too. I still wanted to try it out because I was desperate to find something to help alleviate my son's teething pain, but the dog was more interested than he was. It didn't seem to help him. I just wanted to share this for the moms on here who are willing to buy anything to help with their baby's teething pain. This isn't the toy. My son likes a cold pacifier, the silicone raspberry teether (costs only $4) or even the tip of his baby spoons better than this thing. It certainly shouldn't be amazon's #1 baby item.\n"
     ]
    }
   ],
   "source": [
    "# get lowest sentiment probabilities\n",
    "print('Predicted Positive Sentiment', np.array(giraffe_reviews['predicted_sentiment_Pos'].tail())[-1])\n",
    "print(np.array(giraffe_reviews['review_of_item'].tail())[-1])\n"
   ]
  },
  {
   "cell_type": "code",
   "execution_count": 39,
   "metadata": {},
   "outputs": [
    {
     "name": "stdout",
     "output_type": "stream",
     "text": [
      "Predicted Positive Sentiment, Second 0.9999999996430238\n",
      "As every mom knows, you always want to give your children the best you can.  Though I thought it was a bit expensive, I had read many good reviews about the Vulli Sophie Giraffe Teether and wanted to get one for my baby girl.  And because Sophie is made from all natural rubber and decorated with food-grade coloring, I felt it would be worth the extra money to have the peace of mind knowing that there are no toxic paints, plastics, or dangerous small parts for my daughter to ingest.  She has had an easy time teething (she has 2 lower center teeth with 4 coming in on top and 2 more on the bottom), but she still likes to chew on her little Sophie Giraffe.  Sophie's long skinny neck and legs are easy for my daughter's small hands to hold.  My little girl loves to nibble on Sophie's ears, horns, and feet.  Plus, I think this little giraffe is just so cute.  Also, just as an anecdote: When I first offered Sophie to my daughter, she was NOT interested.  The squeak was a bit loud for her, and the natural rubber taste was different for her.  I thought I may have wasted $18.  However, over time, my daughter has really come to like Sophie.  She will smile and reach for Sophie when I offer it to her, and she seems to enjoy chewing on Sophie.  I am glad I bought this teether, and because it is gender neutral, I know I can use it in the future whether I have another girl or a boy.\n"
     ]
    }
   ],
   "source": [
    "# Show the 2nd most positive reviews\n",
    "second_review = np.array(giraffe_reviews['review_of_item'])[1]\n",
    "print('Predicted Positive Sentiment, Second', np.array(giraffe_reviews['predicted_sentiment_Pos'])[1])\n",
    "print(second_review)"
   ]
  },
  {
   "cell_type": "code",
   "execution_count": 36,
   "metadata": {},
   "outputs": [
    {
     "data": {
      "text/plain": [
       "{'roc_curve': Columns:\n",
       " \tthreshold\tfloat\n",
       " \tfpr\tfloat\n",
       " \ttpr\tfloat\n",
       " \tp\tint\n",
       " \tn\tint\n",
       " \n",
       " Rows: 100001\n",
       " \n",
       " Data:\n",
       " +-----------+--------------------+--------------------+-------+------+\n",
       " | threshold |        fpr         |        tpr         |   p   |  n   |\n",
       " +-----------+--------------------+--------------------+-------+------+\n",
       " |    0.0    |        1.0         |        1.0         | 27976 | 5328 |\n",
       " |   1e-05   | 0.847972972972973  | 0.9975693451529882 | 27976 | 5328 |\n",
       " |   2e-05   | 0.829954954954955  | 0.9971761509865599 | 27976 | 5328 |\n",
       " |   3e-05   | 0.818506006006006  | 0.9969616814412353 | 27976 | 5328 |\n",
       " |   4e-05   | 0.8109984984984985 | 0.9967472118959108 | 27976 | 5328 |\n",
       " |   5e-05   | 0.8057432432432432 | 0.9966042321990277 | 27976 | 5328 |\n",
       " |   6e-05   | 0.7991741741741741 | 0.9962825278810409 | 27976 | 5328 |\n",
       " |   7e-05   | 0.7952327327327328 | 0.9961752931083786 | 27976 | 5328 |\n",
       " |   8e-05   | 0.7920420420420421 | 0.9961038032599371 | 27976 | 5328 |\n",
       " |   9e-05   | 0.7882882882882883 | 0.9958893337146125 | 27976 | 5328 |\n",
       " +-----------+--------------------+--------------------+-------+------+\n",
       " [100001 rows x 5 columns]\n",
       " Note: Only the head of the SFrame is printed.\n",
       " You can use print_rows(num_rows=m, num_columns=n) to print more rows and columns.}"
      ]
     },
     "execution_count": 36,
     "metadata": {},
     "output_type": "execute_result"
    }
   ],
   "source": [
    "# get ROC curve for sentiment analysis results\n",
    "sentiment_model.evaluate(test_data, metric=\"roc_curve\")"
   ]
  }
 ],
 "metadata": {
  "kernelspec": {
   "display_name": "Python 3",
   "language": "python",
   "name": "python3"
  },
  "language_info": {
   "codemirror_mode": {
    "name": "ipython",
    "version": 3
   },
   "file_extension": ".py",
   "mimetype": "text/x-python",
   "name": "python",
   "nbconvert_exporter": "python",
   "pygments_lexer": "ipython3",
   "version": "3.7.7"
  }
 },
 "nbformat": 4,
 "nbformat_minor": 2
}
